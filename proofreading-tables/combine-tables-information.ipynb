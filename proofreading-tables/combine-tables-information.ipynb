{
 "cells": [
  {
   "cell_type": "markdown",
   "id": "26138994",
   "metadata": {},
   "source": [
    "# Combining information from two tables "
   ]
  },
  {
   "cell_type": "markdown",
   "id": "c05ffcad",
   "metadata": {},
   "source": [
    "This notebook contains code to compare and copy-paste information from one dataframe to another if the identity is the same"
   ]
  },
  {
   "cell_type": "code",
   "execution_count": 2,
   "id": "e33729fb",
   "metadata": {},
   "outputs": [
    {
     "name": "stderr",
     "output_type": "stream",
     "text": [
      "C:\\Users\\sebas\\anaconda3\\envs\\EM\\lib\\site-packages\\blessed\\terminal.py:186: UserWarning: Failed to setupterm(kind='xterm-color'): Could not find terminal xterm-color\n",
      "  warnings.warn(msg)\n"
     ]
    }
   ],
   "source": [
    "import os\n",
    "import pandas as pd\n",
    "import numpy as np\n",
    "from fafbseg import flywire\n",
    "from caveclient import CAVEclient\n",
    "client = CAVEclient('flywire_fafb_production')"
   ]
  },
  {
   "cell_type": "markdown",
   "id": "932839de",
   "metadata": {},
   "source": [
    "## A) Choosing, loading and updating tables\n"
   ]
  },
  {
   "cell_type": "markdown",
   "id": "860efd71",
   "metadata": {},
   "source": [
    "### Chossing files of interest and data to transfer"
   ]
  },
  {
   "cell_type": "code",
   "execution_count": 3,
   "id": "860220bc",
   "metadata": {},
   "outputs": [],
   "source": [
    "# Choose path and file\n",
    "dataPath = r'D:\\Connectomics-Data\\FlyWire\\Excels\\drive-data-sets'\n",
    "\n",
    "date = '20230526'\n",
    "fileName_list = [f'All_Tm9_neurons_input_count_ME_R_{date}.xlsx',\n",
    "                 f'All_Tm9_neurons_input_count_ME_R_no_twig_proofread_{date}.xlsx']\n",
    "\n",
    "filePath_list = []\n",
    "for fileName in fileName_list:\n",
    "    filePath_list.append(os.path.join(dataPath,fileName))\n"
   ]
  },
  {
   "cell_type": "code",
   "execution_count": 308,
   "id": "955e3958",
   "metadata": {},
   "outputs": [],
   "source": [
    "#Choose column information to compare and to transfer\n",
    "columns_to_compare = ['presynaptic_ID', 'postsynaptic_ID', 'seg_id']\n",
    "columns_to_transfer_based_on_pre = ['presynaptic_ID','postsynaptic_ID','symbol','guess','hemisphere','lab', 'author','name','twigs proofread (Y/N)', \n",
    "                                    'FlyWire proofread (Y/N)','identified_in', 'lab authorship (Y/N)', 'Extra notes as comments (initials)']\n",
    "columns_to_transfer_based_on_post = ['presynaptic_ID','postsynaptic_ID', 'optic_lobe_id','column_id','detached_lamina (Y/N)', 'healthy_L3 (Y/N)']\n"
   ]
  },
  {
   "cell_type": "markdown",
   "id": "c7fe861d",
   "metadata": {},
   "source": [
    "### Loading files as distict dataframes"
   ]
  },
  {
   "cell_type": "code",
   "execution_count": 175,
   "id": "5ed19322",
   "metadata": {},
   "outputs": [],
   "source": [
    "# The distinct dataframes will be stored in a dictionary\n",
    "\n",
    "data_frames = dict()\n",
    "\n",
    "for i in range(1, len(filePath_list)+1):\n",
    "    data_frames['df_%02d' % i] = pd.read_excel(filePath_list[i-1])\n",
    "    #Dropping the fisrt row ('asdf' was added as a walk-around to set that column values as type str)\n",
    "    if data_frames['df_%02d' % i][\"postsynaptic_ID\"][0] == 'asdf': \n",
    "        data_frames['df_%02d' % i] = data_frames['df_%02d' % i].iloc[1: , :]\n",
    "        data_frames['df_%02d' % i].reset_index(inplace=True,drop=True)"
   ]
  },
  {
   "cell_type": "markdown",
   "id": "7df73ccd",
   "metadata": {},
   "source": [
    "### Updating column information"
   ]
  },
  {
   "cell_type": "code",
   "execution_count": 177,
   "id": "5fc59795",
   "metadata": {},
   "outputs": [],
   "source": [
    "# The distinct columns to update and the updated versions of them will be stored dictionaries\n",
    "\n",
    "columns_to_update = dict()\n",
    "for df_name in data_frames.keys():\n",
    "    curr_df = data_frames[df_name]\n",
    "    for column_name in columns_to_compare:\n",
    "        columns_to_update[f'{df_name}_{column_name}'] = curr_df[column_name].copy()"
   ]
  },
  {
   "cell_type": "code",
   "execution_count": 179,
   "id": "8b1c0b22",
   "metadata": {},
   "outputs": [],
   "source": [
    "#Replacing the 'INPUTS PROOFREAD' labelled row of the lists for a well-known marker id\n",
    "\n",
    "marker_id = '720575940628553731' # VM1 ORN\n",
    "marker_id_update_df = flywire.update_ids(marker_id, stop_layer=2, supervoxels=None, timestamp=None, dataset='production', progress=True)\n",
    "marker_id_updated = marker_id_update_df[\"new_id\"][0]\n",
    "for key,value in columns_to_update.items():\n",
    "    for i, id in enumerate(value):\n",
    "        if id == 'INPUTS PROOFREAD':\n",
    "            value[i] = marker_id_updated # Replacement by the marker\n",
    "    "
   ]
  },
  {
   "cell_type": "code",
   "execution_count": 180,
   "id": "35303e35",
   "metadata": {},
   "outputs": [
    {
     "data": {
      "application/vnd.jupyter.widget-view+json": {
       "model_id": "",
       "version_major": 2,
       "version_minor": 0
      },
      "text/plain": [
       "Updating:   0%|          | 0/1351 [00:00<?, ?it/s]"
      ]
     },
     "metadata": {},
     "output_type": "display_data"
    },
    {
     "data": {
      "application/vnd.jupyter.widget-view+json": {
       "model_id": "",
       "version_major": 2,
       "version_minor": 0
      },
      "text/plain": [
       "Updating:   0%|          | 0/1351 [00:00<?, ?it/s]"
      ]
     },
     "metadata": {},
     "output_type": "display_data"
    },
    {
     "data": {
      "application/vnd.jupyter.widget-view+json": {
       "model_id": "",
       "version_major": 2,
       "version_minor": 0
      },
      "text/plain": [
       "Updating:   0%|          | 0/1351 [00:00<?, ?it/s]"
      ]
     },
     "metadata": {},
     "output_type": "display_data"
    },
    {
     "data": {
      "application/vnd.jupyter.widget-view+json": {
       "model_id": "",
       "version_major": 2,
       "version_minor": 0
      },
      "text/plain": [
       "Updating:   0%|          | 0/294 [00:00<?, ?it/s]"
      ]
     },
     "metadata": {},
     "output_type": "display_data"
    },
    {
     "data": {
      "application/vnd.jupyter.widget-view+json": {
       "model_id": "",
       "version_major": 2,
       "version_minor": 0
      },
      "text/plain": [
       "Updating:   0%|          | 0/294 [00:00<?, ?it/s]"
      ]
     },
     "metadata": {},
     "output_type": "display_data"
    },
    {
     "data": {
      "application/vnd.jupyter.widget-view+json": {
       "model_id": "",
       "version_major": 2,
       "version_minor": 0
      },
      "text/plain": [
       "Updating:   0%|          | 0/294 [00:00<?, ?it/s]"
      ]
     },
     "metadata": {},
     "output_type": "display_data"
    }
   ],
   "source": [
    "# Updating the different columns. Information is stored in a dictionary\n",
    "updated_columns = dict()\n",
    "updated_columns_confidence = dict()\n",
    "for key, value in columns_to_update.items():\n",
    "    temp_segmentIDs_df = flywire.update_ids(value.tolist(), stop_layer=2, supervoxels=None, timestamp=None, dataset='production', progress=True)\n",
    "    updated_value = temp_segmentIDs_df[\"new_id\"]\n",
    "    confidence_of_update = temp_segmentIDs_df[\"confidence\"]\n",
    "    updated_columns[key] = updated_value\n",
    "    updated_columns_confidence[key] = confidence_of_update\n",
    "    "
   ]
  },
  {
   "cell_type": "markdown",
   "id": "79088b68",
   "metadata": {},
   "source": [
    "### Updating dataframe information"
   ]
  },
  {
   "cell_type": "code",
   "execution_count": 182,
   "id": "392254de",
   "metadata": {},
   "outputs": [],
   "source": [
    "# Restoring the initial INPUTS PROOFREAD' marker\n",
    "for key, series in updated_columns.items():\n",
    "    updated_columns[key] = series.replace(to_replace = int(marker_id), value = 'INPUTS PROOFREAD')\n",
    "    "
   ]
  },
  {
   "cell_type": "code",
   "execution_count": 184,
   "id": "c3c7ca08",
   "metadata": {},
   "outputs": [],
   "source": [
    "#Updating the different dataframes inplace\n",
    "for df_name, df_values in data_frames.items():\n",
    "    for column_name in columns_to_compare:\n",
    "        data_frames[df_name][column_name] =  updated_columns[f'{df_name}_{column_name}']\n"
   ]
  },
  {
   "cell_type": "markdown",
   "id": "4c63c147",
   "metadata": {},
   "source": [
    "## B) Transfering data from a source data frame into another"
   ]
  },
  {
   "cell_type": "markdown",
   "id": "e9a214a2",
   "metadata": {},
   "source": [
    "### Define a function that performs the copy-paste operation"
   ]
  },
  {
   "cell_type": "code",
   "execution_count": 374,
   "id": "4d439069",
   "metadata": {},
   "outputs": [],
   "source": [
    "def update_dataframe(source_df, target_df, reference_column1, reference_column2):\n",
    "    # Create a dictionary mapping from the reference columns to the source DataFrame\n",
    "    reference_columns = [reference_column1, reference_column2]\n",
    "    reference_dict = source_df.groupby(reference_columns).first().reset_index().to_dict(orient='records')\n",
    "    reference_dict = {(row[reference_column1], row[reference_column2]): row for row in reference_dict}\n",
    "\n",
    "    # Update the target DataFrame based on the reference columns\n",
    "    for i, row in target_df.iterrows():\n",
    "        ref1 = row[reference_column1]\n",
    "        ref2 = row[reference_column2]\n",
    "        if (ref1, ref2) in reference_dict:\n",
    "            source_row = reference_dict[(ref1, ref2)]\n",
    "            target_df.loc[i] = source_row\n",
    "\n",
    "    return target_df"
   ]
  },
  {
   "cell_type": "markdown",
   "id": "d72230d9",
   "metadata": {},
   "source": [
    "### Provide the user-chosen columns and reference column as inputs to the function"
   ]
  },
  {
   "cell_type": "code",
   "execution_count": 375,
   "id": "38044315",
   "metadata": {},
   "outputs": [],
   "source": [
    "source_cols = columns_to_transfer_based_on_pre \n",
    "target_cols = columns_to_transfer_based_on_pre \n",
    "reference_column1 = 'presynaptic_ID'\n",
    "reference_column2 = 'postsynaptic_ID'"
   ]
  },
  {
   "cell_type": "markdown",
   "id": "ed30e617",
   "metadata": {},
   "source": [
    "### Call the function with the source and target data frames and the provided inputs"
   ]
  },
  {
   "cell_type": "code",
   "execution_count": 390,
   "id": "d4417a3c",
   "metadata": {},
   "outputs": [],
   "source": [
    "source_df = data_frames['df_01'][source_cols].copy()\n",
    "target_df = data_frames['df_02'][target_cols].copy()\n",
    "\n",
    "source_df = source_df.astype(str)\n",
    "target_df = target_df.astype(str)\n",
    "\n",
    "result_df = update_dataframe(source_df, target_df,reference_column1, reference_column2)\n",
    "presynaptic_result_df = result_df.copy()"
   ]
  },
  {
   "cell_type": "markdown",
   "id": "ffa63c52",
   "metadata": {},
   "source": [
    "### Repeating the same process but for postsynaptic_id-based information"
   ]
  },
  {
   "cell_type": "code",
   "execution_count": 391,
   "id": "7cfb450d",
   "metadata": {},
   "outputs": [],
   "source": [
    "source_cols = columns_to_transfer_based_on_post \n",
    "target_cols = columns_to_transfer_based_on_post \n",
    "reference_column1 = 'presynaptic_ID'\n",
    "reference_column2 = 'postsynaptic_ID'\n",
    "\n",
    "source_df = data_frames['df_01'][source_cols].copy()\n",
    "target_df = data_frames['df_02'][target_cols].copy()\n",
    "\n",
    "source_df = source_df.astype(str)\n",
    "target_df = target_df.astype(str)\n",
    "\n",
    "result_df = update_dataframe(source_df, target_df,reference_column1, reference_column2)\n",
    "postsynaptic_result_df = result_df.copy()"
   ]
  },
  {
   "cell_type": "markdown",
   "id": "002e2e0c",
   "metadata": {},
   "source": [
    "### Combining the data frames and saving the data in an excel file"
   ]
  },
  {
   "cell_type": "code",
   "execution_count": 395,
   "id": "e00a69d6",
   "metadata": {},
   "outputs": [],
   "source": [
    "final_df = pd.concat([presynaptic_result_df,postsynaptic_result_df],axis=1)"
   ]
  },
  {
   "cell_type": "code",
   "execution_count": 398,
   "id": "05068261",
   "metadata": {},
   "outputs": [],
   "source": [
    "#Saving in a new file\n",
    "\n",
    "str_final_df = final_df.astype(str)\n",
    "\n",
    "import datetime\n",
    "x = datetime.datetime.now()\n",
    "date_str = x.strftime(\"%d\") + x.strftime(\"%b\") + x.strftime(\"%Y\")\n",
    "fileName_list[0]\n",
    "file_name = f'{fileName_list[1]}_UPDATED_from_{fileName_list[0]}_{date_str}.xlsx'\n",
    "savePath = os.path.join(dataPath, file_name)\n",
    "str_final_df.to_excel(savePath, sheet_name='Data frame update')"
   ]
  },
  {
   "cell_type": "code",
   "execution_count": null,
   "id": "cf3bed5b",
   "metadata": {},
   "outputs": [],
   "source": []
  }
 ],
 "metadata": {
  "kernelspec": {
   "display_name": "Python 3 (ipykernel)",
   "language": "python",
   "name": "python3"
  },
  "language_info": {
   "codemirror_mode": {
    "name": "ipython",
    "version": 3
   },
   "file_extension": ".py",
   "mimetype": "text/x-python",
   "name": "python",
   "nbconvert_exporter": "python",
   "pygments_lexer": "ipython3",
   "version": "3.7.4"
  }
 },
 "nbformat": 4,
 "nbformat_minor": 5
}
