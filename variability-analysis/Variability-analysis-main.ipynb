{
 "cells": [
  {
   "cell_type": "markdown",
   "id": "e8c21515",
   "metadata": {},
   "source": [
    "# Variability analysis of input counts"
   ]
  },
  {
   "cell_type": "markdown",
   "id": "74285134",
   "metadata": {},
   "source": [
    "<br>**CONTENT**\n",
    "<br>This notebook contains the following type of analysis and plot:\n",
    "\n",
    "<br>A) ---\n",
    "- X\n",
    "\n",
    "<br>B) ---\n",
    "- Y\n",
    "- Z"
   ]
  },
  {
   "cell_type": "code",
   "execution_count": 3,
   "id": "9a84df26",
   "metadata": {},
   "outputs": [],
   "source": [
    "#Importing packages\n",
    "import navis\n",
    "import fafbseg\n",
    "from fafbseg import flywire\n",
    "import numpy as np\n",
    "import pandas as pd\n",
    "import seaborn as sns\n",
    "import matplotlib.pyplot as plt\n",
    "import os\n",
    "from caveclient import CAVEclient\n",
    "client = CAVEclient('flywire_fafb_production')"
   ]
  },
  {
   "cell_type": "code",
   "execution_count": 2,
   "id": "9e1ea9ae",
   "metadata": {},
   "outputs": [],
   "source": [
    "#Plots settings\n",
    "\n",
    "font = {'family' : 'arial',\n",
    "        'weight' : 'normal',\n",
    "        'size'   : 12}\n",
    "axes = {'labelsize': 16, 'titlesize': 16}\n",
    "ticks = {'labelsize': 14}\n",
    "legend = {'fontsize': 14}\n",
    "plt.rc('font', **font)\n",
    "plt.rc('axes', **axes)\n",
    "plt.rc('xtick', **ticks)\n",
    "plt.rc('ytick', **ticks)"
   ]
  },
  {
   "cell_type": "markdown",
   "id": "849803b5",
   "metadata": {},
   "source": [
    "#### 1. Loading the data from an excell file"
   ]
  },
  {
   "cell_type": "code",
   "execution_count": null,
   "id": "ed7ae171",
   "metadata": {},
   "outputs": [],
   "source": [
    "#Choose path and file\n",
    "dataPath = r'C:\\Users\\sebas\\Downloads'\n",
    "fileDate = '20230111'\n",
    "fileName = f'All_Tm9_neurons_input_count_ME_R_impact_twig_proofreading_{fileDate}.xlsx'\n",
    "neuron_name = 'Tm9'\n",
    "filePath = os.path.join(dataPath,fileName)\n",
    "df = pd.read_excel(filePath)"
   ]
  }
 ],
 "metadata": {
  "kernelspec": {
   "display_name": "Python 3 (ipykernel)",
   "language": "python",
   "name": "python3"
  },
  "language_info": {
   "codemirror_mode": {
    "name": "ipython",
    "version": 3
   },
   "file_extension": ".py",
   "mimetype": "text/x-python",
   "name": "python",
   "nbconvert_exporter": "python",
   "pygments_lexer": "ipython3",
   "version": "3.7.4"
  }
 },
 "nbformat": 4,
 "nbformat_minor": 5
}
