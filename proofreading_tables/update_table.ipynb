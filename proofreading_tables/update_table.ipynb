{
 "cells": [
  {
   "cell_type": "markdown",
   "id": "2fbbfb0d",
   "metadata": {},
   "source": [
    "# Updating a proofreading table"
   ]
  },
  {
   "cell_type": "markdown",
   "id": "5355cfd2",
   "metadata": {},
   "source": [
    "This notebook contains functions and example scripts to update a proofreading table stored in an excel file"
   ]
  },
  {
   "cell_type": "code",
   "execution_count": 1,
   "id": "7e090bbe",
   "metadata": {},
   "outputs": [
    {
     "name": "stderr",
     "output_type": "stream",
     "text": [
      "C:\\Users\\sebas\\anaconda3\\envs\\EM\\lib\\site-packages\\blessed\\terminal.py:186: UserWarning: Failed to setupterm(kind='xterm-color'): Could not find terminal xterm-color\n",
      "  warnings.warn(msg)\n"
     ]
    }
   ],
   "source": [
    "import os\n",
    "import pandas as pd\n",
    "import numpy as np\n",
    "from fafbseg import flywire\n",
    "from caveclient import CAVEclient\n",
    "\n",
    "client = CAVEclient('flywire_fafb_production')"
   ]
  },
  {
   "cell_type": "markdown",
   "id": "fed0ec97",
   "metadata": {},
   "source": [
    "## A) Updating IDs"
   ]
  },
  {
   "cell_type": "markdown",
   "id": "73f4beeb",
   "metadata": {},
   "source": [
    "### 1. Loading the table"
   ]
  },
  {
   "cell_type": "code",
   "execution_count": 2,
   "id": "15183aa8",
   "metadata": {},
   "outputs": [],
   "source": [
    "# Choose path and file\n",
    "dataPath = r'C:\\Users\\sebas\\Downloads'\n",
    "fileName = 'All_Tm9_neurons_input_count_ME_R_20221103.xlsx'\n",
    "filePath = os.path.join(dataPath,fileName)"
   ]
  },
  {
   "cell_type": "code",
   "execution_count": null,
   "id": "079d3f98",
   "metadata": {},
   "outputs": [],
   "source": [
    "#Loading file as DataFrame\n",
    "df = pd.read_excel(filePath)\n",
    "if df[\"seg_id\"][0] == 'asdf': #Dropping the fisrt row ('asdf' was added as a walk-around to set that column values as type str)\n",
    "    df = df.iloc[1: , :]\n",
    "    df.reset_index(inplace=True,drop=True)\n",
    "display(df.head(1))\n",
    "segmentIDs = df[\"seg_id\"]\n",
    "pre_IDs = df[\"presynaptic_ID\"]\n",
    "post_IDs = df[\"postsynaptic_ID\"]"
   ]
  },
  {
   "cell_type": "markdown",
   "id": "6d77f535",
   "metadata": {},
   "source": [
    "### 1. Loading another dataframe"
   ]
  },
  {
   "cell_type": "code",
   "execution_count": 32,
   "id": "9371beb3",
   "metadata": {},
   "outputs": [],
   "source": [
    "# Choose path and file\n",
    "dataPath = r'C:\\Users\\sebas\\Downloads'\n",
    "fileName = 'Tm9 proofreadings_20221220.xlsx'\n",
    "filePath = os.path.join(dataPath,fileName)"
   ]
  },
  {
   "cell_type": "code",
   "execution_count": 33,
   "id": "cc1b0994",
   "metadata": {},
   "outputs": [
    {
     "data": {
      "text/html": [
       "<div>\n",
       "<style scoped>\n",
       "    .dataframe tbody tr th:only-of-type {\n",
       "        vertical-align: middle;\n",
       "    }\n",
       "\n",
       "    .dataframe tbody tr th {\n",
       "        vertical-align: top;\n",
       "    }\n",
       "\n",
       "    .dataframe thead th {\n",
       "        text-align: right;\n",
       "    }\n",
       "</style>\n",
       "<table border=\"1\" class=\"dataframe\">\n",
       "  <thead>\n",
       "    <tr style=\"text-align: right;\">\n",
       "      <th></th>\n",
       "      <th>XYZ soma</th>\n",
       "      <th>XYZ</th>\n",
       "      <th>voxel_raw_x</th>\n",
       "      <th>voxel_raw_y</th>\n",
       "      <th>voxel_raw_z</th>\n",
       "      <th>symbol</th>\n",
       "      <th>hemisphere</th>\n",
       "      <th>lab</th>\n",
       "      <th>author</th>\n",
       "      <th>name</th>\n",
       "      <th>...</th>\n",
       "      <th>twigs proofread (Y/N)</th>\n",
       "      <th>identified_in</th>\n",
       "      <th>lab authorship (Y/N)</th>\n",
       "      <th>notes</th>\n",
       "      <th>annotations_link</th>\n",
       "      <th>Extra notes (see comments)</th>\n",
       "      <th>Working on</th>\n",
       "      <th>cluster_id</th>\n",
       "      <th>patch_id</th>\n",
       "      <th>inputs_proofread (Y/N)</th>\n",
       "    </tr>\n",
       "  </thead>\n",
       "  <tbody>\n",
       "    <tr>\n",
       "      <th>0</th>\n",
       "      <td>61042, 90348, 5344</td>\n",
       "      <td>66139, 86342, 5433</td>\n",
       "      <td>66139</td>\n",
       "      <td>86342</td>\n",
       "      <td>5433</td>\n",
       "      <td>Tm9</td>\n",
       "      <td>R</td>\n",
       "      <td>Marion Silies</td>\n",
       "      <td>Jonas Chojetzki</td>\n",
       "      <td>Tm9, Tm9_R, transmedullary neuron Tm9, FBbt_00...</td>\n",
       "      <td>...</td>\n",
       "      <td>Y</td>\n",
       "      <td>Fischbach &amp; Dittrich, 1989</td>\n",
       "      <td>Y</td>\n",
       "      <td>marked as complete and identified</td>\n",
       "      <td>https://ngl.flywire.ai/?json_url=https://globa...</td>\n",
       "      <td>.</td>\n",
       "      <td>.</td>\n",
       "      <td>0</td>\n",
       "      <td>1</td>\n",
       "      <td>Y</td>\n",
       "    </tr>\n",
       "    <tr>\n",
       "      <th>1</th>\n",
       "      <td>60923, 89385, 5082</td>\n",
       "      <td>68466, 86246, 5321</td>\n",
       "      <td>68466</td>\n",
       "      <td>86246</td>\n",
       "      <td>5321</td>\n",
       "      <td>Tm9</td>\n",
       "      <td>R</td>\n",
       "      <td>Marion Silies</td>\n",
       "      <td>Jonas Chojetzki</td>\n",
       "      <td>Tm9, Tm9_R, transmedullary neuron Tm9, FBbt_00...</td>\n",
       "      <td>...</td>\n",
       "      <td>Y</td>\n",
       "      <td>Fischbach &amp; Dittrich, 1989</td>\n",
       "      <td>Y</td>\n",
       "      <td>marked as complete and identified</td>\n",
       "      <td>https://ngl.flywire.ai/?json_url=https://globa...</td>\n",
       "      <td>.</td>\n",
       "      <td>.</td>\n",
       "      <td>0</td>\n",
       "      <td>1</td>\n",
       "      <td>Y</td>\n",
       "    </tr>\n",
       "    <tr>\n",
       "      <th>2</th>\n",
       "      <td>49895, 76393, 5276</td>\n",
       "      <td>59942, 73078, 5380</td>\n",
       "      <td>59942</td>\n",
       "      <td>73078</td>\n",
       "      <td>5380</td>\n",
       "      <td>Tm9</td>\n",
       "      <td>R</td>\n",
       "      <td>Marion Silies</td>\n",
       "      <td>Jonas Chojetzki</td>\n",
       "      <td>Tm9, Tm9_R, transmedullary neuron Tm9, FBbt_00...</td>\n",
       "      <td>...</td>\n",
       "      <td>Y</td>\n",
       "      <td>Fischbach &amp; Dittrich, 1989</td>\n",
       "      <td>Y</td>\n",
       "      <td>marked as complete and identified</td>\n",
       "      <td>https://ngl.flywire.ai/?json_url=https://globa...</td>\n",
       "      <td>.</td>\n",
       "      <td>.</td>\n",
       "      <td>1</td>\n",
       "      <td>2</td>\n",
       "      <td>Y</td>\n",
       "    </tr>\n",
       "    <tr>\n",
       "      <th>3</th>\n",
       "      <td>48008, 75010, 5516</td>\n",
       "      <td>57862, 73661, 5554</td>\n",
       "      <td>57862</td>\n",
       "      <td>73661</td>\n",
       "      <td>5554</td>\n",
       "      <td>Tm9</td>\n",
       "      <td>R</td>\n",
       "      <td>Marion Silies</td>\n",
       "      <td>Annalena Oswald</td>\n",
       "      <td>Tm9, Tm9_R, transmedullary neuron Tm9, FBbt_00...</td>\n",
       "      <td>...</td>\n",
       "      <td>Y</td>\n",
       "      <td>Fischbach &amp; Dittrich, 1989</td>\n",
       "      <td>Y</td>\n",
       "      <td>marked as complete and identified</td>\n",
       "      <td>https://ngl.flywire.ai/?json_url=https://globa...</td>\n",
       "      <td>.</td>\n",
       "      <td>.</td>\n",
       "      <td>1</td>\n",
       "      <td>2</td>\n",
       "      <td>Y</td>\n",
       "    </tr>\n",
       "    <tr>\n",
       "      <th>4</th>\n",
       "      <td>48464, 73609, 5485</td>\n",
       "      <td>57238, 72829, 5661</td>\n",
       "      <td>57238</td>\n",
       "      <td>72829</td>\n",
       "      <td>5661</td>\n",
       "      <td>Tm9</td>\n",
       "      <td>R</td>\n",
       "      <td>Marion Silies</td>\n",
       "      <td>Annalena Oswald</td>\n",
       "      <td>Tm9, Tm9_R, transmedullary neuron Tm9, FBbt_00...</td>\n",
       "      <td>...</td>\n",
       "      <td>Y</td>\n",
       "      <td>Fischbach &amp; Dittrich, 1989</td>\n",
       "      <td>Y</td>\n",
       "      <td>marked as complete and identified</td>\n",
       "      <td>https://ngl.flywire.ai/?json_url=https://globa...</td>\n",
       "      <td>.</td>\n",
       "      <td>.</td>\n",
       "      <td>1</td>\n",
       "      <td>2</td>\n",
       "      <td>Y</td>\n",
       "    </tr>\n",
       "  </tbody>\n",
       "</table>\n",
       "<p>5 rows × 21 columns</p>\n",
       "</div>"
      ],
      "text/plain": [
       "             XYZ soma                 XYZ  voxel_raw_x  voxel_raw_y  \\\n",
       "0  61042, 90348, 5344  66139, 86342, 5433        66139        86342   \n",
       "1  60923, 89385, 5082  68466, 86246, 5321        68466        86246   \n",
       "2  49895, 76393, 5276  59942, 73078, 5380        59942        73078   \n",
       "3  48008, 75010, 5516  57862, 73661, 5554        57862        73661   \n",
       "4  48464, 73609, 5485  57238, 72829, 5661        57238        72829   \n",
       "\n",
       "   voxel_raw_z symbol hemisphere            lab           author  \\\n",
       "0         5433    Tm9          R  Marion Silies  Jonas Chojetzki   \n",
       "1         5321    Tm9          R  Marion Silies  Jonas Chojetzki   \n",
       "2         5380    Tm9          R  Marion Silies  Jonas Chojetzki   \n",
       "3         5554    Tm9          R  Marion Silies  Annalena Oswald   \n",
       "4         5661    Tm9          R  Marion Silies  Annalena Oswald   \n",
       "\n",
       "                                                name  ...  \\\n",
       "0  Tm9, Tm9_R, transmedullary neuron Tm9, FBbt_00...  ...   \n",
       "1  Tm9, Tm9_R, transmedullary neuron Tm9, FBbt_00...  ...   \n",
       "2  Tm9, Tm9_R, transmedullary neuron Tm9, FBbt_00...  ...   \n",
       "3  Tm9, Tm9_R, transmedullary neuron Tm9, FBbt_00...  ...   \n",
       "4  Tm9, Tm9_R, transmedullary neuron Tm9, FBbt_00...  ...   \n",
       "\n",
       "   twigs proofread (Y/N)               identified_in lab authorship (Y/N)  \\\n",
       "0                      Y  Fischbach & Dittrich, 1989                    Y   \n",
       "1                      Y  Fischbach & Dittrich, 1989                    Y   \n",
       "2                      Y  Fischbach & Dittrich, 1989                    Y   \n",
       "3                      Y  Fischbach & Dittrich, 1989                    Y   \n",
       "4                      Y  Fischbach & Dittrich, 1989                    Y   \n",
       "\n",
       "                               notes  \\\n",
       "0  marked as complete and identified   \n",
       "1  marked as complete and identified   \n",
       "2  marked as complete and identified   \n",
       "3  marked as complete and identified   \n",
       "4  marked as complete and identified   \n",
       "\n",
       "                                    annotations_link  \\\n",
       "0  https://ngl.flywire.ai/?json_url=https://globa...   \n",
       "1  https://ngl.flywire.ai/?json_url=https://globa...   \n",
       "2  https://ngl.flywire.ai/?json_url=https://globa...   \n",
       "3  https://ngl.flywire.ai/?json_url=https://globa...   \n",
       "4  https://ngl.flywire.ai/?json_url=https://globa...   \n",
       "\n",
       "  Extra notes (see comments) Working on cluster_id  patch_id  \\\n",
       "0                          .          .          0         1   \n",
       "1                          .          .          0         1   \n",
       "2                          .          .          1         2   \n",
       "3                          .          .          1         2   \n",
       "4                          .          .          1         2   \n",
       "\n",
       "  inputs_proofread (Y/N)  \n",
       "0                      Y  \n",
       "1                      Y  \n",
       "2                      Y  \n",
       "3                      Y  \n",
       "4                      Y  \n",
       "\n",
       "[5 rows x 21 columns]"
      ]
     },
     "metadata": {},
     "output_type": "display_data"
    }
   ],
   "source": [
    "#Loading file as DataFrame\n",
    "df = pd.read_excel(filePath)\n",
    "if df[\"seg_id\"][0] == 'asdf': #Dropping the fisrt row ('asdf' was added as a walk-around to set that column values as type str)\n",
    "    df = df.iloc[1: , :]\n",
    "    df.reset_index(inplace=True,drop=True)\n",
    "display(df.head())\n",
    "segmentIDs = df[\"seg_id\"].tolist()"
   ]
  },
  {
   "cell_type": "markdown",
   "id": "fd61e9ba",
   "metadata": {},
   "source": [
    "### 2. Update with CAVE (not preferred)"
   ]
  },
  {
   "cell_type": "code",
   "execution_count": 4,
   "id": "39d7f936",
   "metadata": {},
   "outputs": [],
   "source": [
    "#Update IDs witth chunkedgraph module of CAVE\n",
    "\n",
    "# For \"segmentsIDs\"\n",
    "#Empty spaces are type float and will be filled with \"0\"\n",
    "segmentsIDs_int = list(map(lambda x: 0 if type(x) == float else int(x),segmentIDs)) # From str to int\n",
    "#to create a np.zeros array is important for the next step\n",
    "new_segmentsIDs_int = list(map(lambda x: np.zeros(1) if x == 0 else client.chunkedgraph.get_latest_roots(x),segmentsIDs_int))\n",
    "#Updated IDs leading to more than one ID a single ID will be kept inside [] brakets.\n",
    "new_segmentsIDs_str = list(map(lambda x: str(x[0]) if x.size == 1 else x,new_segmentsIDs_int)) # From int to str"
   ]
  },
  {
   "cell_type": "code",
   "execution_count": 5,
   "id": "2527c493",
   "metadata": {},
   "outputs": [],
   "source": [
    "# For \"pre_IDs\"\n",
    "#Empty spaces are type float and will be filled with \"0\"\n",
    "pre_IDs_int = list(map(lambda x: 0 if type(x) == float or x == 'INPUTS PROOFREAD'  else int(x),pre_IDs)) # From str to int\n",
    "#to create a np.zeros array is important for the next step\n",
    "new_pre_IDs_int = list(map(lambda x: np.zeros(1) if x == 0 else client.chunkedgraph.get_latest_roots(x),pre_IDs_int))\n",
    "#Updated IDs leading to more than one ID a single ID will be kept inside [] brakets.\n",
    "new_pre_IDs_str = list(map(lambda x: str(x[0]) if x.size == 1 else x,new_pre_IDs_int)) # From int to str"
   ]
  },
  {
   "cell_type": "code",
   "execution_count": 7,
   "id": "eb41c2e9",
   "metadata": {},
   "outputs": [],
   "source": [
    "# For \"post_IDs\"\n",
    "#Empty spaces are type float and will be filled with \"0\"\n",
    "post_IDs_int = list(map(lambda x: 0 if type(x) == float else int(x),post_IDs)) # From str to int\n",
    "#to create a np.zeros array is important for the next step\n",
    "new_post_IDs_int = list(map(lambda x: np.zeros(1) if x == 0 else client.chunkedgraph.get_latest_roots(x),post_IDs_int))\n",
    "#Updated IDs leading to more than one ID a single ID will be kept inside [] brakets.\n",
    "new_post_IDs_str = list(map(lambda x: str(x[0]) if x.size == 1 else x,new_post_IDs_int)) # From int to str"
   ]
  },
  {
   "cell_type": "code",
   "execution_count": 124,
   "id": "5bbf4756",
   "metadata": {},
   "outputs": [
    {
     "name": "stdout",
     "output_type": "stream",
     "text": [
      "Looking at post_ID: 720575940627738884\n",
      "Looking at post_ID: 720575940633832287\n",
      "Looking at post_ID: 720575940607562251\n",
      "Looking at post_ID: 720575940612409571\n",
      "Looking at post_ID: 720575940623950059\n",
      "Looking at post_ID: 720575940618719915\n",
      "Looking at post_ID: 720575940638092863\n"
     ]
    }
   ],
   "source": [
    "### Seleting the right pre_ID if the update gaves more than one\n",
    "#Getting the correct pre_IDs than contact each post_ID\n",
    "\n",
    "from functools import reduce\n",
    "\n",
    "correct_IDs = {}\n",
    "curr_post_ID = 'Start'\n",
    "for idx,pre_IDs in  enumerate(new_pre_IDs_str):\n",
    "        \n",
    "    #If there are multiple IDs in an array\n",
    "    if type(pre_IDs) != str and type(pre_IDs) == np.ndarray:\n",
    "        #Creatting synapses dataframe only once per each post_ID\n",
    "        if curr_post_ID != new_post_IDs_str[idx]:\n",
    "            synapses = flywire.synapses.fetch_synapses(new_post_IDs_str[idx], pre=False, post=True, attach=True,\n",
    "                                          min_score=50, clean=True, transmitters=False,\n",
    "                                          neuropils=True, batch_size=30,\n",
    "                                          dataset='production', progress=True,mat=\"live\")\n",
    "            #Update post_ID\n",
    "            print(f\"Looking at post_ID: {new_post_IDs_str[idx]}\") \n",
    "            curr_post_ID = new_post_IDs_str[idx]\n",
    "            \n",
    "        #Proof connectivity to the respective post_ID for each of them\n",
    "        for ID in pre_IDs:\n",
    "            if synapses[synapses['pre'] == ID].empty:\n",
    "                continue\n",
    "            else: # Only add the pre_ID (and its index) which has valid synapses with the post_IDs\n",
    "                if idx in correct_IDs.keys(): # If there is already a valid ID, add other valid IDs \n",
    "                    curr_value =correct_IDs[idx]\n",
    "                    new_value = curr_value+\"_\"+str(ID)\n",
    "                    correct_IDs[idx] =new_value\n",
    "                else:\n",
    "                    correct_IDs[idx]=str(ID)\n",
    "\n",
    "# Fixing the updated pre_IDs_str_list\n",
    "for key, value in correct_IDs.items():\n",
    "    new_pre_IDs_str[key] = value\n",
    "    \n"
   ]
  },
  {
   "cell_type": "code",
   "execution_count": null,
   "id": "ae0d9c03",
   "metadata": {},
   "outputs": [],
   "source": [
    "### Updating the dataframe\n",
    "# Adding the new url column to the data frame\n",
    "df[\"Updated_pre_IDs\"] = new_pre_IDs_str\n",
    "df[\"Updated_post_IDs\"] = new_post_IDs_str"
   ]
  },
  {
   "cell_type": "markdown",
   "id": "df911c6d",
   "metadata": {},
   "source": [
    "### 2. Update with FAFB (predered)"
   ]
  },
  {
   "cell_type": "code",
   "execution_count": 34,
   "id": "94d797c3",
   "metadata": {},
   "outputs": [
    {
     "data": {
      "application/vnd.jupyter.widget-view+json": {
       "model_id": "",
       "version_major": 2,
       "version_minor": 0
      },
      "text/plain": [
       "Updating:   0%|          | 0/109 [00:00<?, ?it/s]"
      ]
     },
     "metadata": {},
     "output_type": "display_data"
    }
   ],
   "source": [
    "# Updating the IDs\n",
    "new_segmentIDs_df = flywire.update_ids(segmentIDs, stop_layer=2, supervoxels=None, timestamp=None, dataset='production', progress=True)\n",
    "new_segmentIDs = new_segmentIDs_df[\"new_id\"].tolist()"
   ]
  },
  {
   "cell_type": "code",
   "execution_count": 40,
   "id": "eb93b20e",
   "metadata": {},
   "outputs": [],
   "source": [
    "### Updating the dataframe\n",
    "# Adding the new url column to the data frame\n",
    "df[\"Updated_seg_id\"] = new_segmentIDs\n",
    "df[\"Updated_seg_id\"] = df[\"Updated_seg_id\"].astype(str) "
   ]
  },
  {
   "cell_type": "markdown",
   "id": "271c1dff",
   "metadata": {},
   "source": [
    "### 3. Reorder rows base don condition"
   ]
  },
  {
   "cell_type": "code",
   "execution_count": 45,
   "id": "618c5223",
   "metadata": {},
   "outputs": [],
   "source": [
    "sorted_df = df.sort_values(by = 'cluster_id').copy()"
   ]
  },
  {
   "cell_type": "code",
   "execution_count": null,
   "id": "c37a7fe5",
   "metadata": {},
   "outputs": [],
   "source": []
  },
  {
   "cell_type": "code",
   "execution_count": null,
   "id": "140c3852",
   "metadata": {},
   "outputs": [],
   "source": []
  },
  {
   "cell_type": "markdown",
   "id": "2491c222",
   "metadata": {},
   "source": [
    "### 4. Saving back to excel file"
   ]
  },
  {
   "cell_type": "code",
   "execution_count": 47,
   "id": "c2c3d919",
   "metadata": {},
   "outputs": [],
   "source": [
    "\n",
    "# Creating string for the date\n",
    "import datetime\n",
    "x = datetime.datetime.now()\n",
    "date_str = x.strftime(\"%d\") + x.strftime(\"%b\") + x.strftime(\"%Y\")\n",
    "\n",
    "# Writting in an existing excel file\n",
    "from openpyxl import load_workbook\n",
    "book = load_workbook(filePath)\n",
    "writer = pd.ExcelWriter(filePath, engine = 'openpyxl')\n",
    "writer.book = book\n",
    "\n",
    "sorted_df.to_excel(writer, sheet_name='Updated_IDs_'+date_str)\n",
    "writer.save()\n",
    "writer.close()"
   ]
  },
  {
   "cell_type": "code",
   "execution_count": null,
   "id": "e80ad439",
   "metadata": {},
   "outputs": [],
   "source": []
  }
 ],
 "metadata": {
  "kernelspec": {
   "display_name": "Python 3 (ipykernel)",
   "language": "python",
   "name": "python3"
  },
  "language_info": {
   "codemirror_mode": {
    "name": "ipython",
    "version": 3
   },
   "file_extension": ".py",
   "mimetype": "text/x-python",
   "name": "python",
   "nbconvert_exporter": "python",
   "pygments_lexer": "ipython3",
   "version": "3.7.4"
  }
 },
 "nbformat": 4,
 "nbformat_minor": 5
}
