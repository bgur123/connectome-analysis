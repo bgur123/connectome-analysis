{
 "cells": [
  {
   "cell_type": "markdown",
   "id": "d0d8664f",
   "metadata": {},
   "source": [
    "# Display of Buhman synapses in define ROIs"
   ]
  },
  {
   "cell_type": "code",
   "execution_count": 1,
   "id": "5e5d4e39",
   "metadata": {},
   "outputs": [],
   "source": [
    "import numpy as np\n",
    "from caveclient import CAVEclient\n",
    "from nglui.statebuilder.helpers import make_synapse_neuroglancer_link"
   ]
  },
  {
   "cell_type": "code",
   "execution_count": 2,
   "id": "b2f4bd54",
   "metadata": {},
   "outputs": [],
   "source": [
    "client = CAVEclient('flywire_fafb_production')"
   ]
  },
  {
   "cell_type": "code",
   "execution_count": 3,
   "id": "405d0d9e",
   "metadata": {},
   "outputs": [],
   "source": [
    "top_left = np.array([158278, 71889, 2189])*[4,4,40]\n",
    "bottom_right = np.array([171350, 73983, 2237])*[4,4,40]\n",
    "synapses = client.materialize.synapse_query(\n",
    "    bounding_box=[top_left, bottom_right],\n",
    "    bounding_box_column='pre_pt_position')"
   ]
  },
  {
   "cell_type": "code",
   "execution_count": 5,
   "id": "f4e7cd0e",
   "metadata": {},
   "outputs": [],
   "source": [
    "url = make_synapse_neuroglancer_link(synapses, client, point_column='pre_pt_position')"
   ]
  },
  {
   "cell_type": "code",
   "execution_count": 7,
   "id": "b26c8a32",
   "metadata": {},
   "outputs": [
    {
     "data": {
      "text/html": [
       "<a href=\"https://ngl.flywire.ai/?json_url=https://global.daf-apis.com/nglstate/api/v1/5907043286253568\">Neuroglancer Link</a>"
      ],
      "text/plain": [
       "<IPython.core.display.HTML object>"
      ]
     },
     "metadata": {},
     "output_type": "display_data"
    }
   ],
   "source": [
    "display(url)"
   ]
  },
  {
   "cell_type": "code",
   "execution_count": null,
   "id": "f0f41e4c",
   "metadata": {},
   "outputs": [],
   "source": []
  }
 ],
 "metadata": {
  "kernelspec": {
   "display_name": "Python 3 (ipykernel)",
   "language": "python",
   "name": "python3"
  },
  "language_info": {
   "codemirror_mode": {
    "name": "ipython",
    "version": 3
   },
   "file_extension": ".py",
   "mimetype": "text/x-python",
   "name": "python",
   "nbconvert_exporter": "python",
   "pygments_lexer": "ipython3",
   "version": "3.7.4"
  }
 },
 "nbformat": 4,
 "nbformat_minor": 5
}
