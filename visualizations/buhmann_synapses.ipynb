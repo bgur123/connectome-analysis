{
 "cells": [
  {
   "cell_type": "markdown",
   "id": "d0d8664f",
   "metadata": {},
   "source": [
    "# Display of Buhman synapses - Neuroglancer links"
   ]
  },
  {
   "cell_type": "markdown",
   "id": "85ae04e4",
   "metadata": {},
   "source": [
    "This documnent contains code for:\n",
    "<br>\n",
    "<br>A) Take many segments IDs as one neuron and:\n",
    "1. Display synaptic site in neuroglancer\n",
    "2. Quantifying number of synaptic sites\n",
    "3. Clustering synapses based on assumptions\n",
    "\n",
    "<br>B) Displaying pre or postsynaptic sites between two segment IDs\n",
    "<br>C) Linking pre and postsynaptic sites\n",
    "<br>D) Displaying presynaptic sites of a given neuropile (try to mimicking Brp stainings)"
   ]
  },
  {
   "cell_type": "markdown",
   "id": "c8362861",
   "metadata": {},
   "source": [
    "## A) Many segments IDs as one neuron"
   ]
  },
  {
   "cell_type": "markdown",
   "id": "b18e2a2a",
   "metadata": {},
   "source": [
    "### 1. Displaying synaptic sites in neuroglancer"
   ]
  },
  {
   "cell_type": "code",
   "execution_count": 5,
   "id": "8311f41e",
   "metadata": {},
   "outputs": [],
   "source": [
    "import fafbseg\n",
    "from fafbseg import flywire\n",
    "import numpy as np\n",
    "import os\n",
    "import matplotlib.pyplot as plt\n",
    "import pandas as pd\n",
    "import seaborn as sns\n",
    "from nglui.statebuilder.helpers import make_synapse_neuroglancer_link\n",
    "from helpers.synapse_queries import combine_xyz, separate_xyz, synapse_count\n",
    "from caveclient import CAVEclient\n",
    "\n",
    "client = CAVEclient('flywire_fafb_production')"
   ]
  },
  {
   "cell_type": "markdown",
   "id": "060796b2",
   "metadata": {},
   "source": [
    "#### 1.1 Loading from URL:"
   ]
  },
  {
   "cell_type": "code",
   "execution_count": 14,
   "id": "427f98c8",
   "metadata": {},
   "outputs": [],
   "source": [
    "#User's parameters\n",
    "url = \"https://ngl.flywire.ai/?json_url=https://globalv1.flywire-daf.com/nglstate/5614413943930880\"\n",
    "segments_dict = flywire.decode_url(url)\n",
    "segmentsIDs = segments_dict[\"selected\"]   # root ID query for a Dm4 segments"
   ]
  },
  {
   "cell_type": "markdown",
   "id": "763af2c8",
   "metadata": {},
   "source": [
    "#### 1.1 Or, loading manually:"
   ]
  },
  {
   "cell_type": "code",
   "execution_count": 34,
   "id": "236dd1e1",
   "metadata": {},
   "outputs": [],
   "source": [
    "segmentsIDs = [720575940631226127,720575940633045933,720575940628912899,720575940631224079] # ids with no synapses when cleft score => 50"
   ]
  },
  {
   "cell_type": "markdown",
   "id": "506ad849",
   "metadata": {},
   "source": [
    "#### 1.1 Or, loading from excel file in PC:"
   ]
  },
  {
   "cell_type": "code",
   "execution_count": 2,
   "id": "3dcb9ee8",
   "metadata": {},
   "outputs": [],
   "source": [
    "# Choose path and file\n",
    "dataPath = r'C:\\Users\\sebas\\Downloads'\n",
    "fileName = 'Dm4 proofreading axon terminals_20221011.xlsx'\n",
    "filePath = os.path.join(dataPath,fileName)"
   ]
  },
  {
   "cell_type": "code",
   "execution_count": 3,
   "id": "b047cea4",
   "metadata": {},
   "outputs": [
    {
     "data": {
      "text/html": [
       "<div>\n",
       "<style scoped>\n",
       "    .dataframe tbody tr th:only-of-type {\n",
       "        vertical-align: middle;\n",
       "    }\n",
       "\n",
       "    .dataframe tbody tr th {\n",
       "        vertical-align: top;\n",
       "    }\n",
       "\n",
       "    .dataframe thead th {\n",
       "        text-align: right;\n",
       "    }\n",
       "</style>\n",
       "<table border=\"1\" class=\"dataframe\">\n",
       "  <thead>\n",
       "    <tr style=\"text-align: right;\">\n",
       "      <th></th>\n",
       "      <th>lab_ID</th>\n",
       "      <th>XYZ soma</th>\n",
       "      <th>XYZ</th>\n",
       "      <th>voxel_raw_x</th>\n",
       "      <th>voxel_raw_y</th>\n",
       "      <th>voxel_raw_z</th>\n",
       "      <th>type</th>\n",
       "      <th>hemisphere</th>\n",
       "      <th>lab</th>\n",
       "      <th>author</th>\n",
       "      <th>name</th>\n",
       "      <th>seg_id</th>\n",
       "      <th>proofread (Y/N)</th>\n",
       "      <th>identified_in</th>\n",
       "      <th>notes</th>\n",
       "      <th>annotations_link</th>\n",
       "      <th>synapses_link</th>\n",
       "    </tr>\n",
       "  </thead>\n",
       "  <tbody>\n",
       "    <tr>\n",
       "      <th>0</th>\n",
       "      <td>lab_ID: 001</td>\n",
       "      <td>NaN</td>\n",
       "      <td>NaN</td>\n",
       "      <td>NaN</td>\n",
       "      <td>NaN</td>\n",
       "      <td>NaN</td>\n",
       "      <td>ax_terminal</td>\n",
       "      <td>NaN</td>\n",
       "      <td>NaN</td>\n",
       "      <td>NaN</td>\n",
       "      <td>NaN</td>\n",
       "      <td>720575940625756519</td>\n",
       "      <td>NaN</td>\n",
       "      <td>NaN</td>\n",
       "      <td>NaN</td>\n",
       "      <td>https://ngl.flywire.ai/?json_url=https://globa...</td>\n",
       "      <td>NaN</td>\n",
       "    </tr>\n",
       "  </tbody>\n",
       "</table>\n",
       "</div>"
      ],
      "text/plain": [
       "        lab_ID  XYZ soma  XYZ  voxel_raw_x  voxel_raw_y  voxel_raw_z  \\\n",
       "0  lab_ID: 001       NaN  NaN          NaN          NaN          NaN   \n",
       "\n",
       "          type  hemisphere  lab  author  name              seg_id  \\\n",
       "0  ax_terminal         NaN  NaN     NaN   NaN  720575940625756519   \n",
       "\n",
       "   proofread (Y/N)  identified_in notes  \\\n",
       "0              NaN            NaN   NaN   \n",
       "\n",
       "                                    annotations_link  synapses_link  \n",
       "0  https://ngl.flywire.ai/?json_url=https://globa...            NaN  "
      ]
     },
     "metadata": {},
     "output_type": "display_data"
    }
   ],
   "source": [
    "#Loading file as DataFrame\n",
    "df = pd.read_excel(filePath)\n",
    "if df[\"seg_id\"][0] == 'asdf': #Dropping the fisrt row ('asdf' was added as a walk-around to set that column values as type str)\n",
    "    df = df.iloc[1: , :]\n",
    "    df.reset_index(inplace=True,drop=True)\n",
    "display(df.head(1))\n",
    "segmentsIDs = df[\"seg_id\"]"
   ]
  },
  {
   "cell_type": "markdown",
   "id": "1b35f27a",
   "metadata": {},
   "source": [
    "#### 1.2 Updating IDs (necessary for correct annotations in neuroglancer and feching synapses with FAFBseg-py)"
   ]
  },
  {
   "cell_type": "code",
   "execution_count": 4,
   "id": "48ee71a9",
   "metadata": {},
   "outputs": [],
   "source": [
    "#Update IDs witth chunkedgraph module of CAVE\n",
    "segmentsIDs_int = list(map(int,segmentsIDs))\n",
    "new_segmentsIDs_int = list(map(client.chunkedgraph.get_latest_roots,segmentsIDs_int))\n"
   ]
  },
  {
   "cell_type": "code",
   "execution_count": 5,
   "id": "d0390d9c",
   "metadata": {},
   "outputs": [
    {
     "name": "stdout",
     "output_type": "stream",
     "text": [
      "OLD segments: https://ngl.flywire.ai/?json_url=https://globalv1.flywire-daf.com/nglstate/6017194467000320\n",
      "NEW segments: https://ngl.flywire.ai/?json_url=https://globalv1.flywire-daf.com/nglstate/6264479792758784\n"
     ]
    }
   ],
   "source": [
    "# Putting the new IDs into a list and getting a new neuroglancer URL\n",
    "new_segmentsIDs_arr = np.concatenate(new_segmentsIDs_int, axis=0 )\n",
    "new_segmentsIDs_ls = new_segmentsIDs_arr.tolist()\n",
    "old_url = flywire.encode_url(segmentsIDs)\n",
    "print(f'OLD segments: {old_url}')\n",
    "new_url = flywire.encode_url(new_segmentsIDs_ls)\n",
    "print(f'NEW segments: {new_url}')"
   ]
  },
  {
   "cell_type": "markdown",
   "id": "77f1151b",
   "metadata": {},
   "source": [
    "#### 1.3 Generating the final URLs"
   ]
  },
  {
   "cell_type": "code",
   "execution_count": 46,
   "id": "30bac713",
   "metadata": {},
   "outputs": [
    {
     "data": {
      "text/html": [
       "<a href=\"https://ngl.flywire.ai/?json_url=https://global.daf-apis.com/nglstate/api/v1/6686093344768000\">Neuroglancer Link</a>"
      ],
      "text/plain": [
       "<IPython.core.display.HTML object>"
      ]
     },
     "metadata": {},
     "output_type": "display_data"
    }
   ],
   "source": [
    "# Important to fetch synapses from live materialization (mat = \"live\")\n",
    "pre_synapses = flywire.synapses.fetch_synapses(new_segmentsIDs_ls, pre=True, post=False, attach=True,\n",
    "                                          min_score=50, clean=True, transmitters=False,\n",
    "                                          neuropils=True, batch_size=30,\n",
    "                                          dataset='production', progress=True,mat=\"live\")\n",
    "\n",
    "#Combining x,y,z columns for future purposes\n",
    "combine_xyz(pre_synapses)\n",
    "\n",
    "url = make_synapse_neuroglancer_link(pre_synapses, client, point_column='pre_pt_position')\n",
    "display(url)"
   ]
  },
  {
   "cell_type": "code",
   "execution_count": 7,
   "id": "3fd48319",
   "metadata": {},
   "outputs": [
    {
     "data": {
      "text/html": [
       "<a href=\"https://ngl.flywire.ai/?json_url=https://global.daf-apis.com/nglstate/api/v1/6332170591272960\">Neuroglancer Link</a>"
      ],
      "text/plain": [
       "<IPython.core.display.HTML object>"
      ]
     },
     "metadata": {},
     "output_type": "display_data"
    }
   ],
   "source": [
    "# Important to fetch synapses from live materialization (mat = \"auto\")\n",
    "post_synapses = flywire.synapses.fetch_synapses(new_segmentsIDs_ls, pre=False, post=True, attach=True, \n",
    "                                         min_score=50, clean=True, transmitters=False, \n",
    "                                         neuropils=True, batch_size=30,\n",
    "                                         dataset='production', progress=True,mat=\"live\")\n",
    "\n",
    "#Combining x,y,z columns for future purposes\n",
    "combine_xyz(post_synapses)\n",
    "\n",
    "url = make_synapse_neuroglancer_link(post_synapses, client, point_column='post_pt_position')\n",
    "display(url)"
   ]
  },
  {
   "cell_type": "code",
   "execution_count": 48,
   "id": "b2e54486",
   "metadata": {},
   "outputs": [
    {
     "data": {
      "text/html": [
       "<a href=\"https://ngl.flywire.ai/?json_url=https://global.daf-apis.com/nglstate/api/v1/5175474326077440\">Neuroglancer Link</a>"
      ],
      "text/plain": [
       "<IPython.core.display.HTML object>"
      ]
     },
     "metadata": {},
     "output_type": "display_data"
    }
   ],
   "source": [
    "# Fetch the neuron's presynaptic sites (not using live materialization, danger of missing synapses)\n",
    "pre_synapses = client.materialize.synapse_query(\n",
    "        pre_ids = new_segmentsIDs_ls,\n",
    "        bounding_box_column='pre_pt_position'\n",
    "        )\n",
    "pre_synapses = post_synapses[post_synapses['cleft_score'] >= 50]\n",
    "#display(pre_synapses.head())\n",
    "url = make_synapse_neuroglancer_link(pre_synapses, client, point_column='pre_pt_position')\n",
    "display(url)"
   ]
  },
  {
   "cell_type": "code",
   "execution_count": 49,
   "id": "48e36220",
   "metadata": {},
   "outputs": [
    {
     "data": {
      "text/html": [
       "<a href=\"https://ngl.flywire.ai/?json_url=https://global.daf-apis.com/nglstate/api/v1/5712739703980032\">Neuroglancer Link</a>"
      ],
      "text/plain": [
       "<IPython.core.display.HTML object>"
      ]
     },
     "metadata": {},
     "output_type": "display_data"
    }
   ],
   "source": [
    "# Fetch the neuron's presynaptic sites (not using live materialization, danger of missing synapses)\n",
    "post_synapses = client.materialize.synapse_query(\n",
    "        post_ids = new_segmentsIDs_ls,\n",
    "        bounding_box_column='post_pt_position'\n",
    "        )\n",
    "post_synapses = post_synapses[post_synapses['cleft_score'] >= 50]\n",
    "#display(post_synapses.head())\n",
    "url = make_synapse_neuroglancer_link(post_synapses, client, point_column='post_pt_position')\n",
    "display(url)"
   ]
  },
  {
   "cell_type": "markdown",
   "id": "254c1c3a",
   "metadata": {},
   "source": [
    "### 2. Quantifying synaptic sites"
   ]
  },
  {
   "cell_type": "markdown",
   "id": "ee698159",
   "metadata": {},
   "source": [
    "### 2.1 Fecthing synapses"
   ]
  },
  {
   "cell_type": "markdown",
   "id": "1f78450d",
   "metadata": {},
   "source": [
    "#### Using CAVE. No need of updating the segment IDs"
   ]
  },
  {
   "cell_type": "code",
   "execution_count": 8,
   "id": "ff378683",
   "metadata": {},
   "outputs": [
    {
     "data": {
      "text/plain": [
       "[258, 447, 479, 493, 502, 505, 506]"
      ]
     },
     "execution_count": 8,
     "metadata": {},
     "output_type": "execute_result"
    }
   ],
   "source": [
    "#Probably we are using one of the materialization version below\n",
    "client.materialize.get_versions()"
   ]
  },
  {
   "cell_type": "code",
   "execution_count": 9,
   "id": "38ee29a9",
   "metadata": {},
   "outputs": [],
   "source": [
    "use_mat = 506"
   ]
  },
  {
   "cell_type": "code",
   "execution_count": null,
   "id": "6dcc430f",
   "metadata": {},
   "outputs": [],
   "source": [
    "pre_synapses = client.materialize.synapse_query(\n",
    "        pre_ids = segmentsIDs,materialization_version = use_mat,\n",
    "        )\n",
    "print(f'Length without filter: {len(pre_synapses)}')\n",
    "pre_synapses = pre_synapses[pre_synapses['cleft_score'] >= 50]\n",
    "display(pre_synapses.head())\n",
    "print(f'Length with filter: {len(pre_synapses)}')"
   ]
  },
  {
   "cell_type": "code",
   "execution_count": 12,
   "id": "e864961e",
   "metadata": {},
   "outputs": [
    {
     "name": "stdout",
     "output_type": "stream",
     "text": [
      "Length without filter: 591\n",
      "Length with filter: 304\n"
     ]
    }
   ],
   "source": [
    "post_synapses = client.materialize.synapse_query(\n",
    "        post_ids = segmentsIDs,materialization_version = use_mat,\n",
    "        )\n",
    "print(f'Length without filter: {len(post_synapses)}')\n",
    "post_synapses = post_synapses[post_synapses['cleft_score'] >= 50]\n",
    "#display(post_synapses.head())\n",
    "print(f'Length with filter: {len(post_synapses)}')"
   ]
  },
  {
   "cell_type": "markdown",
   "id": "9d2bd931",
   "metadata": {},
   "source": [
    "#### Using FAFBseq-py. Needs updated segment IDs (currently using live materializations)"
   ]
  },
  {
   "cell_type": "code",
   "execution_count": 10,
   "id": "7febe5bb",
   "metadata": {},
   "outputs": [
    {
     "name": "stdout",
     "output_type": "stream",
     "text": [
      "Length with filter: 2123\n",
      "Length with filter: 605\n"
     ]
    }
   ],
   "source": [
    "# Fetching synapses (with  cleft score filter)\n",
    "pre_synapses_updated = flywire.synapses.fetch_synapses(new_segmentsIDs_ls, pre=True, post=False, attach=True,\n",
    "                                          min_score=50, clean=True, transmitters=False,\n",
    "                                          neuropils=True, batch_size=30,\n",
    "                                          dataset='production', progress=True,mat=\"live\")\n",
    "\n",
    "post_synapses_updated = flywire.synapses.fetch_synapses(new_segmentsIDs_ls, pre=False, post=True, attach=True, \n",
    "                                         min_score=50, clean=True, transmitters=False, \n",
    "                                         neuropils=True, batch_size=30,\n",
    "                                         dataset='production', progress=True,mat=\"live\")\n",
    "\n",
    "print(f'Length with filter: {len(pre_synapses_updated)}')\n",
    "print(f'Length with filter: {len(post_synapses_updated)}')\n",
    "\n",
    "#Combining x,y,z columns for future purposes\n",
    "combine_xyz(pre_synapses_updated) \n",
    "combine_xyz(post_synapses_updated)"
   ]
  },
  {
   "cell_type": "markdown",
   "id": "9c2c4a3b",
   "metadata": {},
   "source": [
    "### 2.2 Counting synapses"
   ]
  },
  {
   "cell_type": "markdown",
   "id": "8ca60bf3",
   "metadata": {},
   "source": [
    "#### 2.2.1 Using FAFBseq-py. Needs updated segment IDs (currently using live materializations)"
   ]
  },
  {
   "cell_type": "code",
   "execution_count": 11,
   "id": "0d4f1176",
   "metadata": {},
   "outputs": [
    {
     "data": {
      "application/vnd.jupyter.widget-view+json": {
       "model_id": "43c078ed729b4f858561358bb97694ca",
       "version_major": 2,
       "version_minor": 0
      },
      "text/plain": [
       "Fetching synapses:   0%|          | 0/3 [00:00<?, ?it/s]"
      ]
     },
     "metadata": {},
     "output_type": "display_data"
    }
   ],
   "source": [
    "synapses_count_updated = fafbseg.flywire.synapses.synapse_counts(new_segmentsIDs_ls, by_neuropil=False, \n",
    "                                        min_score=50,mat='live', batch_size=10, dataset='production')"
   ]
  },
  {
   "cell_type": "markdown",
   "id": "d909b56c",
   "metadata": {},
   "source": [
    "#### 2.2.1 Or, Using custom function (using any data frame)"
   ]
  },
  {
   "cell_type": "code",
   "execution_count": 12,
   "id": "1de6fc17",
   "metadata": {},
   "outputs": [],
   "source": [
    "# Getting synapse_count data frame, among other interesting ones\n",
    "count_pre, count_post, synapse_count_updated = synapse_count(pre_synapses_updated, post_synapses_updated)"
   ]
  },
  {
   "cell_type": "markdown",
   "id": "0596db38",
   "metadata": {},
   "source": [
    "#### Removing some repeated segments"
   ]
  },
  {
   "cell_type": "code",
   "execution_count": 14,
   "id": "99b68686",
   "metadata": {},
   "outputs": [],
   "source": [
    "# Identifying those segments that have been merged with others\n",
    "# (they will have more than one entry on the data frame)\n",
    "\n",
    "duplicates_boolean = synapses_count_updated.duplicated(keep=False)\n",
    "no_duplicates_boolean = [not elem for elem in duplicates_boolean] #flipping duplicates_boolean\n",
    "\n",
    "duplicated_IDs = list(set(list(synapses_count_updated.index.values[duplicates_boolean])))\n",
    "str_duplicated_IDs = list(map(str,duplicated_IDs))\n",
    "\n",
    "#display(synapses_count_updated[no_duplicates_boolean])\n",
    "#display(synapses_count_updated)"
   ]
  },
  {
   "cell_type": "markdown",
   "id": "06277899",
   "metadata": {},
   "source": [
    "#### Saving the dataset for future plotting and analysis"
   ]
  },
  {
   "cell_type": "code",
   "execution_count": 15,
   "id": "6727bdaf",
   "metadata": {},
   "outputs": [],
   "source": [
    "# Choose data frames to save\n",
    "\n",
    "# Keeping the non duplicated IDs\n",
    "count_pre_save =  count_pre[count_pre['presynaptic_ID'].isin(str_duplicated_IDs) == False].copy() \n",
    "count_post_save =  count_post[count_post['postsynaptic_ID'].isin(str_duplicated_IDs) == False].copy()\n",
    "synapse_count_updated_save = synapses_count_updated[no_duplicates_boolean].copy()\n",
    "synapse_count_updated_save.index = synapse_count_updated_save.index.map(str)\n"
   ]
  },
  {
   "cell_type": "code",
   "execution_count": 93,
   "id": "846cd5ec",
   "metadata": {},
   "outputs": [],
   "source": [
    "# Choose path and file\n",
    "dataPath = r'C:\\Users\\sebas\\Downloads'\n",
    "fileName = 'Dm4_counts_axon_terminals.xlsx'\n",
    "filePath = os.path.join(dataPath,fileName)\n",
    "\n",
    "#To write in multiple sheets                                         \n",
    "from openpyxl import load_workbook, Workbook\n",
    "\n",
    "book = Workbook()\n",
    "book.save(filename = filePath)\n",
    "book = load_workbook(filePath)\n",
    "writer = pd.ExcelWriter(filePath, engine = 'openpyxl')\n",
    "writer.book = book\n",
    "\n",
    "count_pre_save.to_excel(writer, sheet_name='count_pre')\n",
    "count_post_save.to_excel(writer, sheet_name='count_post')\n",
    "synapse_count_updated_save.to_excel(writer, sheet_name='synapse_count_total')\n",
    "\n",
    "writer.save()"
   ]
  },
  {
   "cell_type": "markdown",
   "id": "50b41844",
   "metadata": {},
   "source": [
    "#### Some plotting to visualize variability"
   ]
  },
  {
   "cell_type": "code",
   "execution_count": 88,
   "id": "c5f5545d",
   "metadata": {},
   "outputs": [],
   "source": [
    "# Setting custmized seaborn style\n",
    "\n",
    "#Black backgroung plots\n",
    "sns.set(rc={'axes.facecolor':'k', 'figure.facecolor':'k','axes.grid' : False,'xtick.color': 'w',\n",
    "     'ytick.color': 'w','axes.labelcolor': 'w','xtick.bottom': True})"
   ]
  },
  {
   "cell_type": "code",
   "execution_count": 86,
   "id": "748f00b5",
   "metadata": {},
   "outputs": [],
   "source": [
    "# Setting custmized seaborn style\n",
    "\n",
    "#White backgroung plots\n",
    "sns.set(rc={'axes.facecolor':'w', 'figure.facecolor':'w','axes.grid' : False,'xtick.color': 'k',\n",
    "     'ytick.color': 'k','axes.labelcolor': 'k','xtick.bottom': True})"
   ]
  },
  {
   "cell_type": "code",
   "execution_count": 89,
   "id": "70d8c3b8",
   "metadata": {},
   "outputs": [
    {
     "data": {
      "text/plain": [
       "Text(0.5, 0, 'count')"
      ]
     },
     "execution_count": 89,
     "metadata": {},
     "output_type": "execute_result"
    },
    {
     "data": {
      "image/png": "[encoded data removed]",
      "text/plain": [
       "<Figure size 720x216 with 2 Axes>"
      ]
     },
     "metadata": {},
     "output_type": "display_data"
    }
   ],
   "source": [
    "# Boxplot for counts\n",
    "\n",
    "fig, ax = plt.subplots(nrows=1, ncols=2,figsize=(10, 3), facecolor='k', edgecolor='k')\n",
    "sns.set(rc={'axes.facecolor':'k', 'figure.facecolor':'k','axes.grid' : False,'xtick.color': 'w',\n",
    "     'ytick.color': 'w','axes.labelcolor': 'w','xtick.bottom': True})\n",
    "\n",
    "#fig.suptitle('Predicted pre- and postsynaptic counts', fontsize=16)\n",
    "ax[0].set_title('Presynaptic sites', color = 'w')\n",
    "ax[1].set_title('Postsynaptic sites', color = 'w')\n",
    "\n",
    "pre_plot = sns.boxplot(data =synapse_count_updated_save, x =synapse_count_updated_save['pre'],\n",
    "            notch=False, showcaps=True,boxprops={\"facecolor\": (.4, .6, .8, .5)},\n",
    "            medianprops={\"color\": \"w\"},flierprops={\"marker\": \"x\"}, ax=ax[0])\n",
    "pre_plot = sns.swarmplot(data =synapse_count_updated_save, x =synapse_count_updated_save['pre'], \n",
    "                         color=\"w\", ax=ax[0])\n",
    "\n",
    "post_plot = sns.boxplot(data =synapse_count_updated_save, x =synapse_count_updated_save['post'],\n",
    "            notch=False, showcaps=True,boxprops={\"facecolor\": (.4, .6, .8, .5)},\n",
    "            medianprops={\"color\": \"r\"},flierprops={\"marker\": \"x\"}, ax=ax[1])\n",
    "post_plot = sns.swarmplot(data =synapse_count_updated_save, x =synapse_count_updated_save['post'], \n",
    "                         color=\"r\", ax=ax[1])\n",
    "\n",
    "# This will add label to X-axis\n",
    "pre_plot.set_xlabel(\"count\")\n",
    "post_plot.set_xlabel(\"count\")\n",
    "\n"
   ]
  },
  {
   "cell_type": "code",
   "execution_count": 82,
   "id": "869c5670",
   "metadata": {},
   "outputs": [
    {
     "name": "stdout",
     "output_type": "stream",
     "text": [
      "OLD segments: https://ngl.flywire.ai/?json_url=https://globalv1.flywire-daf.com/nglstate/5733715888046080\n",
      "NEW segments: https://ngl.flywire.ai/?json_url=https://globalv1.flywire-daf.com/nglstate/4567777792753664\n"
     ]
    }
   ],
   "source": [
    "# links to neuroglancer of the above counts\n",
    "segmentsIDs= synapse_count_updated_save.index.tolist()\n",
    "\n",
    "#Update IDs witth chunkedgraph module of CAVE\n",
    "segmentsIDs_int = list(map(int,segmentsIDs))\n",
    "new_segmentsIDs_int = list(map(client.chunkedgraph.get_latest_roots,segmentsIDs_int))\n",
    "\n",
    "# Putting the new IDs into a list and getting a new neuroglancer URL\n",
    "new_segmentsIDs_arr = np.concatenate(new_segmentsIDs_int, axis=0 )\n",
    "new_segmentsIDs_ls = new_segmentsIDs_arr.tolist()\n",
    "old_url = flywire.encode_url(segmentsIDs)\n",
    "print(f'OLD segments: {old_url}')\n",
    "new_url = flywire.encode_url(new_segmentsIDs_ls)\n",
    "print(f'NEW segments: {new_url}')\n",
    "\n"
   ]
  },
  {
   "cell_type": "code",
   "execution_count": 48,
   "id": "c4d597e4",
   "metadata": {},
   "outputs": [
    {
     "data": {
      "text/html": [
       "<a href=\"https://ngl.flywire.ai/?json_url=https://global.daf-apis.com/nglstate/api/v1/6673377364279296\">Neuroglancer Link</a>"
      ],
      "text/plain": [
       "<IPython.core.display.HTML object>"
      ]
     },
     "metadata": {},
     "output_type": "display_data"
    }
   ],
   "source": [
    "# Important to fetch synapses from live materialization (mat = \"live\")\n",
    "pre_synapses = flywire.synapses.fetch_synapses(new_segmentsIDs_ls, pre=True, post=False, attach=True,\n",
    "                                          min_score=50, clean=True, transmitters=False,\n",
    "                                          neuropils=True, batch_size=30,\n",
    "                                          dataset='production', progress=True,mat=\"live\")\n",
    "\n",
    "#Combining x,y,z columns for future purposes\n",
    "combine_xyz(pre_synapses)\n",
    "\n",
    "url = make_synapse_neuroglancer_link(pre_synapses, client, point_column='pre_pt_position')\n",
    "display(url)"
   ]
  },
  {
   "cell_type": "code",
   "execution_count": 49,
   "id": "7f2d6c52",
   "metadata": {},
   "outputs": [
    {
     "data": {
      "text/html": [
       "<a href=\"https://ngl.flywire.ai/?json_url=https://global.daf-apis.com/nglstate/api/v1/5876456978644992\">Neuroglancer Link</a>"
      ],
      "text/plain": [
       "<IPython.core.display.HTML object>"
      ]
     },
     "metadata": {},
     "output_type": "display_data"
    }
   ],
   "source": [
    "# Important to fetch synapses from live materialization (mat = \"auto\")\n",
    "post_synapses = flywire.synapses.fetch_synapses(new_segmentsIDs_ls, pre=False, post=True, attach=True, \n",
    "                                         min_score=50, clean=True, transmitters=False, \n",
    "                                         neuropils=True, batch_size=30,\n",
    "                                         dataset='production', progress=True,mat=\"live\")\n",
    "\n",
    "#Combining x,y,z columns for future purposes\n",
    "combine_xyz(post_synapses)\n",
    "\n",
    "url = make_synapse_neuroglancer_link(post_synapses, client, point_column='post_pt_position')\n",
    "display(url)"
   ]
  },
  {
   "cell_type": "markdown",
   "id": "1286bcea",
   "metadata": {},
   "source": [
    "### -- Temporary pieces of code --"
   ]
  },
  {
   "cell_type": "code",
   "execution_count": null,
   "id": "dff4bd25",
   "metadata": {},
   "outputs": [],
   "source": [
    "# Fetch the neuron's inputs and ouputs\n",
    "# Carefull, only fetching synapses among the provided IDs!!!\n",
    "inputs = flywire.synapses.fetch_synapses(new_segmentsIDs_ls, pre=False, post=True, attach=True, \n",
    "                                         min_score=50, clean=True, transmitters=False, \n",
    "                                         neuropils=True, batch_size=30,\n",
    "                                         dataset='production', progress=True)\n",
    "outputs = flywire.synapses.fetch_synapses(new_segmentsIDs_ls, pre=True, post=False, attach=True,\n",
    "                                          min_score=50, clean=True, transmitters=False,\n",
    "                                          neuropils=True, batch_size=30,\n",
    "                                          dataset='production', progress=True)"
   ]
  },
  {
   "cell_type": "code",
   "execution_count": null,
   "id": "76327c56",
   "metadata": {},
   "outputs": [],
   "source": [
    "# Making URLs for neuroglancer\n",
    "combine_xyz(inputs) # corrects dataframe for make_synapse_neuroglancer_link\n",
    "combine_xyz(outputs)# corrects dataframe for make_synapse_neuroglancer_link\n",
    "inputs_url = make_synapse_neuroglancer_link(inputs, client, point_column='post_pt_position')\n",
    "outputs_url = make_synapse_neuroglancer_link(outputs, client, point_column='pre_pt_position')\n",
    "print('Inputs URL:')\n",
    "display(inputs_url)\n",
    "print('Outputs URL:')\n",
    "display(outputs_url)"
   ]
  },
  {
   "cell_type": "code",
   "execution_count": null,
   "id": "04d9eaac",
   "metadata": {},
   "outputs": [],
   "source": [
    "# Separate x,y,z in diferent columns\n",
    "separate_xyz(pre_synapses)\n",
    "separate_xyz(post_synapses)"
   ]
  },
  {
   "cell_type": "markdown",
   "id": "65aa1d07",
   "metadata": {},
   "source": [
    "### 3. Clustering of  synaptic sites"
   ]
  },
  {
   "cell_type": "code",
   "execution_count": 220,
   "id": "a515b434",
   "metadata": {},
   "outputs": [],
   "source": [
    "import numpy as np\n",
    "import matplotlib.pyplot as plt\n",
    "from mpl_toolkits.mplot3d import Axes3D\n",
    "from sklearn.cluster import DBSCAN\n",
    "from sklearn.cluster import KMeans\n",
    "import colorcet as cc"
   ]
  },
  {
   "cell_type": "code",
   "execution_count": 91,
   "id": "fcb33eb2",
   "metadata": {},
   "outputs": [],
   "source": [
    "# Choose data\n",
    "data = np.array(pre_synapses['pre_pt_position'].tolist())"
   ]
  },
  {
   "cell_type": "code",
   "execution_count": 266,
   "id": "7fe84e35",
   "metadata": {},
   "outputs": [
    {
     "name": "stdout",
     "output_type": "stream",
     "text": [
      "number of clusters expected: 21\n",
      "number of clusters found: 29\n",
      "cluster for each point:  [ 0  0  3 ...  2 27 10]\n"
     ]
    },
    {
     "name": "stderr",
     "output_type": "stream",
     "text": [
      "C:\\Users\\sebas\\anaconda3\\envs\\EM\\lib\\site-packages\\ipykernel_launcher.py:6: MatplotlibDeprecationWarning: Axes3D(fig) adding itself to the figure is deprecated since 3.4. Pass the keyword argument auto_add_to_figure=False and use fig.add_axes(ax) to suppress this warning. The default value of auto_add_to_figure will change to False in mpl3.5 and True values will no longer work in 3.6.  This is consistent with other Axes classes.\n",
      "  \n",
      "C:\\Users\\sebas\\anaconda3\\envs\\EM\\lib\\site-packages\\ipykernel_launcher.py:18: MatplotlibDeprecationWarning: Axes3D(fig) adding itself to the figure is deprecated since 3.4. Pass the keyword argument auto_add_to_figure=False and use fig.add_axes(ax) to suppress this warning. The default value of auto_add_to_figure will change to False in mpl3.5 and True values will no longer work in 3.6.  This is consistent with other Axes classes.\n"
     ]
    }
   ],
   "source": [
    "# CLustering of 3D data point\n",
    "%matplotlib qt\n",
    "#%matplotlib inline\n",
    "\n",
    "fig = plt.figure()\n",
    "ax = Axes3D(fig)\n",
    "ax.scatter(data[:,0], data[:,1], data[:,2], s=40)\n",
    "ax.view_init(azim=30,elev=50)\n",
    "plt.show()\n",
    "\n",
    "\n",
    "model = KMeans(n_clusters = 21, init = \"k-means++\", max_iter = 300, n_init = 10, random_state = 0)\n",
    "model = DBSCAN(eps=400, min_samples=22)\n",
    "#model.fit_predict(data)\n",
    "pred = model.fit_predict(data)\n",
    "\n",
    "fig = plt.figure()\n",
    "ax = Axes3D(fig)\n",
    "my_cmap = sns.color_palette(\"magma\", as_cmap=True) \n",
    "ax.scatter(data[:,0], data[:,1], data[:,2], c=model.labels_*10, s=40,cmap=my_cmap)\n",
    "ax.view_init(azim=30,elev=50)\n",
    "plt.show()\n",
    "\n",
    "print(\"number of clusters expected: {}\".format(len(pre_synapses['pre_pt_root_id'].unique())))\n",
    "print(\"number of clusters found: {}\".format(len(set(model.labels_))))\n",
    "print('cluster for each point: ', model.labels_)"
   ]
  },
  {
   "cell_type": "code",
   "execution_count": 274,
   "id": "c5ceb90e",
   "metadata": {},
   "outputs": [
    {
     "data": {
      "text/plain": [
       "Text(0, 0.5, 'count')"
      ]
     },
     "execution_count": 274,
     "metadata": {},
     "output_type": "execute_result"
    },
    {
     "data": {
      "image/png": "[encoded data removed]",
      "text/plain": [
       "<Figure size 720x216 with 2 Axes>"
      ]
     },
     "metadata": {},
     "output_type": "display_data"
    }
   ],
   "source": [
    "%matplotlib inline\n",
    "\n",
    "segment_counts = np.array(synapse_count_updated_save['pre'].tolist())\n",
    "labels, counts = np.unique(model.labels_,return_counts=True)\n",
    "\n",
    "\n",
    "fig, ax = plt.subplots(nrows=1, ncols=2,figsize=(10, 3), facecolor='k', edgecolor='k')\n",
    "\n",
    "\n",
    "#plt.hist(model.labels_, bins = 100)\n",
    "ax[0].bar(list(range(0,len(segment_counts))),np.sort(segment_counts))\n",
    "ax[1].bar(labels,np.sort(counts))\n",
    "\n",
    "ax[0].set_title('Original', color = 'w')\n",
    "ax[1].set_title('Clusters', color = 'w')\n",
    "\n",
    "# This will add label to X-axis\n",
    "ax[0].set_ylabel(\"count\")\n",
    "ax[1].set_ylabel(\"count\")"
   ]
  },
  {
   "cell_type": "code",
   "execution_count": 255,
   "id": "a96c9fc3",
   "metadata": {},
   "outputs": [
    {
     "data": {
      "text/plain": [
       "array([ 86, 107,  59,  79,  58,  32,  53,  86,  82,  75,  96,  98, 109,\n",
       "        65,  98,  92,  74,  37,  91,  51,  65])"
      ]
     },
     "execution_count": 255,
     "metadata": {},
     "output_type": "execute_result"
    }
   ],
   "source": []
  },
  {
   "cell_type": "code",
   "execution_count": 263,
   "id": "c99fff9c",
   "metadata": {},
   "outputs": [
    {
     "data": {
      "text/plain": [
       "<AxesSubplot:ylabel='count'>"
      ]
     },
     "execution_count": 263,
     "metadata": {},
     "output_type": "execute_result"
    },
    {
     "data": {
      "image/png": "[encoded data removed]",
      "text/plain": [
       "<Figure size 432x288 with 1 Axes>"
      ]
     },
     "metadata": {},
     "output_type": "display_data"
    }
   ],
   "source": [
    "# Setting custmized seaborn style\n",
    "\n",
    "#Black backgroung plots\n",
    "sns.set(rc={'axes.facecolor':'k', 'figure.facecolor':'k','axes.grid' : False,'xtick.color': 'w',\n",
    "     'ytick.color': 'w','axes.labelcolor': 'w','xtick.bottom': True})\n",
    "\n",
    "\n",
    "sns.countplot(pred,  palette = \"magma\")"
   ]
  },
  {
   "cell_type": "code",
   "execution_count": 191,
   "id": "ec564150",
   "metadata": {},
   "outputs": [
    {
     "name": "stderr",
     "output_type": "stream",
     "text": [
      "C:\\Users\\sebas\\anaconda3\\envs\\EM\\lib\\site-packages\\ipykernel_launcher.py:10: MatplotlibDeprecationWarning: Axes3D(fig) adding itself to the figure is deprecated since 3.4. Pass the keyword argument auto_add_to_figure=False and use fig.add_axes(ax) to suppress this warning. The default value of auto_add_to_figure will change to False in mpl3.5 and True values will no longer work in 3.6.  This is consistent with other Axes classes.\n",
      "  # Remove the CWD from sys.path while we load stuff.\n"
     ]
    }
   ],
   "source": [
    "# Replotting individual clusters\n",
    "cluster_idx = np.where(model.labels_ == 1)\n",
    "#print(len(cluster_idx[0]))\n",
    "cluster = data[cluster_idx]\n",
    "#print(len(cluster))\n",
    "\n",
    "%matplotlib qt\n",
    "#%matplotlib inline\n",
    "fig = plt.figure()\n",
    "ax = Axes3D(fig)\n",
    "\n",
    "ax.scatter(data[:,0], data[:,1], data[:,2], alpha =0.1,  s=20, color = \"w\") # ALl data\n",
    "ax.scatter(cluster[:,0], cluster[:,1], cluster[:,2], alpha =1, s=40, color = \"k\") # Cluster data\n",
    "\n",
    "\n",
    "\n",
    "ax.view_init(azim=30,elev=50)\n",
    "\n",
    "plt.show()"
   ]
  },
  {
   "cell_type": "markdown",
   "id": "8682a27d",
   "metadata": {},
   "source": [
    "## B) Displaying pre or postsynaptic sites between two segment IDs"
   ]
  },
  {
   "cell_type": "markdown",
   "id": "64774f5c",
   "metadata": {},
   "source": [
    "### 1. Input two segments IDs manually selected:"
   ]
  },
  {
   "cell_type": "code",
   "execution_count": null,
   "id": "5e5d4e39",
   "metadata": {},
   "outputs": [],
   "source": [
    "import numpy as np\n",
    "from caveclient import CAVEclient\n",
    "from nglui.statebuilder.helpers import make_synapse_neuroglancer_link\n",
    "from FANC_synaptic_links import to_ng_annotations, downscale"
   ]
  },
  {
   "cell_type": "code",
   "execution_count": null,
   "id": "b2f4bd54",
   "metadata": {},
   "outputs": [],
   "source": [
    "client = CAVEclient('flywire_fafb_production')"
   ]
  },
  {
   "cell_type": "code",
   "execution_count": null,
   "id": "a7ffb491",
   "metadata": {},
   "outputs": [],
   "source": [
    "#Defaul values\n",
    "top_left = np.array([65995, 84864, 5400])*[4,4,40]  # [65995, 84864, 5400], [158278, 71889, 2189]\n",
    "bottom_right = np.array([69399, 86757, 5478])*[4,4,40]  # [69399, 86757, 5478], [171350, 73983, 2237]\n",
    "defaul_pre_id = 720575940659388801 # L3\n",
    "defaul_post_id = 720575940626482442 # Tm9\n"
   ]
  },
  {
   "cell_type": "code",
   "execution_count": null,
   "id": "405d0d9e",
   "metadata": {},
   "outputs": [],
   "source": [
    "synapses = client.materialize.synapse_query(\n",
    "    bounding_box=[top_left, bottom_right],\n",
    "    bounding_box_column='pre_pt_position')\n",
    "\n",
    "# OR\n",
    "\n",
    "synapses = client.materialize.synapse_query(\n",
    "        pre_ids = int(defaul_pre_id), post_ids = int(defaul_post_id),\n",
    "        bounding_box_column='pre_pt_position'\n",
    "        )"
   ]
  },
  {
   "cell_type": "code",
   "execution_count": null,
   "id": "f4e7cd0e",
   "metadata": {},
   "outputs": [],
   "source": [
    "url = make_synapse_neuroglancer_link(synapses, client, point_column='pre_pt_position')"
   ]
  },
  {
   "cell_type": "code",
   "execution_count": null,
   "id": "b26c8a32",
   "metadata": {},
   "outputs": [],
   "source": [
    "display(url)"
   ]
  },
  {
   "cell_type": "markdown",
   "id": "28896e37",
   "metadata": {},
   "source": [
    "### 1. Or, load segment IDs from a google drive file (currently under development):"
   ]
  },
  {
   "cell_type": "markdown",
   "id": "16329503",
   "metadata": {},
   "source": [
    "A quickstar to access Google Workspace API here: https://developers.google.com/sheets/api/quickstart/python#step_3_set_up_the_sample"
   ]
  },
  {
   "cell_type": "code",
   "execution_count": null,
   "id": "54c796fe",
   "metadata": {},
   "outputs": [],
   "source": [
    "#Load file\n",
    "#Option 1: currently not working\n",
    "\n",
    "import pandas as pd\n",
    "from googleapiclient.discovery import build\n",
    "from google_auth_oauthlib.flow import InstalledAppFlow,Flow\n",
    "from google.auth.transport.requests import Request\n",
    "import os\n",
    "import pickle\n",
    "\n",
    "SCOPES = ['https://www.googleapis.com/auth/spreadsheets']\n",
    "#GET https://sheets.googleapis.com/v4/spreadsheets/{spreadsheetId}/values/{range}\n",
    "\n",
    "# here enter the id of your google sheet\n",
    "SAMPLE_SPREADSHEET_ID_input = '1qpe8WBx07Tcza_-cLjYx1HLx1IMKoFjL'\n",
    "SAMPLE_RANGE_NAME = 'A1:AA1000'\n",
    "\n",
    "def main():\n",
    "    global values_input, service\n",
    "    creds = None\n",
    "    if os.path.exists('token.pickle'):\n",
    "        with open('token.pickle', 'rb') as token:\n",
    "            creds = pickle.load(token)\n",
    "    if not creds or not creds.valid:\n",
    "        if creds and creds.expired and creds.refresh_token:\n",
    "            creds.refresh(Request())\n",
    "        else:\n",
    "            flow = InstalledAppFlow.from_client_secrets_file(\n",
    "                'credentials.json', SCOPES) # here enter the name of your downloaded JSON file\n",
    "            creds = flow.run_local_server(port=0)\n",
    "        with open('token.pickle', 'wb') as token:\n",
    "            pickle.dump(creds, token)\n",
    "\n",
    "    service = build('sheets', 'v4', credentials=creds)\n",
    "\n",
    "    # Call the Sheets API\n",
    "    sheet = service.spreadsheets()\n",
    "    result_input = sheet.values().get(spreadsheetId=SAMPLE_SPREADSHEET_ID_input,\n",
    "                                range=SAMPLE_RANGE_NAME).execute()\n",
    "    values_input = result_input.get('values', [])\n",
    "\n",
    "    if not values_input and not values_expansion:\n",
    "        print('No data found.')\n",
    "\n",
    "main()\n",
    "\n",
    "df=pd.DataFrame(values_input)\n",
    "\n"
   ]
  },
  {
   "cell_type": "code",
   "execution_count": null,
   "id": "204f6257",
   "metadata": {},
   "outputs": [],
   "source": [
    "# Load file\n",
    "#Option 2: currently not working\n",
    "\"\"\"\n",
    "BEFORE RUNNING:\n",
    "---------------\n",
    "1. If not already done, enable the Google Sheets API\n",
    "   and check the quota for your project at\n",
    "   https://console.developers.google.com/apis/api/sheets\n",
    "2. Install the Python client library for Google APIs by running\n",
    "   `pip install --upgrade google-api-python-client`\n",
    "\"\"\"\n",
    "from pprint import pprint\n",
    "\n",
    "from googleapiclient import discovery\n",
    "from google_auth_oauthlib.flow import InstalledAppFlow,Flow\n",
    "from google.auth.transport.requests import Request\n",
    "import os\n",
    "import pickle\n",
    "\n",
    "# TODO: Change placeholder below to generate authentication credentials. See\n",
    "# https://developers.google.com/sheets/quickstart/python#step_3_set_up_the_sample\n",
    "#\n",
    "# Authorize using one of the following scopes:\n",
    "#     'https://www.googleapis.com/auth/drive'\n",
    "#     'https://www.googleapis.com/auth/drive.file'\n",
    "#     'https://www.googleapis.com/auth/drive.readonly'\n",
    "#     'https://www.googleapis.com/auth/spreadsheets'\n",
    "#     'https://www.googleapis.com/auth/spreadsheets.readonly'\n",
    "\n",
    "creds = None\n",
    "if os.path.exists('token.pickle'):\n",
    "    with open('token.pickle', 'rb') as token:\n",
    "        creds = pickle.load(token)\n",
    "if not creds or not creds.valid:\n",
    "    if creds and creds.expired and creds.refresh_token:\n",
    "        creds.refresh(Request())\n",
    "    else:\n",
    "        flow = InstalledAppFlow.from_client_secrets_file(\n",
    "            'credentials.json', SCOPES) # here enter the name of your downloaded JSON file\n",
    "        creds = flow.run_local_server(port=0)\n",
    "    with open('token.pickle', 'wb') as token:\n",
    "        pickle.dump(creds, token)\n",
    "\n",
    "service = discovery.build('sheets', 'v4', credentials=creds)\n",
    "\n",
    "# The ID of the spreadsheet to retrieve data from.\n",
    "spreadsheet_id = '1qpe8WBx07Tcza_-cLjYx1HLx1IMKoFjL'  # TODO: Update placeholder value.\n",
    "\n",
    "# The A1 notation of the values to retrieve.\n",
    "range_ = 'A1:AA1000'  # TODO: Update placeholder value.\n",
    "\n",
    "# How values should be represented in the output.\n",
    "# The default render option is ValueRenderOption.FORMATTED_VALUE.\n",
    "value_render_option = 'FORMATTED_VALUE'  # TODO: Update placeholder value.\n",
    "\n",
    "# How dates, times, and durations should be represented in the output.\n",
    "# This is ignored if value_render_option is\n",
    "# FORMATTED_VALUE.\n",
    "# The default dateTime render option is [DateTimeRenderOption.SERIAL_NUMBER].\n",
    "date_time_render_option = 'SERIAL_NUMBER'  # TODO: Update placeholder value.\n",
    "\n",
    "request = service.spreadsheets().values().get(spreadsheetId=spreadsheet_id, range=range_, valueRenderOption=value_render_option, dateTimeRenderOption=date_time_render_option)\n",
    "response = request.execute()\n",
    "\n",
    "# TODO: Change code below to process the `response` dict:\n",
    "pprint(response)"
   ]
  },
  {
   "cell_type": "markdown",
   "id": "eeba8ec2",
   "metadata": {},
   "source": [
    "### 1. Or, load segment IDs from an excel file:"
   ]
  },
  {
   "cell_type": "code",
   "execution_count": 2,
   "id": "6725fd5c",
   "metadata": {},
   "outputs": [],
   "source": [
    "# Choose path and file\n",
    "import os\n",
    "\n",
    "dataPath = r'C:\\Users\\sebas\\Downloads'\n",
    "fileName = 'All_Tm9_neurons_input_count_ME_R_20221005.xlsx'\n",
    "filePath = os.path.join(dataPath,fileName)"
   ]
  },
  {
   "cell_type": "code",
   "execution_count": 3,
   "id": "9f42c371",
   "metadata": {},
   "outputs": [
    {
     "data": {
      "text/html": [
       "<div>\n",
       "<style scoped>\n",
       "    .dataframe tbody tr th:only-of-type {\n",
       "        vertical-align: middle;\n",
       "    }\n",
       "\n",
       "    .dataframe tbody tr th {\n",
       "        vertical-align: top;\n",
       "    }\n",
       "\n",
       "    .dataframe thead th {\n",
       "        text-align: right;\n",
       "    }\n",
       "</style>\n",
       "<table border=\"1\" class=\"dataframe\">\n",
       "  <thead>\n",
       "    <tr style=\"text-align: right;\">\n",
       "      <th></th>\n",
       "      <th>presynaptic_ID</th>\n",
       "      <th>counts</th>\n",
       "      <th>count %</th>\n",
       "      <th>postsynaptic_ID</th>\n",
       "      <th>XYZ soma</th>\n",
       "      <th>XYZ</th>\n",
       "      <th>voxel_raw_x</th>\n",
       "      <th>voxel_raw_y</th>\n",
       "      <th>voxel_raw_z</th>\n",
       "      <th>symbol</th>\n",
       "      <th>...</th>\n",
       "      <th>name</th>\n",
       "      <th>seg_id</th>\n",
       "      <th>twigs proofread (Y/N)</th>\n",
       "      <th>FlyWire proofread (Y/N)</th>\n",
       "      <th>identified_in</th>\n",
       "      <th>lab authorship (Y/N)</th>\n",
       "      <th>notes</th>\n",
       "      <th>annotations_link</th>\n",
       "      <th>Extra notes as comments</th>\n",
       "      <th>Working on</th>\n",
       "    </tr>\n",
       "  </thead>\n",
       "  <tbody>\n",
       "    <tr>\n",
       "      <th>0</th>\n",
       "      <td>720575940659388801</td>\n",
       "      <td>38.0</td>\n",
       "      <td>NaN</td>\n",
       "      <td>720575940627738884</td>\n",
       "      <td>no soma</td>\n",
       "      <td>61065, 87199, 4730</td>\n",
       "      <td>61065.0</td>\n",
       "      <td>87199.0</td>\n",
       "      <td>4730.0</td>\n",
       "      <td>L3</td>\n",
       "      <td>...</td>\n",
       "      <td>Lamina monopolar cell 3, L3,  [FBbt_00003721]</td>\n",
       "      <td>7.205759e+17</td>\n",
       "      <td>Y</td>\n",
       "      <td>Y</td>\n",
       "      <td>Fischbach &amp; Dittrich, 1989</td>\n",
       "      <td>Y</td>\n",
       "      <td>NaN</td>\n",
       "      <td>https://ngl.flywire.ai/?json_url=https://globa...</td>\n",
       "      <td>NaN</td>\n",
       "      <td>NaN</td>\n",
       "    </tr>\n",
       "    <tr>\n",
       "      <th>1</th>\n",
       "      <td>720575940615238668</td>\n",
       "      <td>12.0</td>\n",
       "      <td>NaN</td>\n",
       "      <td>720575940627738884</td>\n",
       "      <td>59355, 90055, 5482</td>\n",
       "      <td>66443, 86349, 5461</td>\n",
       "      <td>66443.0</td>\n",
       "      <td>86349.0</td>\n",
       "      <td>5461.0</td>\n",
       "      <td>Mi4</td>\n",
       "      <td>...</td>\n",
       "      <td>Medullary intrinsic neuron Mi4 [FBbt_00003779] ?</td>\n",
       "      <td>7.205759e+17</td>\n",
       "      <td>N</td>\n",
       "      <td>NaN</td>\n",
       "      <td>Fischbach &amp; Dittrich, 1989</td>\n",
       "      <td>NaN</td>\n",
       "      <td>NaN</td>\n",
       "      <td>https://ngl.flywire.ai/?json_url=https://globa...</td>\n",
       "      <td>NaN</td>\n",
       "      <td>NaN</td>\n",
       "    </tr>\n",
       "    <tr>\n",
       "      <th>2</th>\n",
       "      <td>720575940620740790</td>\n",
       "      <td>8.0</td>\n",
       "      <td>NaN</td>\n",
       "      <td>720575940627738884</td>\n",
       "      <td>59642, 87973, 5337</td>\n",
       "      <td>61058, 86308, 5533</td>\n",
       "      <td>61058.0</td>\n",
       "      <td>86308.0</td>\n",
       "      <td>5533.0</td>\n",
       "      <td>???</td>\n",
       "      <td>...</td>\n",
       "      <td>Transmedullary neuron</td>\n",
       "      <td>7.205759e+17</td>\n",
       "      <td>N</td>\n",
       "      <td>NaN</td>\n",
       "      <td>Fischbach &amp; Dittrich, 1989</td>\n",
       "      <td>NaN</td>\n",
       "      <td>NaN</td>\n",
       "      <td>https://ngl.flywire.ai/?json_url=https://globa...</td>\n",
       "      <td>NaN</td>\n",
       "      <td>Maria Ioannidou</td>\n",
       "    </tr>\n",
       "    <tr>\n",
       "      <th>3</th>\n",
       "      <td>720575940625018512</td>\n",
       "      <td>5.0</td>\n",
       "      <td>NaN</td>\n",
       "      <td>720575940627738884</td>\n",
       "      <td>no soma</td>\n",
       "      <td>60075, 85501, 4528</td>\n",
       "      <td>60075.0</td>\n",
       "      <td>85501.0</td>\n",
       "      <td>4528.0</td>\n",
       "      <td>L4</td>\n",
       "      <td>...</td>\n",
       "      <td>NaN</td>\n",
       "      <td>7.205759e+17</td>\n",
       "      <td>Y</td>\n",
       "      <td>N</td>\n",
       "      <td>Fischbach &amp; Dittrich, 1989</td>\n",
       "      <td>NaN</td>\n",
       "      <td>projections in layer M2 and M4</td>\n",
       "      <td>https://ngl.flywire.ai/?json_url=https://globa...</td>\n",
       "      <td>NaN</td>\n",
       "      <td>NaN</td>\n",
       "    </tr>\n",
       "    <tr>\n",
       "      <th>4</th>\n",
       "      <td>720575940633484514</td>\n",
       "      <td>5.0</td>\n",
       "      <td>NaN</td>\n",
       "      <td>720575940627738884</td>\n",
       "      <td>NaN</td>\n",
       "      <td>62895, 87995, 5152</td>\n",
       "      <td>62895.0</td>\n",
       "      <td>87995.0</td>\n",
       "      <td>5152.0</td>\n",
       "      <td>C3</td>\n",
       "      <td>...</td>\n",
       "      <td>Centrifugal cell C3</td>\n",
       "      <td>7.205759e+17</td>\n",
       "      <td>Y</td>\n",
       "      <td>N</td>\n",
       "      <td>Fischbach &amp; Dittrich, 1989</td>\n",
       "      <td>NaN</td>\n",
       "      <td>soma merged with glia 720575940631967116</td>\n",
       "      <td>https://ngl.flywire.ai/?json_url=https://globa...</td>\n",
       "      <td>NaN</td>\n",
       "      <td>Annalena</td>\n",
       "    </tr>\n",
       "  </tbody>\n",
       "</table>\n",
       "<p>5 rows × 24 columns</p>\n",
       "</div>"
      ],
      "text/plain": [
       "       presynaptic_ID  counts  count %     postsynaptic_ID  \\\n",
       "0  720575940659388801    38.0      NaN  720575940627738884   \n",
       "1  720575940615238668    12.0      NaN  720575940627738884   \n",
       "2  720575940620740790     8.0      NaN  720575940627738884   \n",
       "3  720575940625018512     5.0      NaN  720575940627738884   \n",
       "4  720575940633484514     5.0      NaN  720575940627738884   \n",
       "\n",
       "             XYZ soma                 XYZ  voxel_raw_x  voxel_raw_y  \\\n",
       "0            no soma   61065, 87199, 4730      61065.0      87199.0   \n",
       "1  59355, 90055, 5482  66443, 86349, 5461      66443.0      86349.0   \n",
       "2  59642, 87973, 5337  61058, 86308, 5533      61058.0      86308.0   \n",
       "3            no soma   60075, 85501, 4528      60075.0      85501.0   \n",
       "4                 NaN  62895, 87995, 5152      62895.0      87995.0   \n",
       "\n",
       "   voxel_raw_z symbol  ...                                              name  \\\n",
       "0       4730.0     L3  ...     Lamina monopolar cell 3, L3,  [FBbt_00003721]   \n",
       "1       5461.0    Mi4  ...  Medullary intrinsic neuron Mi4 [FBbt_00003779] ?   \n",
       "2       5533.0    ???  ...                            Transmedullary neuron    \n",
       "3       4528.0     L4  ...                                               NaN   \n",
       "4       5152.0     C3  ...                              Centrifugal cell C3    \n",
       "\n",
       "         seg_id twigs proofread (Y/N) FlyWire proofread (Y/N)  \\\n",
       "0  7.205759e+17                     Y                       Y   \n",
       "1  7.205759e+17                     N                     NaN   \n",
       "2  7.205759e+17                     N                     NaN   \n",
       "3  7.205759e+17                     Y                       N   \n",
       "4  7.205759e+17                     Y                       N   \n",
       "\n",
       "                identified_in  lab authorship (Y/N)  \\\n",
       "0  Fischbach & Dittrich, 1989                     Y   \n",
       "1  Fischbach & Dittrich, 1989                   NaN   \n",
       "2  Fischbach & Dittrich, 1989                   NaN   \n",
       "3  Fischbach & Dittrich, 1989                   NaN   \n",
       "4  Fischbach & Dittrich, 1989                   NaN   \n",
       "\n",
       "                                      notes  \\\n",
       "0                                       NaN   \n",
       "1                                       NaN   \n",
       "2                                       NaN   \n",
       "3            projections in layer M2 and M4   \n",
       "4  soma merged with glia 720575940631967116   \n",
       "\n",
       "                                    annotations_link Extra notes as comments  \\\n",
       "0  https://ngl.flywire.ai/?json_url=https://globa...                     NaN   \n",
       "1  https://ngl.flywire.ai/?json_url=https://globa...                     NaN   \n",
       "2  https://ngl.flywire.ai/?json_url=https://globa...                     NaN   \n",
       "3  https://ngl.flywire.ai/?json_url=https://globa...                     NaN   \n",
       "4  https://ngl.flywire.ai/?json_url=https://globa...                     NaN   \n",
       "\n",
       "        Working on  \n",
       "0              NaN  \n",
       "1              NaN  \n",
       "2  Maria Ioannidou  \n",
       "3              NaN  \n",
       "4        Annalena   \n",
       "\n",
       "[5 rows x 24 columns]"
      ]
     },
     "metadata": {},
     "output_type": "display_data"
    }
   ],
   "source": [
    "#Loeading file as DataFrame\n",
    "import pandas as pd\n",
    "\n",
    "df = pd.read_excel(filePath)\n",
    "if df[\"postsynaptic_ID\"][0] == 'asdf': #Dropping the fisrt row ('asdf' was added as a walk-around to set that column values as type str)\n",
    "    df = df.iloc[1: , :]\n",
    "    df.reset_index(inplace=True,drop=True)\n",
    "#display(df.head())"
   ]
  },
  {
   "cell_type": "code",
   "execution_count": 24,
   "id": "5920235b",
   "metadata": {},
   "outputs": [],
   "source": [
    "#Generating a URL link with annotate synaptic connections for each \"presynaptic_ID - postynaptic_ID\" pair\n",
    "# THis might take long time depending on the length of the DataFrame\n",
    "import numpy as np\n",
    "from caveclient import CAVEclient\n",
    "from nglui.statebuilder.helpers import make_synapse_neuroglancer_link\n",
    "\n",
    "client = CAVEclient('flywire_fafb_production')\n",
    "\n",
    "# Filtering out the 'INPUTS PROOFREAD' row of the data frame\n",
    "filtered_df = df[df[\"presynaptic_ID\"] != 'INPUTS PROOFREAD'].copy()\n",
    "# Updating the IDs\n",
    "pre_IDs_int = list(map(int,filtered_df [\"presynaptic_ID\"].tolist()))\n",
    "post_IDs_int = list(map(int,filtered_df [\"postsynaptic_ID\"].tolist()))\n",
    "new_pre_IDs_int = list(map(client.chunkedgraph.get_latest_roots,pre_IDs_int))\n",
    "new_post_IDs_int = list(map(client.chunkedgraph.get_latest_roots,post_IDs_int))"
   ]
  },
  {
   "cell_type": "code",
   "execution_count": 25,
   "id": "26c24407",
   "metadata": {},
   "outputs": [],
   "source": [
    "#Required data type transformations\n",
    "new_pre_IDs_arr = np.concatenate(new_pre_IDs_int, axis=0 )\n",
    "new_pre_IDs_ls = new_pre_IDs_arr.tolist()\n",
    "\n",
    "new_post_IDs_arr = np.concatenate(new_post_IDs_int, axis=0 )\n",
    "new_post_IDs_ls = new_post_IDs_arr.tolist()\n"
   ]
  },
  {
   "cell_type": "code",
   "execution_count": 26,
   "id": "6d2aae55",
   "metadata": {},
   "outputs": [],
   "source": [
    "url_list = []\n",
    "for pre, post in zip(new_pre_IDs_ls,new_post_IDs_ls):\n",
    "    if pre == 'INPUTS PROOFREAD': # skiping this row for now\n",
    "        url_list.append('NEXT_PAIR')\n",
    "        continue\n",
    "        \n",
    "    synapses = client.materialize.synapse_query(\n",
    "        pre_ids = pre, post_ids = post,\n",
    "        bounding_box_column='post_pt_position'\n",
    "        )\n",
    "    url = make_synapse_neuroglancer_link(\n",
    "        synapses, client,\n",
    "        point_column='post_pt_position',\n",
    "        link_pre_and_post=True, return_as=\"url\"\n",
    "        )\n",
    "    url_list.append(url)"
   ]
  },
  {
   "cell_type": "code",
   "execution_count": 27,
   "id": "72fce074",
   "metadata": {},
   "outputs": [],
   "source": [
    "# Adding the new url column to the data frame\n",
    "filtered_df[\"URL buhmann postsynapses\"] = url_list\n",
    "\n",
    "# Writting in an existing excel file\n",
    "from openpyxl import load_workbook\n",
    "book = load_workbook(filePath)\n",
    "writer = pd.ExcelWriter(filePath, engine = 'openpyxl')\n",
    "writer.book = book\n",
    "\n",
    "filtered_df.to_excel(writer, sheet_name='buhmann synapses_2')\n",
    "writer.save()\n",
    "\n"
   ]
  },
  {
   "cell_type": "markdown",
   "id": "6c849eb8",
   "metadata": {},
   "source": [
    "## C) Linking pre and postsynaptic sites"
   ]
  },
  {
   "cell_type": "markdown",
   "id": "989dd1e3",
   "metadata": {},
   "source": [
    "You need to paste the dictionary into the neuroglancer annotation layer through the “Edit JSON state” button that you can access through the top-right corner menu.\n",
    "Paste the dictionary to replace the [] after \"annotations\":\n",
    "See the image below. Then press “Apply changes” and the synaptic links should show up.\n",
    "\n",
    "<img src=\"./images_visualization/change_annotation_layer_neuroglancer.png\"\n",
    "     alt=\"Optic lobe\"\n",
    "     width=\"500\" height=\"300\" style=\"display: block; margin: 0 auto\" />\n"
   ]
  },
  {
   "cell_type": "code",
   "execution_count": null,
   "id": "f0f41e4c",
   "metadata": {},
   "outputs": [],
   "source": [
    "synapses_vectors = np.hstack(\n",
    "        [np.vstack(synapses.pre_pt_position.values),\n",
    "        np.vstack(synapses.post_pt_position.values)])\n",
    "\n",
    "json_dict = to_ng_annotations(synapses_vectors, input_order='xyz', voxel_mip_center=1, input_units=(4,4,40))"
   ]
  },
  {
   "cell_type": "markdown",
   "id": "4d997d87",
   "metadata": {},
   "source": [
    "## D) Displaying presynaptic sites of a given neuropile (try to mimicking Brp stainings)\n"
   ]
  },
  {
   "cell_type": "markdown",
   "id": "b3fd30d9",
   "metadata": {},
   "source": [
    "### 1. Accesing data through filtered materializations (dumps by Sven Dorkenwald)\n"
   ]
  },
  {
   "cell_type": "markdown",
   "id": "33871653",
   "metadata": {},
   "source": [
    "As far as I have checked, there is no way to select a group of Buhmann synapses with a non-rectangular volume, for example:<br><br>`top_left = np.array([158278, 71889, 2189])*[4,4,40]\n",
    "bottom_right = np.array([171350, 73983, 2237])*[4,4,40]`\n",
    "<br><br>`synapses = client.materialize.synapse_query(\n",
    "    bounding_box=[top_left, bottom_right],\n",
    "    bounding_box_column='pre_pt_position')`\n",
    "<br><br>Thefore, to get all synapses for specific neuropils (not rectangular volumes), we work with dump tables shared by Sven Dorkenwald <a href=\"https://drive.google.com/drive/folders/1g7i3LMmDFcZXDXzevy3eUSrmcMJl2B6a\">here.</a>\n",
    "<br>Download the last dump first before continuing."
   ]
  },
  {
   "cell_type": "markdown",
   "id": "abc709ac",
   "metadata": {},
   "source": [
    "**DISCLAIMER:** Limited query to 200000 rows\n",
    "<br><br>**TODO** : To get a CLEAN neuropil: \n",
    "\n",
    "1. Get all root_IDs (segment IDs) belonging to a given neuropile (loaded from dump materialization).\n",
    "2. Pass these list in the `flywire.synapses.fetch_synapses` function to get XYZ location and the neuropile\n",
    "3. Filter according to the neuropile"
   ]
  },
  {
   "cell_type": "code",
   "execution_count": null,
   "id": "f82cfe6b",
   "metadata": {},
   "outputs": [],
   "source": [
    "# Choocing the latest dump files\n",
    "\n",
    "import os\n",
    "dataPath = r'D:\\Sebastian\\Science\\FlyWire\\materializations\\487'\n",
    "fileName = 'syn_proof_analysis_filtered_487.feather'\n",
    "filePath = os.path.join(dataPath,fileName)"
   ]
  },
  {
   "cell_type": "code",
   "execution_count": null,
   "id": "4eb0ea53",
   "metadata": {},
   "outputs": [],
   "source": [
    "import pyarrow.feather as feather\n",
    "\n",
    "# Loading dumps\n",
    "syn_df = feather.read_feather(filePath)"
   ]
  },
  {
   "cell_type": "code",
   "execution_count": null,
   "id": "3520d541",
   "metadata": {},
   "outputs": [],
   "source": [
    "# Getting all connecting pre and post IDs an specific neuropil\n",
    "\n",
    "neuropile = 'ME_R' # Choosen neuropil\n",
    "syn_threshold = [50,100] # minimum and maximum number of synapses to consider\n",
    "\n",
    "print(f\"Threshold: > {syn_threshold} synapses\")\n",
    "print(\"--\")\n",
    "syn_df = syn_df[((syn_df['syn_count'] > syn_threshold[0]) & (syn_df['syn_count'] < syn_threshold[1]))] # Sub dataframe for the selected threshold\n",
    "print(f\"Number of unique pre-IDs: {len(syn_df['pre_pt_root_id'].unique())}\")\n",
    "print(f\"Number of unique post-IDs: {len(syn_df['post_pt_root_id'].unique())}\")\n",
    "print(f\"Total number of synapses: {syn_df['syn_count'].sum()}\")\n",
    "print(\"--\")\n",
    "\n",
    "#Filtering for a neuropile and for more than one synaptic count\n",
    "syn_neuropile_df = syn_df[(syn_df['neuropil'] == neuropile)] # Sub dataframe for the selected neuropile\n",
    "print(f\"Number of unique {neuropile} pre-IDs: {len(syn_neuropile_df['pre_pt_root_id'].unique())}\")\n",
    "print(f\"Number of unique {neuropile} post-IDs: {len(syn_neuropile_df['post_pt_root_id'].unique())}\")\n",
    "print(f\"Total number of {neuropile} synapses: {syn_neuropile_df['syn_count'].sum()}\")\n",
    "\n",
    "#Storing the IDs in a common list\n",
    "pre_IDs = syn_neuropile_df['pre_pt_root_id'].unique().tolist()\n",
    "post_IDs = syn_neuropile_df['post_pt_root_id'].unique().tolist()\n",
    "segmentsIDs_ls = pre_IDs+post_IDs\n",
    "segmentsIDs_ls = list(dict.fromkeys(segmentsIDs_ls))"
   ]
  },
  {
   "cell_type": "code",
   "execution_count": null,
   "id": "b056b992",
   "metadata": {},
   "outputs": [],
   "source": [
    "# Downsampling at the ID level\n",
    "#(to avoid the limitation of queryng live materializations, as all CAVEclient or flywire functions do)\n",
    "\n",
    "import random\n",
    "random.seed(42)\n",
    "\n",
    "group_of_items = segmentsIDs_ls\n",
    "num_to_select = 5 \n",
    "segmentsIDs_random_ls = random.sample(group_of_items, num_to_select)"
   ]
  },
  {
   "cell_type": "code",
   "execution_count": null,
   "id": "50878dd7",
   "metadata": {},
   "outputs": [],
   "source": [
    "# Updating IDs\n",
    "from fafbseg import flywire\n",
    "df_upddated_segmentsIDs = flywire.update_ids(segmentsIDs_random_ls) \n",
    "new_segmentsIDs_ls = df_upddated_segmentsIDs.new_id.values"
   ]
  },
  {
   "cell_type": "code",
   "execution_count": null,
   "id": "6b9b1573",
   "metadata": {},
   "outputs": [],
   "source": [
    "# Getting synapses locations and neuropile\n",
    "inputs = flywire.synapses.fetch_synapses(new_segmentsIDs_ls, pre=False, post=True, attach=True, \n",
    "                                         min_score=50, clean=True, transmitters=True, \n",
    "                                         neuropils=True, batch_size=30,\n",
    "                                         dataset='production', progress=True)\n",
    "outputs = flywire.synapses.fetch_synapses(new_segmentsIDs_ls, pre=True, post=False, attach=True,\n",
    "                                          min_score=50, clean=True, transmitters=True,\n",
    "                                          neuropils=True, batch_size=30,\n",
    "                                          dataset='production', progress=True)\n"
   ]
  },
  {
   "cell_type": "code",
   "execution_count": null,
   "id": "07444eda",
   "metadata": {},
   "outputs": [],
   "source": [
    "# Getting the synapses location and generating URL (NOT CLEAN)\n",
    "import caveclient\n",
    "from nglui.statebuilder.helpers import make_synapse_neuroglancer_link\n",
    "\n",
    "client = caveclient.CAVEclient(\"flywire_fafb_production\")\n",
    "\n",
    "pre_list = syn_neuropile_df ['pre_pt_root_id'].tolist()\n",
    "post_list = syn_neuropile_df ['post_pt_root_id'].tolist()\n",
    "\n",
    "synapses = client.materialize.synapse_query(\n",
    "        pre_ids = pre_list, post_ids = post_list,\n",
    "        bounding_box_column='pre_pt_position'\n",
    "        )\n",
    "\n",
    "url = make_synapse_neuroglancer_link(synapses, client, point_column='pre_pt_position')\n",
    "display(url)"
   ]
  },
  {
   "cell_type": "code",
   "execution_count": null,
   "id": "b8d9590c",
   "metadata": {},
   "outputs": [],
   "source": [
    "# Getting neuropil-CLEAN synaptic locations\n",
    "inputs_neuropil_df = inputs[inputs[\"neuropil\"] == neuropile].copy() # Important here to get a copy and not just a slice\n",
    "outputs_neuropil_df = outputs[outputs[\"neuropil\"] == neuropile].copy()"
   ]
  },
  {
   "cell_type": "code",
   "execution_count": null,
   "id": "5fa0b1b4",
   "metadata": {},
   "outputs": [],
   "source": [
    "# Creating colums with combined XYZ positions for using the `make_synapse_neuroglancer_link` function\n",
    "post_pt_position = []\n",
    "for x,y,z in zip(inputs_neuropil_df['post_x'].tolist(),inputs_neuropil_df['post_y'].tolist(),inputs_neuropil_df['post_z'].tolist()):\n",
    "    temp_ls = [x/4,y/4,z/40]\n",
    "    post_pt_position.append(temp_ls)\n",
    "\n",
    "pre_pt_position = []\n",
    "for x,y,z in zip(outputs_neuropil_df['pre_x'].tolist(),outputs_neuropil_df['pre_y'].tolist(),outputs_neuropil_df['pre_z'].tolist()):\n",
    "    temp_ls = [x/4,y/4,z/40]\n",
    "    pre_pt_position.append(temp_ls)"
   ]
  },
  {
   "cell_type": "code",
   "execution_count": null,
   "id": "e6ce5628",
   "metadata": {},
   "outputs": [],
   "source": [
    "# Adding this new column to the dataset and changing some column names to use the `make_synapse_neuroglancer_link` function\n",
    "#Adding\n",
    "inputs_neuropil_df['post_pt_position'] = post_pt_position\n",
    "outputs_neuropil_df['pre_pt_position'] = pre_pt_position\n",
    "#Changing column names\n",
    "inputs_neuropil_df.rename(columns={'pre': 'pre_pt_root_id', 'post': 'post_pt_root_id'}, inplace=True)\n",
    "outputs_neuropil_df.rename(columns={'pre': 'pre_pt_root_id', 'post': 'post_pt_root_id'}, inplace=True)"
   ]
  },
  {
   "cell_type": "code",
   "execution_count": null,
   "id": "2f04ceaf",
   "metadata": {},
   "outputs": [],
   "source": [
    "outputs_neuropil_df.head()"
   ]
  },
  {
   "cell_type": "code",
   "execution_count": null,
   "id": "bf31f096",
   "metadata": {},
   "outputs": [],
   "source": [
    "# Downsampling at the final data frame level\n",
    "#(to avoid the limitation of generating URL links with to many anotations)\n",
    "downsampled_outputs_neuropil_df= outputs_neuropil_df.sample(n=30, random_state=42)"
   ]
  },
  {
   "cell_type": "code",
   "execution_count": null,
   "id": "09e27bf2",
   "metadata": {},
   "outputs": [],
   "source": [
    "# Generating URL (The connection is being aborted after some time if too many connections are included!)\n",
    "\n",
    "import caveclient\n",
    "from nglui.statebuilder.helpers import make_synapse_neuroglancer_link\n",
    "\n",
    "client = caveclient.CAVEclient(\"flywire_fafb_production\")\n",
    "\n",
    "url = make_synapse_neuroglancer_link(downsampled_outputs_neuropil_df, client, point_column='pre_pt_position')\n",
    "display(url)"
   ]
  },
  {
   "cell_type": "markdown",
   "id": "d6f26dba",
   "metadata": {},
   "source": [
    "### 1. Or,  accesing data without filters from the CAVE annotation system.. . \n",
    "\n",
    "**DISCLAIMER**: Currently it is not possible to get more than 200000 rows /data points from available tables."
   ]
  },
  {
   "cell_type": "markdown",
   "id": "c0b840b5",
   "metadata": {},
   "source": [
    "Using low level access to the CAVE annotation system. More info, <a href= \"https://natverse.org/fafbseg/reference/flywire_cave_client.html\"> here</a> or <a href=\"https://caveclient.readthedocs.io/en/latest/guide/annotation.html?highlight=tables#getting-existing-tables\"> here.</a>"
   ]
  },
  {
   "cell_type": "code",
   "execution_count": null,
   "id": "c16633e6",
   "metadata": {},
   "outputs": [],
   "source": [
    "# Checking available tables\n",
    "\n",
    "all_tables = client.annotation.get_tables()\n",
    "#all_tables"
   ]
  },
  {
   "cell_type": "code",
   "execution_count": null,
   "id": "33c80602",
   "metadata": {},
   "outputs": [],
   "source": [
    "import caveclient\n",
    "client = caveclient.CAVEclient(\"flywire_fafb_production\")\n",
    "ident_df = client.materialize.query_table(\"fly_synapses_neuropil\") # identification dataframe  with neuropil data\n"
   ]
  },
  {
   "cell_type": "code",
   "execution_count": null,
   "id": "a13f61bc",
   "metadata": {},
   "outputs": [],
   "source": [
    "ident_df.head()"
   ]
  },
  {
   "cell_type": "code",
   "execution_count": null,
   "id": "266f0b2c",
   "metadata": {},
   "outputs": [],
   "source": [
    "from nglui.statebuilder.helpers import make_synapse_neuroglancer_link\n",
    "\n",
    "url = make_synapse_neuroglancer_link(ident_df, client, point_column='pre_pt_position')"
   ]
  },
  {
   "cell_type": "code",
   "execution_count": null,
   "id": "d74a2e64",
   "metadata": {},
   "outputs": [],
   "source": [
    "display(url)"
   ]
  },
  {
   "cell_type": "code",
   "execution_count": null,
   "id": "6c4b1c9e",
   "metadata": {},
   "outputs": [],
   "source": []
  },
  {
   "cell_type": "markdown",
   "id": "edd34438",
   "metadata": {},
   "source": [
    "### 1. Or, getting a neuropile volume through itereations of rectangular boxes using \"bounding_box\" option from<br><br>`client.materialize.synapse_query`  (under development)"
   ]
  },
  {
   "cell_type": "code",
   "execution_count": null,
   "id": "ca47072e",
   "metadata": {},
   "outputs": [],
   "source": []
  }
 ],
 "metadata": {
  "kernelspec": {
   "display_name": "Python 3 (ipykernel)",
   "language": "python",
   "name": "python3"
  },
  "language_info": {
   "codemirror_mode": {
    "name": "ipython",
    "version": 3
   },
   "file_extension": ".py",
   "mimetype": "text/x-python",
   "name": "python",
   "nbconvert_exporter": "python",
   "pygments_lexer": "ipython3",
   "version": "3.7.4"
  }
 },
 "nbformat": 4,
 "nbformat_minor": 5
}
