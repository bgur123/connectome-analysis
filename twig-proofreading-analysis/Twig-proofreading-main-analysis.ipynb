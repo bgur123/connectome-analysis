{
 "cells": [
  {
   "cell_type": "markdown",
   "id": "bb1fd185",
   "metadata": {},
   "source": [
    "# Twig-proofreading main analysis"
   ]
  },
  {
   "cell_type": "markdown",
   "id": "7ca8e951",
   "metadata": {},
   "source": [
    "<br>**CONTENT**\n",
    "<br>This notebook contains the following type of analysis and plot:\n",
    "\n",
    "<br>A) Global (non-column specific) analysis of data distributions before and after proofreading\n",
    "- Step distributions, density histograms, kernal density estimation, cummulative distributions, box plot and Q-Q plot for number of connections \"counts\" with all presynaptic inputs.\n",
    "\n",
    "<br>B) Column-specific analysis o before and after proofreading\n",
    "- Total count and count different between after and before twig-proofreading \n",
    "- Counts change per segments in the different columns (not finished)\n"
   ]
  },
  {
   "cell_type": "code",
   "execution_count": 10,
   "id": "1af7a1ca",
   "metadata": {},
   "outputs": [],
   "source": [
    "#Importing packages\n",
    "import navis\n",
    "import fafbseg\n",
    "from fafbseg import flywire\n",
    "import numpy as np\n",
    "import pandas as pd\n",
    "import seaborn as sns\n",
    "import matplotlib.pyplot as plt\n",
    "import os\n",
    "from caveclient import CAVEclient\n",
    "client = CAVEclient('flywire_fafb_production')"
   ]
  },
  {
   "cell_type": "code",
   "execution_count": 11,
   "id": "b71b4698",
   "metadata": {},
   "outputs": [],
   "source": [
    "#Plots settings\n",
    "\n",
    "font = {'family' : 'arial',\n",
    "        'weight' : 'normal',\n",
    "        'size'   : 12}\n",
    "axes = {'labelsize': 16, 'titlesize': 16}\n",
    "ticks = {'labelsize': 14}\n",
    "legend = {'fontsize': 14}\n",
    "plt.rc('font', **font)\n",
    "plt.rc('axes', **axes)\n",
    "plt.rc('xtick', **ticks)\n",
    "plt.rc('ytick', **ticks)\n"
   ]
  },
  {
   "cell_type": "markdown",
   "id": "c828b201",
   "metadata": {},
   "source": [
    "## A) GLobal (non-column specific) analysis of data distributions before and after proofreading"
   ]
  },
  {
   "cell_type": "markdown",
   "id": "96e4d701",
   "metadata": {},
   "source": [
    "### 1. Loading data set from an excel file"
   ]
  },
  {
   "cell_type": "code",
   "execution_count": 12,
   "id": "431facf8",
   "metadata": {},
   "outputs": [],
   "source": [
    "#Choose path and file\n",
    "#dataPath = r'D:\\Connectomics-Data\\FlyWire\\Excels\\drive-data-sets'\n",
    "dataPath = r'C:\\Users\\sebas\\Downloads'\n",
    "# fileDate = '20230111'\n",
    "fileDate = '20230216'\n",
    "fileName = f'All_Tm9_neurons_input_count_ME_R_impact_twig_proofreading_{fileDate}.xlsx'\n",
    "neuron_name = 'Tm9'\n",
    "#fileDate = '20230206'\n",
    "\n",
    "#fileName = f'All_Tm1_neurons_input_count_ME_R_impact_twig_proofreading_{fileDate}.xlsx'\n",
    "#neuron_name = 'Tm1'\n",
    "filePath = os.path.join(dataPath,fileName)\n",
    "df = pd.read_excel(filePath)"
   ]
  },
  {
   "cell_type": "code",
   "execution_count": 13,
   "id": "e8cd6fd1",
   "metadata": {},
   "outputs": [],
   "source": [
    "#Filtering out separator row (e.g.,\"NEXT INPUTS\") and data were backbone-proofread was also done\n",
    "df = df[(df['presynaptic_ID'] != 'NEXT INPUTS') & (df['comments'] != 'backbone-proofread')].copy()"
   ]
  },
  {
   "cell_type": "code",
   "execution_count": 14,
   "id": "07df08f6",
   "metadata": {},
   "outputs": [],
   "source": [
    "#Filtering out all counts bigger than X number\n",
    "apply_threshold = False\n",
    "synapse_range = 'all synapses'\n",
    "\n",
    "if apply_threshold:\n",
    "    min_threshold = 3\n",
    "    max_threshold = 150\n",
    "    df = df[(df['counts'] >= min_threshold) & (df['counts'] <= max_threshold)].copy()\n",
    "    synapse_range = f'synapses range: {min_threshold} - {max_threshold}'  \n"
   ]
  },
  {
   "cell_type": "code",
   "execution_count": 15,
   "id": "bb7154d1",
   "metadata": {},
   "outputs": [],
   "source": [
    "# Some quentifications\n",
    "before_stats = df[df['twig_proofreading'] == 'before'].describe()\n",
    "after_stats = df[df['twig_proofreading'] == 'after'].describe()\n",
    "n = len(df['column_ID'].unique())\n",
    "total_syn_number_before = df[df['twig_proofreading'] == 'before']['counts'].sum() \n",
    "total_syn_number_after = df[df['twig_proofreading'] == 'after']['counts'].sum() \n",
    "absolut_syn_number_change = total_syn_number_after - total_syn_number_before\n",
    "relative_syn_number_change = (total_syn_number_after - total_syn_number_before)/total_syn_number_before"
   ]
  },
  {
   "cell_type": "markdown",
   "id": "08034756",
   "metadata": {},
   "source": [
    "### 2. Printing and plotting basic information about the dataset"
   ]
  },
  {
   "cell_type": "markdown",
   "id": "8462d7b6",
   "metadata": {},
   "source": [
    "#### Printing:"
   ]
  },
  {
   "cell_type": "code",
   "execution_count": 16,
   "id": "ff1976e2",
   "metadata": {},
   "outputs": [
    {
     "name": "stdout",
     "output_type": "stream",
     "text": [
      "Number of neurons/columns being analyzed: 11\n",
      "Number of rows: 741\n",
      "Synapse counts being considered: all synapses\n",
      "Mean across columns, the absolute change in synapse number: 21.363636363636363\n",
      "Mean across columns, the percentage change in synapse number: 1.67 %\n",
      "Mean across columns, new segments (potential partners): 5.909090909090909\n",
      "---------------------------------------------\n",
      "Before twig-proofreading: \n",
      "\n",
      "            counts\n",
      "count  338.000000\n",
      "mean     3.781065\n",
      "std      6.609004\n",
      "min      1.000000\n",
      "25%      1.000000\n",
      "50%      2.000000\n",
      "75%      3.000000\n",
      "max     46.000000\n",
      "---------------------------------------------\n",
      "After twig-proofreading: \n",
      "\n",
      "            counts\n",
      "count  403.000000\n",
      "mean     3.754342\n",
      "std      6.662937\n",
      "min      1.000000\n",
      "25%      1.000000\n",
      "50%      2.000000\n",
      "75%      3.000000\n",
      "max     46.000000\n"
     ]
    }
   ],
   "source": [
    "print(f\"Number of neurons/columns being analyzed: {n}\")\n",
    "print(f\"Number of rows: {len(df)}\")\n",
    "print(f\"Synapse counts being considered: {synapse_range}\")\n",
    "print(f\"Mean across columns, the absolute change in synapse number: {absolut_syn_number_change/n}\")\n",
    "print(f\"Mean across columns, the percentage change in synapse number: {round((relative_syn_number_change *100)/n,2)} %\")\n",
    "print(f\"Mean across columns, new segments (potential partners): {(after_stats.loc['count'][0]-before_stats.loc['count'][0])/n}\")\n",
    "print('---------------------------------------------')\n",
    "print(f\"Before twig-proofreading: \\n\\n {before_stats}\")\n",
    "print('---------------------------------------------')\n",
    "print(f\"After twig-proofreading: \\n\\n {after_stats}\")"
   ]
  },
  {
   "cell_type": "code",
   "execution_count": 17,
   "id": "485ae393",
   "metadata": {},
   "outputs": [
    {
     "data": {
      "text/html": [
       "<div>\n",
       "<style scoped>\n",
       "    .dataframe tbody tr th:only-of-type {\n",
       "        vertical-align: middle;\n",
       "    }\n",
       "\n",
       "    .dataframe tbody tr th {\n",
       "        vertical-align: top;\n",
       "    }\n",
       "\n",
       "    .dataframe thead th {\n",
       "        text-align: right;\n",
       "    }\n",
       "</style>\n",
       "<table border=\"1\" class=\"dataframe\">\n",
       "  <thead>\n",
       "    <tr style=\"text-align: right;\">\n",
       "      <th></th>\n",
       "      <th>presynaptic_ID</th>\n",
       "      <th>counts</th>\n",
       "      <th>postsynaptic_ID</th>\n",
       "      <th>column_ID</th>\n",
       "      <th>twig_proofreading</th>\n",
       "      <th>comments</th>\n",
       "    </tr>\n",
       "  </thead>\n",
       "  <tbody>\n",
       "    <tr>\n",
       "      <th>0</th>\n",
       "      <td>720575940638104036</td>\n",
       "      <td>44.0</td>\n",
       "      <td>720575940628205800</td>\n",
       "      <td>D3</td>\n",
       "      <td>after</td>\n",
       "      <td>twig-prooread</td>\n",
       "    </tr>\n",
       "    <tr>\n",
       "      <th>1</th>\n",
       "      <td>720575940633567167</td>\n",
       "      <td>29.0</td>\n",
       "      <td>720575940628205800</td>\n",
       "      <td>D3</td>\n",
       "      <td>after</td>\n",
       "      <td>twig-prooread</td>\n",
       "    </tr>\n",
       "    <tr>\n",
       "      <th>2</th>\n",
       "      <td>720575940638277609</td>\n",
       "      <td>11.0</td>\n",
       "      <td>720575940628205800</td>\n",
       "      <td>D3</td>\n",
       "      <td>after</td>\n",
       "      <td>twig-prooread</td>\n",
       "    </tr>\n",
       "    <tr>\n",
       "      <th>3</th>\n",
       "      <td>720575940623001599</td>\n",
       "      <td>10.0</td>\n",
       "      <td>720575940628205800</td>\n",
       "      <td>D3</td>\n",
       "      <td>after</td>\n",
       "      <td>twig-prooread</td>\n",
       "    </tr>\n",
       "    <tr>\n",
       "      <th>4</th>\n",
       "      <td>720575940623549331</td>\n",
       "      <td>7.0</td>\n",
       "      <td>720575940628205800</td>\n",
       "      <td>D3</td>\n",
       "      <td>after</td>\n",
       "      <td>twig-prooread</td>\n",
       "    </tr>\n",
       "    <tr>\n",
       "      <th>...</th>\n",
       "      <td>...</td>\n",
       "      <td>...</td>\n",
       "      <td>...</td>\n",
       "      <td>...</td>\n",
       "      <td>...</td>\n",
       "      <td>...</td>\n",
       "    </tr>\n",
       "    <tr>\n",
       "      <th>746</th>\n",
       "      <td>720575940618937606</td>\n",
       "      <td>1.0</td>\n",
       "      <td>720575940646529571</td>\n",
       "      <td>D9</td>\n",
       "      <td>before</td>\n",
       "      <td>twig-prooread</td>\n",
       "    </tr>\n",
       "    <tr>\n",
       "      <th>747</th>\n",
       "      <td>720575940612102629</td>\n",
       "      <td>1.0</td>\n",
       "      <td>720575940646529571</td>\n",
       "      <td>D9</td>\n",
       "      <td>before</td>\n",
       "      <td>twig-prooread</td>\n",
       "    </tr>\n",
       "    <tr>\n",
       "      <th>748</th>\n",
       "      <td>720575940611114126</td>\n",
       "      <td>1.0</td>\n",
       "      <td>720575940646529571</td>\n",
       "      <td>D9</td>\n",
       "      <td>before</td>\n",
       "      <td>twig-prooread</td>\n",
       "    </tr>\n",
       "    <tr>\n",
       "      <th>749</th>\n",
       "      <td>720575940646093876</td>\n",
       "      <td>1.0</td>\n",
       "      <td>720575940646529571</td>\n",
       "      <td>D9</td>\n",
       "      <td>before</td>\n",
       "      <td>twig-prooread</td>\n",
       "    </tr>\n",
       "    <tr>\n",
       "      <th>750</th>\n",
       "      <td>720575940608786505</td>\n",
       "      <td>1.0</td>\n",
       "      <td>720575940646529571</td>\n",
       "      <td>D9</td>\n",
       "      <td>before</td>\n",
       "      <td>twig-prooread</td>\n",
       "    </tr>\n",
       "  </tbody>\n",
       "</table>\n",
       "<p>741 rows × 6 columns</p>\n",
       "</div>"
      ],
      "text/plain": [
       "         presynaptic_ID  counts     postsynaptic_ID column_ID  \\\n",
       "0    720575940638104036    44.0  720575940628205800        D3   \n",
       "1    720575940633567167    29.0  720575940628205800        D3   \n",
       "2    720575940638277609    11.0  720575940628205800        D3   \n",
       "3    720575940623001599    10.0  720575940628205800        D3   \n",
       "4    720575940623549331     7.0  720575940628205800        D3   \n",
       "..                  ...     ...                 ...       ...   \n",
       "746  720575940618937606     1.0  720575940646529571        D9   \n",
       "747  720575940612102629     1.0  720575940646529571        D9   \n",
       "748  720575940611114126     1.0  720575940646529571        D9   \n",
       "749  720575940646093876     1.0  720575940646529571        D9   \n",
       "750  720575940608786505     1.0  720575940646529571        D9   \n",
       "\n",
       "    twig_proofreading       comments  \n",
       "0               after  twig-prooread  \n",
       "1               after  twig-prooread  \n",
       "2               after  twig-prooread  \n",
       "3               after  twig-prooread  \n",
       "4               after  twig-prooread  \n",
       "..                ...            ...  \n",
       "746            before  twig-prooread  \n",
       "747            before  twig-prooread  \n",
       "748            before  twig-prooread  \n",
       "749            before  twig-prooread  \n",
       "750            before  twig-prooread  \n",
       "\n",
       "[741 rows x 6 columns]"
      ]
     },
     "execution_count": 17,
     "metadata": {},
     "output_type": "execute_result"
    }
   ],
   "source": [
    "df"
   ]
  },
  {
   "cell_type": "markdown",
   "id": "360da31a",
   "metadata": {},
   "source": [
    "#### Plotting data ditribution:"
   ]
  },
  {
   "cell_type": "code",
   "execution_count": 18,
   "id": "7f06c02f",
   "metadata": {},
   "outputs": [
    {
     "data": {
      "text/plain": [
       "Text(0.5, 0, 'number of inputs')"
      ]
     },
     "execution_count": 18,
     "metadata": {},
     "output_type": "execute_result"
    },
    {
     "data": {
      "image/png": "[encoded data removed]",
      "text/plain": [
       "<Figure size 1080x1080 with 4 Axes>"
      ]
     },
     "metadata": {
      "needs_background": "light"
     },
     "output_type": "display_data"
    }
   ],
   "source": [
    "# Potting distributions\n",
    "\n",
    "fig, axs = plt.subplots(2, 2,figsize=(15, 15))\n",
    "sns.histplot(df, x=\"counts\", hue=\"twig_proofreading\", binwidth=1, element=\"step\", common_norm=False, ax=axs[0,0]) \n",
    "axs[0,0].set_title(f'{neuron_name}, step distribution, {synapse_range}')\n",
    "axs[0,0].set_xlabel('number of inputs')\n",
    "# another axis\n",
    "\n",
    "sns.histplot(data=df, x=\"counts\", hue=\"twig_proofreading\", binwidth=1, stat='density', common_norm=False, ax=axs[0,1]);\n",
    "axs[0,1].set_title(f'{neuron_name}, Density Histogram, {synapse_range}')\n",
    "axs[0,1].set_xlabel('number of inputs')\n",
    "\n",
    "\n",
    "# sns.histplot(df, x=\"counts\", hue=\"twig_proofreading\", binwidth=1,multiple=\"dodge\", ax=axs[0,1]) \n",
    "# axs[0,1].set_title(f'{neuron_name}, dodge distribution, {synapse_range}')\n",
    "# axs[0,1].set_xlabel('number of inputs')\n",
    "\n",
    "# another axis\n",
    "sns.kdeplot(data = df, x=\"counts\", hue=\"twig_proofreading\", common_norm = False, ax=axs[1,0])\n",
    "axs[1,0].set_title(f'{neuron_name}, Kernel Density Function, {synapse_range}')\n",
    "axs[1,0].set_xlabel('number of inputs')\n",
    "# another axis\n",
    "sns.histplot(\n",
    "    data=df, x=\"counts\", hue=\"twig_proofreading\",\n",
    "    hue_order=[\"after\", \"before\"],\n",
    "    log_scale=False, element=\"step\", fill=False,\n",
    "    cumulative=True, stat=\"density\", common_norm=False,\n",
    "    ax=axs[1,1]) \n",
    "axs[1,1].set_title(f'{neuron_name}, cumulative distribution, {synapse_range}')\n",
    "axs[1,1].set_xlabel('number of inputs')"
   ]
  },
  {
   "cell_type": "markdown",
   "id": "b208ae91",
   "metadata": {},
   "source": [
    "#### Plotting difference of distributions\n"
   ]
  },
  {
   "cell_type": "markdown",
   "id": "0621f0f1",
   "metadata": {},
   "source": [
    "About the plots: \n",
    "\n",
    "A kernel density estimate (KDE) plot is a method for visualizing the distribution of observations in a dataset, analogous to a histogram. KDE represents the data using a continuous probability density curve in one or more dimensions."
   ]
  },
  {
   "cell_type": "code",
   "execution_count": 16,
   "id": "990988a6",
   "metadata": {},
   "outputs": [],
   "source": [
    "import numpy as np; np.random.seed(0)\n",
    "import matplotlib.pyplot as plt\n",
    "import scipy.stats\n",
    "\n",
    "#KDE calculations\n",
    "a = df[df['twig_proofreading'] == 'after']['counts']\n",
    "b = df[df['twig_proofreading'] == 'before']['counts']\n",
    "kdea = scipy.stats.gaussian_kde(a)\n",
    "kdeb = scipy.stats.gaussian_kde(b)\n",
    "grid_a = np.linspace(min(a),max(a), 10000)\n",
    "grid_b = np.linspace(min(b),max(b), 10000)\n",
    "grid_ab = np.linspace(min(min(a),min(b)),max(max(a),max(b)), 10000)"
   ]
  },
  {
   "cell_type": "code",
   "execution_count": 17,
   "id": "9e8e6dbc",
   "metadata": {},
   "outputs": [],
   "source": [
    "# Quartiles calculations\n",
    "counts = df['counts'].values\n",
    "counts_a = df.loc[df.twig_proofreading=='after', 'counts'].values\n",
    "counts_b = df.loc[df.twig_proofreading=='before', 'counts'].values\n",
    "\n",
    "df_pct = pd.DataFrame()\n",
    "df_pct['q_after'] = np.percentile(counts_a, range(100))\n",
    "df_pct['q_before'] = np.percentile(counts_b, range(100))"
   ]
  },
  {
   "cell_type": "code",
   "execution_count": 24,
   "id": "391e32f7",
   "metadata": {},
   "outputs": [
    {
     "data": {
      "image/png": "[encoded data removed]",
      "text/plain": [
       "<Figure size 1080x1080 with 4 Axes>"
      ]
     },
     "metadata": {
      "needs_background": "light"
     },
     "output_type": "display_data"
    }
   ],
   "source": [
    "#Plotting\n",
    "fig, axs = plt.subplots(2, 2,figsize=(15, 15))\n",
    "sns.boxplot(data=df, x=\"twig_proofreading\", y=\"counts\", ax = axs[0,0]);\n",
    "axs[0,0].set_title(f'{neuron_name}, Boxplot, {synapse_range}');\n",
    "\n",
    "# another axis\n",
    "axs[0,1].plot(grid_a, kdea(grid_a), label=\"after\")\n",
    "axs[0,1].plot(grid_b, kdeb(grid_b), label=\"before\")\n",
    "axs[0,1].set_title(f'{neuron_name}, KDE matplotlib, {synapse_range}')\n",
    "axs[0,1].set_xlabel('number of inputs')\n",
    "axs[0,1].set_ylabel('Density')\n",
    "axs[0,1].legend()\n",
    "\n",
    "# another axis\n",
    "axs[1,1].plot(grid_ab, kdea(grid_ab)-kdeb(grid_ab), color =\"k\", label=\"difference\")\n",
    "axs[1,1].set_title(f'{neuron_name}, KDE matplotlib, {synapse_range}')\n",
    "axs[1,1].set_xlabel('number of inputs')\n",
    "axs[1,1].set_ylabel('Density')\n",
    "axs[1,1].legend()\n",
    "\n",
    "#another axis\n",
    "\n",
    "axs[1,0].scatter(x='q_before', y='q_after', data=df_pct, label='percentile');\n",
    "sns.lineplot(x='q_before', y='q_before', data=df_pct, color='r', label='Line of perfect fit',  ax = axs[1,0]);\n",
    "axs[1,0].set_xlabel('Counts, before twig-proofreading')\n",
    "axs[1,0].set_ylabel('Counts, after twig-proofreading')\n",
    "axs[1,0].legend()\n",
    "axs[1,0].set_title(f'{neuron_name}, Q-Q plot, {synapse_range}');\n",
    "\n"
   ]
  },
  {
   "cell_type": "markdown",
   "id": "07866056",
   "metadata": {},
   "source": [
    "#### Two-gruop tests"
   ]
  },
  {
   "cell_type": "markdown",
   "id": "d2b3e5aa",
   "metadata": {},
   "source": [
    "Check this website to add some useful statistical analysis: https://towardsdatascience.com/how-to-compare-two-or-more-distributions-9b06ee4d30bf"
   ]
  },
  {
   "cell_type": "code",
   "execution_count": null,
   "id": "661ab13f",
   "metadata": {},
   "outputs": [],
   "source": []
  },
  {
   "cell_type": "code",
   "execution_count": null,
   "id": "d19e004a",
   "metadata": {},
   "outputs": [],
   "source": []
  },
  {
   "cell_type": "markdown",
   "id": "ed359fa9",
   "metadata": {},
   "source": [
    "## B) Column-specific analysis o before and after proofreading"
   ]
  },
  {
   "cell_type": "markdown",
   "id": "9721d2bd",
   "metadata": {},
   "source": [
    "### 1. Loading data set from an excel file"
   ]
  },
  {
   "cell_type": "code",
   "execution_count": 38,
   "id": "63a1a790",
   "metadata": {},
   "outputs": [],
   "source": [
    "#Choose path and file\n",
    "#dataPath = r'D:\\Connectomics-Data\\FlyWire\\Excels\\drive-data-sets'\n",
    "dataPath = r'C:\\Users\\sebas\\Downloads'\n",
    "fileDate = '20230206'\n",
    "fileDate = '20230216'\n",
    "fileName = f'All_Tm9_neurons_input_count_ME_R_impact_twig_proofreading_{fileDate}.xlsx'\n",
    "neuron_name = 'Tm9'\n",
    "\n",
    "#fileName = f'All_Tm1_neurons_input_count_ME_R_impact_twig_proofreading_{fileDate}.xlsx'\n",
    "#neuron_name = 'Tm1'\n",
    "filePath = os.path.join(dataPath,fileName)\n",
    "df = pd.read_excel(filePath)"
   ]
  },
  {
   "cell_type": "code",
   "execution_count": 39,
   "id": "0e62df61",
   "metadata": {},
   "outputs": [],
   "source": [
    "#Filtering out separator row (e.g.,\"NEXT INPUTS\") and data were backbone-proofread was also done\n",
    "df = df[(df['presynaptic_ID'] != 'NEXT INPUTS') & (df['comments'] != 'backbone-proofread')].copy()\n"
   ]
  },
  {
   "cell_type": "code",
   "execution_count": 40,
   "id": "73a7df30",
   "metadata": {},
   "outputs": [],
   "source": [
    "#Filtering out all counts bigger than X number\n",
    "apply_threshold = False\n",
    "synapse_range = 'all synapses'\n",
    "\n",
    "if apply_threshold:\n",
    "    min_threshold = 1\n",
    "    max_threshold = 1000\n",
    "    df = df[(df['counts'] >= min_threshold) & (df['counts'] <= max_threshold)].copy()\n",
    "    synapse_range = f'synapses range: {min_threshold} - {max_threshold}'  "
   ]
  },
  {
   "cell_type": "markdown",
   "id": "2e3ba0c4",
   "metadata": {},
   "source": [
    "### 2. Plotting basic information"
   ]
  },
  {
   "cell_type": "markdown",
   "id": "06beae26",
   "metadata": {},
   "source": [
    "#### Plotting data per columns. "
   ]
  },
  {
   "cell_type": "code",
   "execution_count": 41,
   "id": "8967fcfd",
   "metadata": {},
   "outputs": [
    {
     "data": {
      "text/plain": [
       "Text(0.5, 65.00000000000009, 'all columns')"
      ]
     },
     "execution_count": 41,
     "metadata": {},
     "output_type": "execute_result"
    },
    {
     "data": {
      "image/png": "[encoded data removed]",
      "text/plain": [
       "<Figure size 720x720 with 4 Axes>"
      ]
     },
     "metadata": {
      "needs_background": "light"
     },
     "output_type": "display_data"
    }
   ],
   "source": [
    "#Plotting with seaborn\n",
    "# perform groupby\n",
    "df_grouped = df.copy()\n",
    "df_grouped= df_grouped.groupby(['column_ID', 'twig_proofreading']).agg(total_counts=(\"counts\", 'sum'))\n",
    "df_grouped= df_grouped.reset_index()\n",
    "\n",
    "# perform difference\n",
    "after_before_diff_df = df_grouped[df_grouped.twig_proofreading=='after'].merge(df_grouped[df_grouped.twig_proofreading=='before'],\n",
    "                                on=['column_ID'],\n",
    "                                suffixes = ('_after', '_before'))\n",
    "count_diff = after_before_diff_df['total_counts_after']-after_before_diff_df['total_counts_before']\n",
    "after_before_diff_df['count_difference'] = count_diff \n",
    "#after_before_diff_df.drop(['twig_proofreading_after', 'twig_proofreading_before'], axis=1, inplace=True)\n",
    "  \n",
    "# plot barplot\n",
    "fig, axs = plt.subplots(2, 2,figsize=(10, 10),gridspec_kw={'width_ratios': [3, 1]}) # n: number of columns, defined at the beginning of the analysis\n",
    "fig.tight_layout(pad=3.0) # Adding some space between subplots\n",
    "sns.barplot(x=\"column_ID\",\n",
    "           y=\"total_counts\",\n",
    "           hue=\"twig_proofreading\",\n",
    "           data=df_grouped, ax = axs[0,0])\n",
    "axs[0,0].set_title(f'{neuron_name}, Barplot, {synapse_range}')\n",
    "\n",
    "#another axes:\n",
    "sns.boxplot(data=df_grouped,y=\"total_counts\",x =\"twig_proofreading\",ax = axs[0,1])\n",
    "\n",
    "#another axes:\n",
    "sns.barplot(x=\"column_ID\", y=\"count_difference\",data=after_before_diff_df, ax = axs[1,0], color= 'k')\n",
    "axs[1,0].set_title(f'{neuron_name}, Barplot, {synapse_range}')\n",
    "\n",
    "#another axes:\n",
    "sns.boxplot(y=\"count_difference\",data=after_before_diff_df,ax = axs[1,1], color = 'k', medianprops=dict(color=\"w\", alpha=1))\n",
    "axs[1,1].set_xlabel('all columns')\n",
    "\n",
    "#Another axes: plotting the percentatge of connections that have been recovered through proofreadings\n"
   ]
  },
  {
   "cell_type": "markdown",
   "id": "b7605297",
   "metadata": {},
   "source": [
    "#### Plotting data per column keeping segment identity"
   ]
  },
  {
   "cell_type": "markdown",
   "id": "67e77f67",
   "metadata": {},
   "source": [
    "TODO: \n",
    "- count change in same segments before and after twig-proofreading \n",
    "\n",
    "First, we need to match different IDs (before an after) of the same segment. For that we:\n",
    "\n",
    "1. Update all presynaptic IDs\n",
    "2. Keep only the ones that exist before and after proofreading\n",
    "3. Plot different measures such as:\n",
    "- a scatter plot with counts_before and counts_after in X and Y to see the deviation from midline.\n",
    "- paired scatter/bar plots to follow the change in every segment\n"
   ]
  },
  {
   "cell_type": "code",
   "execution_count": null,
   "id": "11908bfb",
   "metadata": {},
   "outputs": [],
   "source": [
    "#Choose path and file\n",
    "dataPath = r'C:\\Users\\sebas\\Downloads'\n",
    "# fileDate = '20230111'\n",
    "# fileName = f'All_Tm9_neurons_input_count_ME_R_impact_twig_proofreading_{fileDate}.xlsx'\n",
    "# neuron_name = 'Tm9'\n",
    "fileDate = '20230130'\n",
    "fileName = f'All_Tm1_neurons_input_count_ME_R_impact_twig_proofreading_{fileDate}.xlsx'\n",
    "neuron_name = 'Tm1'\n",
    "filePath = os.path.join(dataPath,fileName)\n",
    "df = pd.read_excel(filePath)"
   ]
  },
  {
   "cell_type": "code",
   "execution_count": null,
   "id": "836cc72f",
   "metadata": {},
   "outputs": [],
   "source": [
    "#Filtering out separator row (e.g.,\"NEXT INPUTS\")\n",
    "df = df[df['presynaptic_ID'] != 'NEXT INPUTS'].copy()"
   ]
  },
  {
   "cell_type": "code",
   "execution_count": null,
   "id": "2cb28df6",
   "metadata": {},
   "outputs": [],
   "source": [
    "#Filtering out all counts bigger than X number\n",
    "apply_threshold = True\n",
    "synapse_range = 'all synapses'\n",
    "\n",
    "if apply_threshold:\n",
    "    min_threshold = 3\n",
    "    max_threshold = 150\n",
    "    df = df[(df['counts'] >= min_threshold) & (df['counts'] <= max_threshold)].copy()\n",
    "    synapse_range = f'synapses range: {min_threshold} - {max_threshold}' "
   ]
  },
  {
   "cell_type": "code",
   "execution_count": 67,
   "id": "5d4ead89",
   "metadata": {},
   "outputs": [
    {
     "data": {
      "application/vnd.jupyter.widget-view+json": {
       "model_id": "",
       "version_major": 2,
       "version_minor": 0
      },
      "text/plain": [
       "Updating:   0%|          | 0/409 [00:00<?, ?it/s]"
      ]
     },
     "metadata": {},
     "output_type": "display_data"
    }
   ],
   "source": [
    "# Updating all presynaptic IDs\n",
    "pre_IDs = df['presynaptic_ID'].tolist()\n",
    "updated_pre_IDs_df = flywire.update_ids(pre_IDs, stop_layer=2, supervoxels=None, timestamp=None, dataset='production', progress=True)"
   ]
  },
  {
   "cell_type": "code",
   "execution_count": 74,
   "id": "83160235",
   "metadata": {},
   "outputs": [],
   "source": [
    "# Update the dataframe \n",
    "df['updated_presynaptic_ID'] = updated_pre_IDs_df['new_id'].tolist()\n",
    "df['update_confidence'] = updated_pre_IDs_df['confidence'].tolist()"
   ]
  },
  {
   "cell_type": "code",
   "execution_count": 100,
   "id": "ee1b9668",
   "metadata": {},
   "outputs": [
    {
     "name": "stdout",
     "output_type": "stream",
     "text": [
      "conflicting match for column D1\n",
      "conflicting match for column D8\n"
     ]
    }
   ],
   "source": [
    "# Get information per  column\n",
    "column_dict = {}\n",
    "column_id_ls = []\n",
    "segment_number_diff_ls = []\n",
    "comp_df_ls = []\n",
    "\n",
    "\n",
    "curr_df = df\n",
    "for column_id in curr_df['column_ID'].unique():\n",
    "    # Getting information in the column\n",
    "    column_id_ls.append(column_id)\n",
    "    column_df = curr_df[curr_df['column_ID'] == column_id].copy()\n",
    "    before_df = column_df[column_df['twig_proofreading'] == 'before'].copy()\n",
    "    after_df = column_df[column_df['twig_proofreading'] == 'after'].copy()\n",
    "    segment_number_diff_ls.append(len(after_df) - len(before_df))\n",
    "    \n",
    "    # Creating the comparion df between before and after proofreading\n",
    "    before_updated_ids = before_df['updated_presynaptic_ID'].tolist()\n",
    "    after_relative_to_before_df = after_df[after_df['updated_presynaptic_ID'].isin(before_updated_ids)].copy()\n",
    "    \n",
    "    comp_df = pd.DataFrame()\n",
    "    if len(after_relative_to_before_df) == len(before_df):\n",
    "        # if just one ID match was found between before and after dataframes, continue with the analysis\n",
    "        comp_df['before_count'] = before_df['counts'].tolist()\n",
    "        comp_df['after_count'] = after_relative_to_before_df['counts'].tolist()\n",
    "        comp_df_ls.append(comp_df)\n",
    "        \n",
    "        \n",
    "    else:\n",
    "        print(f'conflicting match for column {column_id}')\n",
    "        comp_df_ls.append('conflicting match, no data')\n",
    "        \n",
    "    \n",
    "    column_dict['ID'] =  column_id_ls\n",
    "    column_dict['new_segments'] = segment_number_diff_ls\n",
    "    column_dict['comparative_df'] = comp_df_ls\n",
    "    "
   ]
  },
  {
   "cell_type": "code",
   "execution_count": 110,
   "id": "db00ea05",
   "metadata": {},
   "outputs": [
    {
     "name": "stdout",
     "output_type": "stream",
     "text": [
      "New segments in column D1: 29\n",
      "New segments in column D8: 4\n"
     ]
    }
   ],
   "source": [
    "# Checking number of new segments per column\n",
    "for i,c in enumerate(column_dict['ID']):\n",
    "    print(f\"New segments in column {c}: {column_dict['new_segments'][i]}\")"
   ]
  },
  {
   "cell_type": "code",
   "execution_count": 75,
   "id": "d3ec6ed0",
   "metadata": {},
   "outputs": [],
   "source": [
    "# Keep only ID with high confidence to make sure that it is the same segment\n",
    "confidence_filter_boolean = (updated_pre_IDs_df['confidence'] == 1).tolist()\n",
    "df_filtered = df[confidence_filter_boolean].copy()"
   ]
  },
  {
   "cell_type": "code",
   "execution_count": 76,
   "id": "ac487303",
   "metadata": {},
   "outputs": [
    {
     "data": {
      "text/html": [
       "<div>\n",
       "<style scoped>\n",
       "    .dataframe tbody tr th:only-of-type {\n",
       "        vertical-align: middle;\n",
       "    }\n",
       "\n",
       "    .dataframe tbody tr th {\n",
       "        vertical-align: top;\n",
       "    }\n",
       "\n",
       "    .dataframe thead th {\n",
       "        text-align: right;\n",
       "    }\n",
       "</style>\n",
       "<table border=\"1\" class=\"dataframe\">\n",
       "  <thead>\n",
       "    <tr style=\"text-align: right;\">\n",
       "      <th></th>\n",
       "      <th>presynaptic_ID</th>\n",
       "      <th>counts</th>\n",
       "      <th>postsynaptic_ID</th>\n",
       "      <th>column_ID</th>\n",
       "      <th>twig_proofreading</th>\n",
       "      <th>updated_presynaptic_ID</th>\n",
       "      <th>update_confidence</th>\n",
       "    </tr>\n",
       "  </thead>\n",
       "  <tbody>\n",
       "    <tr>\n",
       "      <th>0</th>\n",
       "      <td>720575940632644300</td>\n",
       "      <td>208.0</td>\n",
       "      <td>720575940636375919</td>\n",
       "      <td>D1</td>\n",
       "      <td>after</td>\n",
       "      <td>720575940632644300</td>\n",
       "      <td>1.0</td>\n",
       "    </tr>\n",
       "    <tr>\n",
       "      <th>1</th>\n",
       "      <td>720575940630051706</td>\n",
       "      <td>28.0</td>\n",
       "      <td>720575940636375919</td>\n",
       "      <td>D1</td>\n",
       "      <td>after</td>\n",
       "      <td>720575940630051706</td>\n",
       "      <td>1.0</td>\n",
       "    </tr>\n",
       "    <tr>\n",
       "      <th>2</th>\n",
       "      <td>720575940635562091</td>\n",
       "      <td>24.0</td>\n",
       "      <td>720575940636375919</td>\n",
       "      <td>D1</td>\n",
       "      <td>after</td>\n",
       "      <td>720575940635562091</td>\n",
       "      <td>1.0</td>\n",
       "    </tr>\n",
       "    <tr>\n",
       "      <th>3</th>\n",
       "      <td>720575940626142010</td>\n",
       "      <td>20.0</td>\n",
       "      <td>720575940636375919</td>\n",
       "      <td>D1</td>\n",
       "      <td>after</td>\n",
       "      <td>720575940626142010</td>\n",
       "      <td>1.0</td>\n",
       "    </tr>\n",
       "    <tr>\n",
       "      <th>4</th>\n",
       "      <td>720575940628005007</td>\n",
       "      <td>20.0</td>\n",
       "      <td>720575940636375919</td>\n",
       "      <td>D1</td>\n",
       "      <td>after</td>\n",
       "      <td>720575940628005007</td>\n",
       "      <td>1.0</td>\n",
       "    </tr>\n",
       "    <tr>\n",
       "      <th>...</th>\n",
       "      <td>...</td>\n",
       "      <td>...</td>\n",
       "      <td>...</td>\n",
       "      <td>...</td>\n",
       "      <td>...</td>\n",
       "      <td>...</td>\n",
       "      <td>...</td>\n",
       "    </tr>\n",
       "    <tr>\n",
       "      <th>405</th>\n",
       "      <td>720575940591968168</td>\n",
       "      <td>1.0</td>\n",
       "      <td>720575940615394666</td>\n",
       "      <td>D8</td>\n",
       "      <td>before</td>\n",
       "      <td>720575940591968168</td>\n",
       "      <td>1.0</td>\n",
       "    </tr>\n",
       "    <tr>\n",
       "      <th>406</th>\n",
       "      <td>720575940636785509</td>\n",
       "      <td>1.0</td>\n",
       "      <td>720575940615394666</td>\n",
       "      <td>D8</td>\n",
       "      <td>before</td>\n",
       "      <td>720575940636785509</td>\n",
       "      <td>1.0</td>\n",
       "    </tr>\n",
       "    <tr>\n",
       "      <th>407</th>\n",
       "      <td>720575940623484650</td>\n",
       "      <td>1.0</td>\n",
       "      <td>720575940615394666</td>\n",
       "      <td>D8</td>\n",
       "      <td>before</td>\n",
       "      <td>720575940623484650</td>\n",
       "      <td>1.0</td>\n",
       "    </tr>\n",
       "    <tr>\n",
       "      <th>408</th>\n",
       "      <td>720575940596116449</td>\n",
       "      <td>1.0</td>\n",
       "      <td>720575940615394666</td>\n",
       "      <td>D8</td>\n",
       "      <td>before</td>\n",
       "      <td>720575940596116449</td>\n",
       "      <td>1.0</td>\n",
       "    </tr>\n",
       "    <tr>\n",
       "      <th>409</th>\n",
       "      <td>720575940452184868</td>\n",
       "      <td>1.0</td>\n",
       "      <td>720575940615394666</td>\n",
       "      <td>D8</td>\n",
       "      <td>before</td>\n",
       "      <td>720575940452184868</td>\n",
       "      <td>1.0</td>\n",
       "    </tr>\n",
       "  </tbody>\n",
       "</table>\n",
       "<p>381 rows × 7 columns</p>\n",
       "</div>"
      ],
      "text/plain": [
       "         presynaptic_ID  counts     postsynaptic_ID column_ID  \\\n",
       "0    720575940632644300   208.0  720575940636375919        D1   \n",
       "1    720575940630051706    28.0  720575940636375919        D1   \n",
       "2    720575940635562091    24.0  720575940636375919        D1   \n",
       "3    720575940626142010    20.0  720575940636375919        D1   \n",
       "4    720575940628005007    20.0  720575940636375919        D1   \n",
       "..                  ...     ...                 ...       ...   \n",
       "405  720575940591968168     1.0  720575940615394666        D8   \n",
       "406  720575940636785509     1.0  720575940615394666        D8   \n",
       "407  720575940623484650     1.0  720575940615394666        D8   \n",
       "408  720575940596116449     1.0  720575940615394666        D8   \n",
       "409  720575940452184868     1.0  720575940615394666        D8   \n",
       "\n",
       "    twig_proofreading  updated_presynaptic_ID  update_confidence  \n",
       "0               after      720575940632644300                1.0  \n",
       "1               after      720575940630051706                1.0  \n",
       "2               after      720575940635562091                1.0  \n",
       "3               after      720575940626142010                1.0  \n",
       "4               after      720575940628005007                1.0  \n",
       "..                ...                     ...                ...  \n",
       "405            before      720575940591968168                1.0  \n",
       "406            before      720575940636785509                1.0  \n",
       "407            before      720575940623484650                1.0  \n",
       "408            before      720575940596116449                1.0  \n",
       "409            before      720575940452184868                1.0  \n",
       "\n",
       "[381 rows x 7 columns]"
      ]
     },
     "execution_count": 76,
     "metadata": {},
     "output_type": "execute_result"
    }
   ],
   "source": [
    "df_filtered"
   ]
  },
  {
   "cell_type": "code",
   "execution_count": 99,
   "id": "d83e0b93",
   "metadata": {},
   "outputs": [
    {
     "name": "stdout",
     "output_type": "stream",
     "text": [
      "conflicting match for column D8\n"
     ]
    }
   ],
   "source": [
    "# Get information per  column\n",
    "column_dict = {}\n",
    "column_id_ls = []\n",
    "segment_number_diff_ls = []\n",
    "comp_df_ls = []\n",
    "\n",
    "\n",
    "\n",
    "curr_df = df_filtered\n",
    "for column_id in curr_df['column_ID'].unique():\n",
    "    # Getting information in the column\n",
    "    column_id_ls.append(column_id)\n",
    "    column_df = curr_df[curr_df['column_ID'] == column_id].copy()\n",
    "    before_df = column_df[column_df['twig_proofreading'] == 'before'].copy()\n",
    "    after_df = column_df[column_df['twig_proofreading'] == 'after'].copy()\n",
    "    segment_number_diff_ls.append(len(after_df) - len(before_df))\n",
    "    \n",
    "    # Creating the comparion df between before and after proofreading\n",
    "    before_updated_ids = before_df['updated_presynaptic_ID'].tolist()\n",
    "    after_relative_to_before_df = after_df[after_df['updated_presynaptic_ID'].isin(before_updated_ids)].copy()\n",
    "    \n",
    "    comp_df = pd.DataFrame()\n",
    "    if len(after_relative_to_before_df) == len(before_df):\n",
    "        # if just one ID match was found between before and after dataframes, continue with the analysis\n",
    "        comp_df['before_count'] = before_df['counts'].tolist()\n",
    "        comp_df['after_count'] = after_relative_to_before_df['counts'].tolist()\n",
    "        comp_df_ls.append(comp_df)\n",
    "        \n",
    "        \n",
    "    else:\n",
    "        print(f'conflicting match for column {column_id}')\n",
    "        comp_df_ls.append('conflicting match, no data')\n",
    "        \n",
    "    \n",
    "    column_dict['ID'] =  column_id_ls\n",
    "    column_dict['new_segments'] = segment_number_diff_ls\n",
    "    column_dict['comparative_df'] = comp_df_ls\n",
    "    \n",
    "\n",
    "    "
   ]
  },
  {
   "cell_type": "code",
   "execution_count": 98,
   "id": "15e97d6f",
   "metadata": {},
   "outputs": [
    {
     "data": {
      "text/plain": [
       "{'ID': ['D1', 'D8'],\n",
       " 'new_segments': [54, 5],\n",
       " 'comparative_df': [    before_count  after_count\n",
       "  0          207.0        208.0\n",
       "  1           20.0         20.0\n",
       "  2           19.0         20.0\n",
       "  3           17.0         17.0\n",
       "  4           12.0         12.0\n",
       "  ..           ...          ...\n",
       "  57           1.0          1.0\n",
       "  58           1.0          1.0\n",
       "  59           1.0          1.0\n",
       "  60           1.0          1.0\n",
       "  61           1.0          1.0\n",
       "  \n",
       "  [62 rows x 2 columns],\n",
       "  'conflicting match']}"
      ]
     },
     "execution_count": 98,
     "metadata": {},
     "output_type": "execute_result"
    }
   ],
   "source": [
    "column_dict"
   ]
  },
  {
   "cell_type": "code",
   "execution_count": 57,
   "id": "afbd902c",
   "metadata": {},
   "outputs": [
    {
     "data": {
      "text/html": [
       "<div>\n",
       "<style scoped>\n",
       "    .dataframe tbody tr th:only-of-type {\n",
       "        vertical-align: middle;\n",
       "    }\n",
       "\n",
       "    .dataframe tbody tr th {\n",
       "        vertical-align: top;\n",
       "    }\n",
       "\n",
       "    .dataframe thead th {\n",
       "        text-align: right;\n",
       "    }\n",
       "</style>\n",
       "<table border=\"1\" class=\"dataframe\">\n",
       "  <thead>\n",
       "    <tr style=\"text-align: right;\">\n",
       "      <th></th>\n",
       "      <th>presynaptic_ID</th>\n",
       "      <th>counts</th>\n",
       "      <th>postsynaptic_ID</th>\n",
       "      <th>column_ID</th>\n",
       "      <th>twig_proofreading</th>\n",
       "      <th>updated_presynaptic_ID</th>\n",
       "    </tr>\n",
       "  </thead>\n",
       "  <tbody>\n",
       "    <tr>\n",
       "      <th>204</th>\n",
       "      <td>720575940608892937</td>\n",
       "      <td>221.0</td>\n",
       "      <td>720575940617817181</td>\n",
       "      <td>D8</td>\n",
       "      <td>after</td>\n",
       "      <td>720575940608892937</td>\n",
       "    </tr>\n",
       "    <tr>\n",
       "      <th>205</th>\n",
       "      <td>720575940627163517</td>\n",
       "      <td>19.0</td>\n",
       "      <td>720575940617817181</td>\n",
       "      <td>D8</td>\n",
       "      <td>after</td>\n",
       "      <td>720575940627163517</td>\n",
       "    </tr>\n",
       "    <tr>\n",
       "      <th>206</th>\n",
       "      <td>720575940606300081</td>\n",
       "      <td>18.0</td>\n",
       "      <td>720575940617817181</td>\n",
       "      <td>D8</td>\n",
       "      <td>after</td>\n",
       "      <td>720575940606300081</td>\n",
       "    </tr>\n",
       "    <tr>\n",
       "      <th>207</th>\n",
       "      <td>720575940637788213</td>\n",
       "      <td>13.0</td>\n",
       "      <td>720575940617817181</td>\n",
       "      <td>D8</td>\n",
       "      <td>after</td>\n",
       "      <td>720575940637788213</td>\n",
       "    </tr>\n",
       "    <tr>\n",
       "      <th>208</th>\n",
       "      <td>720575940646640419</td>\n",
       "      <td>13.0</td>\n",
       "      <td>720575940617817181</td>\n",
       "      <td>D8</td>\n",
       "      <td>after</td>\n",
       "      <td>720575940646640419</td>\n",
       "    </tr>\n",
       "    <tr>\n",
       "      <th>...</th>\n",
       "      <td>...</td>\n",
       "      <td>...</td>\n",
       "      <td>...</td>\n",
       "      <td>...</td>\n",
       "      <td>...</td>\n",
       "      <td>...</td>\n",
       "    </tr>\n",
       "    <tr>\n",
       "      <th>304</th>\n",
       "      <td>720575940636785509</td>\n",
       "      <td>1.0</td>\n",
       "      <td>720575940617817181</td>\n",
       "      <td>D8</td>\n",
       "      <td>after</td>\n",
       "      <td>720575940636785509</td>\n",
       "    </tr>\n",
       "    <tr>\n",
       "      <th>305</th>\n",
       "      <td>720575940623484650</td>\n",
       "      <td>1.0</td>\n",
       "      <td>720575940617817181</td>\n",
       "      <td>D8</td>\n",
       "      <td>after</td>\n",
       "      <td>720575940623484650</td>\n",
       "    </tr>\n",
       "    <tr>\n",
       "      <th>306</th>\n",
       "      <td>720575940596116449</td>\n",
       "      <td>1.0</td>\n",
       "      <td>720575940617817181</td>\n",
       "      <td>D8</td>\n",
       "      <td>after</td>\n",
       "      <td>720575940596116449</td>\n",
       "    </tr>\n",
       "    <tr>\n",
       "      <th>307</th>\n",
       "      <td>720575940635099940</td>\n",
       "      <td>1.0</td>\n",
       "      <td>720575940617817181</td>\n",
       "      <td>D8</td>\n",
       "      <td>after</td>\n",
       "      <td>720575940635099940</td>\n",
       "    </tr>\n",
       "    <tr>\n",
       "      <th>308</th>\n",
       "      <td>720575940605202092</td>\n",
       "      <td>1.0</td>\n",
       "      <td>720575940617817181</td>\n",
       "      <td>D8</td>\n",
       "      <td>after</td>\n",
       "      <td>720575940605202092</td>\n",
       "    </tr>\n",
       "  </tbody>\n",
       "</table>\n",
       "<p>104 rows × 6 columns</p>\n",
       "</div>"
      ],
      "text/plain": [
       "         presynaptic_ID  counts     postsynaptic_ID column_ID  \\\n",
       "204  720575940608892937   221.0  720575940617817181        D8   \n",
       "205  720575940627163517    19.0  720575940617817181        D8   \n",
       "206  720575940606300081    18.0  720575940617817181        D8   \n",
       "207  720575940637788213    13.0  720575940617817181        D8   \n",
       "208  720575940646640419    13.0  720575940617817181        D8   \n",
       "..                  ...     ...                 ...       ...   \n",
       "304  720575940636785509     1.0  720575940617817181        D8   \n",
       "305  720575940623484650     1.0  720575940617817181        D8   \n",
       "306  720575940596116449     1.0  720575940617817181        D8   \n",
       "307  720575940635099940     1.0  720575940617817181        D8   \n",
       "308  720575940605202092     1.0  720575940617817181        D8   \n",
       "\n",
       "    twig_proofreading  updated_presynaptic_ID  \n",
       "204             after      720575940608892937  \n",
       "205             after      720575940627163517  \n",
       "206             after      720575940606300081  \n",
       "207             after      720575940637788213  \n",
       "208             after      720575940646640419  \n",
       "..                ...                     ...  \n",
       "304             after      720575940636785509  \n",
       "305             after      720575940623484650  \n",
       "306             after      720575940596116449  \n",
       "307             after      720575940635099940  \n",
       "308             after      720575940605202092  \n",
       "\n",
       "[104 rows x 6 columns]"
      ]
     },
     "execution_count": 57,
     "metadata": {},
     "output_type": "execute_result"
    }
   ],
   "source": [
    "after_df"
   ]
  },
  {
   "cell_type": "code",
   "execution_count": 58,
   "id": "b65081bf",
   "metadata": {},
   "outputs": [
    {
     "data": {
      "text/plain": [
       "99"
      ]
     },
     "execution_count": 58,
     "metadata": {},
     "output_type": "execute_result"
    }
   ],
   "source": [
    "len(before_df)"
   ]
  },
  {
   "cell_type": "code",
   "execution_count": 84,
   "id": "c3da7a30",
   "metadata": {},
   "outputs": [],
   "source": [
    "#Exploring where there was no match in the after_df\n",
    "no_match_df = after_df[after_df['updated_presynaptic_ID'].isin(before_updated_ids) == False].copy()"
   ]
  },
  {
   "cell_type": "code",
   "execution_count": 85,
   "id": "832a173c",
   "metadata": {},
   "outputs": [
    {
     "data": {
      "text/html": [
       "<div>\n",
       "<style scoped>\n",
       "    .dataframe tbody tr th:only-of-type {\n",
       "        vertical-align: middle;\n",
       "    }\n",
       "\n",
       "    .dataframe tbody tr th {\n",
       "        vertical-align: top;\n",
       "    }\n",
       "\n",
       "    .dataframe thead th {\n",
       "        text-align: right;\n",
       "    }\n",
       "</style>\n",
       "<table border=\"1\" class=\"dataframe\">\n",
       "  <thead>\n",
       "    <tr style=\"text-align: right;\">\n",
       "      <th></th>\n",
       "      <th>presynaptic_ID</th>\n",
       "      <th>counts</th>\n",
       "      <th>postsynaptic_ID</th>\n",
       "      <th>column_ID</th>\n",
       "      <th>twig_proofreading</th>\n",
       "      <th>updated_presynaptic_ID</th>\n",
       "      <th>update_confidence</th>\n",
       "    </tr>\n",
       "  </thead>\n",
       "  <tbody>\n",
       "    <tr>\n",
       "      <th>226</th>\n",
       "      <td>720575940627695749</td>\n",
       "      <td>5.0</td>\n",
       "      <td>720575940617817181</td>\n",
       "      <td>D8</td>\n",
       "      <td>after</td>\n",
       "      <td>720575940627695749</td>\n",
       "      <td>1.0</td>\n",
       "    </tr>\n",
       "    <tr>\n",
       "      <th>261</th>\n",
       "      <td>720575940614572967</td>\n",
       "      <td>2.0</td>\n",
       "      <td>720575940617817181</td>\n",
       "      <td>D8</td>\n",
       "      <td>after</td>\n",
       "      <td>720575940614572967</td>\n",
       "      <td>1.0</td>\n",
       "    </tr>\n",
       "    <tr>\n",
       "      <th>262</th>\n",
       "      <td>720575940569665344</td>\n",
       "      <td>2.0</td>\n",
       "      <td>720575940617817181</td>\n",
       "      <td>D8</td>\n",
       "      <td>after</td>\n",
       "      <td>720575940569665344</td>\n",
       "      <td>1.0</td>\n",
       "    </tr>\n",
       "    <tr>\n",
       "      <th>263</th>\n",
       "      <td>720575940593038137</td>\n",
       "      <td>2.0</td>\n",
       "      <td>720575940617817181</td>\n",
       "      <td>D8</td>\n",
       "      <td>after</td>\n",
       "      <td>720575940593038137</td>\n",
       "      <td>1.0</td>\n",
       "    </tr>\n",
       "    <tr>\n",
       "      <th>287</th>\n",
       "      <td>720575940440493913</td>\n",
       "      <td>1.0</td>\n",
       "      <td>720575940617817181</td>\n",
       "      <td>D8</td>\n",
       "      <td>after</td>\n",
       "      <td>720575940440493913</td>\n",
       "      <td>1.0</td>\n",
       "    </tr>\n",
       "    <tr>\n",
       "      <th>308</th>\n",
       "      <td>720575940605202092</td>\n",
       "      <td>1.0</td>\n",
       "      <td>720575940617817181</td>\n",
       "      <td>D8</td>\n",
       "      <td>after</td>\n",
       "      <td>720575940605202092</td>\n",
       "      <td>1.0</td>\n",
       "    </tr>\n",
       "  </tbody>\n",
       "</table>\n",
       "</div>"
      ],
      "text/plain": [
       "         presynaptic_ID  counts     postsynaptic_ID column_ID  \\\n",
       "226  720575940627695749     5.0  720575940617817181        D8   \n",
       "261  720575940614572967     2.0  720575940617817181        D8   \n",
       "262  720575940569665344     2.0  720575940617817181        D8   \n",
       "263  720575940593038137     2.0  720575940617817181        D8   \n",
       "287  720575940440493913     1.0  720575940617817181        D8   \n",
       "308  720575940605202092     1.0  720575940617817181        D8   \n",
       "\n",
       "    twig_proofreading  updated_presynaptic_ID  update_confidence  \n",
       "226             after      720575940627695749                1.0  \n",
       "261             after      720575940614572967                1.0  \n",
       "262             after      720575940569665344                1.0  \n",
       "263             after      720575940593038137                1.0  \n",
       "287             after      720575940440493913                1.0  \n",
       "308             after      720575940605202092                1.0  "
      ]
     },
     "execution_count": 85,
     "metadata": {},
     "output_type": "execute_result"
    }
   ],
   "source": [
    "no_match_df"
   ]
  },
  {
   "cell_type": "code",
   "execution_count": 61,
   "id": "5ea3ee7a",
   "metadata": {},
   "outputs": [
    {
     "data": {
      "text/plain": [
       "98"
      ]
     },
     "execution_count": 61,
     "metadata": {},
     "output_type": "execute_result"
    }
   ],
   "source": [
    "len(after_relative_to_before_df)"
   ]
  },
  {
   "cell_type": "code",
   "execution_count": null,
   "id": "c1af538a",
   "metadata": {},
   "outputs": [],
   "source": []
  }
 ],
 "metadata": {
  "kernelspec": {
   "display_name": "Python 3 (ipykernel)",
   "language": "python",
   "name": "python3"
  },
  "language_info": {
   "codemirror_mode": {
    "name": "ipython",
    "version": 3
   },
   "file_extension": ".py",
   "mimetype": "text/x-python",
   "name": "python",
   "nbconvert_exporter": "python",
   "pygments_lexer": "ipython3",
   "version": "3.7.4"
  }
 },
 "nbformat": 4,
 "nbformat_minor": 5
}
