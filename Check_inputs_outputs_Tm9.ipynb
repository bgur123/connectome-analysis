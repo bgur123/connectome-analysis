{
 "cells": [
  {
   "cell_type": "markdown",
   "id": "83b9486b-e956-4c4c-8c55-c3fa6b6ff8c2",
   "metadata": {},
   "source": [
    "# Counting, proofreading and visualizing inputs and outputs"
   ]
  },
  {
   "cell_type": "markdown",
   "id": "0d9467e1",
   "metadata": {},
   "source": [
    "This notebook requires an environment where the python <a href=\"https://navis.readthedocs.io/en/latest/\" target=\"_blank\">navis</a> and <a href=\"https://fafbseg-py.readthedocs.io/en/latest/source/api.html\" target=\"_blank\">fafbseq</a> packages are installed, apart from other well-known packages listed in the import below.\n",
    "<br>**CONTAINS:**\n",
    "<br>A) Analysis of inputs and ouputs based on *cleft score* value\n",
    "<br>B) Analysis of inputs and outputs of a list of neurons\n",
    "<br>C) Proofreading predicted synapses via annotations"
   ]
  },
  {
   "cell_type": "markdown",
   "id": "82b21e0e-1f30-4651-ae6a-4c5f8db25503",
   "metadata": {
    "tags": []
   },
   "source": [
    "#### Importing packages"
   ]
  },
  {
   "cell_type": "code",
   "execution_count": 1,
   "id": "0f963450-3432-4ab4-9063-4ca68f7b5fe6",
   "metadata": {},
   "outputs": [
    {
     "name": "stderr",
     "output_type": "stream",
     "text": [
      "C:\\Users\\sebas\\anaconda3\\envs\\EM\\lib\\site-packages\\blessed\\terminal.py:186: UserWarning: Failed to setupterm(kind='xterm-color'): Could not find terminal xterm-color\n",
      "  warnings.warn(msg)\n"
     ]
    }
   ],
   "source": [
    "#Importing packages\n",
    "import navis\n",
    "import fafbseg\n",
    "from fafbseg import flywire\n",
    "import numpy as np\n",
    "import pandas as pd\n",
    "import matplotlib.pyplot as plt\n",
    "import os"
   ]
  },
  {
   "cell_type": "markdown",
   "id": "67d853f9-9ceb-41a6-b1f9-9a51704fad79",
   "metadata": {},
   "source": [
    "#### Setting a \"secret\" for accessing data"
   ]
  },
  {
   "cell_type": "markdown",
   "id": "a416e869-67c2-4e8c-9a74-152f45405367",
   "metadata": {},
   "source": [
    "To get your personal secret, please go to: <a href=\"https://fafbseg-py.readthedocs.io/en/latest/source/tutorials/flywire_secret.html\" target=\"_blank\">get my secret.</a>"
   ]
  },
  {
   "cell_type": "code",
   "execution_count": null,
   "id": "d325ff7c-a388-4923-880f-3d86536e1d70",
   "metadata": {},
   "outputs": [],
   "source": [
    "# fafbseg.flywire.set_chunkedgraph_secret(\"5719b2db462d94d6aa0e903c1ff889e4\") # 2022.03.11\n",
    "# fafbseg.flywire.set_chunkedgraph_secret(\"c161f679dd3d52b1d5fc19f62cdd0164\") # 2022.04.11 \n",
    "fafbseg.flywire.set_chunkedgraph_secret(\"0c0edb71c5682a971dbadc37bcbabf29\") # 2022.06.21 "
   ]
  },
  {
   "cell_type": "markdown",
   "id": "8d33aa50-f643-453b-8127-aaec97d867d5",
   "metadata": {},
   "source": [
    "## A) Analysis of inputs and ouputs based on *cleft score* value"
   ]
  },
  {
   "cell_type": "markdown",
   "id": "501ad980-263d-4f97-b124-3e1d87627428",
   "metadata": {},
   "source": [
    "To automatically detect of pre- and postsynaptic sites, the algorithm used in <a href=\"https://www.nature.com/articles/s41592-021-01183-7\" target=\"_blank\">Buhman et al. 2021.</a>\n",
    "<br>A visualization of all predicted synapses can visualized by Neuroglancer <a href=\"http://www.tinyurl.com/tdq6xkw\" target=\"_blank\">here.</a>\n",
    "<br>The algorithm returns a list of connections with two scores: the cleft score and the connection score. Number of detected synapses depend on them."
   ]
  },
  {
   "cell_type": "markdown",
   "id": "02cb36e6-3dc2-4365-8b30-740708ffae5b",
   "metadata": {},
   "source": [
    "<font size=\"4\"> The *cleft score* matters, the *connection score* not that much:</font> <br/>\n",
    "<span style=\"color:blue\">&emsp;&emsp;&emsp;&emsp;&emsp;&emsp; True positives </span> <br/>\n",
    "<span style=\"color:Chocolate\">&emsp;&emsp;&emsp;&emsp;&emsp;&emsp; False positives </span> <br/>\n",
    "<span style=\"color:DimGrey\">&emsp;&emsp;&emsp;&emsp;&emsp;&emsp; Unkown </span> <br/>\n",
    "\n",
    "\n",
    "<img src=\"./Images/proofreading/szi-chieh_labels_synapse_eval_cleft_score.png\" \n",
    "     alt=\"cleft_score\"\n",
    "     width=\"300\" height=\"300\" style=\"float: left ; width: 40%; padding-left: 10%\"/>\n",
    "<img src=\"./Images/proofreading/szi-chieh_labels_synapse_eval_synful_score.png\" \n",
    "     alt=\"connection_score\"\n",
    "     width=\"300\" height=\"300\" style=\"float: left ; width: 40%; padding-left: 0%\"/>\n",
    "\n"
   ]
  },
  {
   "cell_type": "markdown",
   "id": "df172fb1-f8fd-45ee-b182-8ae3af920695",
   "metadata": {},
   "source": [
    "### Testing different cleft score values in Tm9 inputs"
   ]
  },
  {
   "cell_type": "markdown",
   "id": "5521cd23-7ccb-4c40-ba39-c596b895411c",
   "metadata": {},
   "source": [
    "In the following cells, we choose different *cleft score* values to get the total number of inputs and outputs of a single Tm9."
   ]
  },
  {
   "cell_type": "code",
   "execution_count": null,
   "id": "b325071f-af23-4ac2-8672-d3a336617315",
   "metadata": {},
   "outputs": [],
   "source": [
    "#Getting inputs and outputs for one neuron with different min_score values\n",
    "\n",
    "# FIRST, Check if root IDs are outdated (i.e. have more recent edits)\n",
    "r1 = 720575940626482442 # root ID query for Tm9\n",
    "print(f'ID up-to-date in FlyWire: {flywire.is_latest_root([r1])}')\n",
    "# SECOND, proceed getting the neurons data if the ID is up to date\n",
    "if flywire.is_latest_root([r1])[0]:\n",
    "    neuron = flywire.get_mesh_neuron(r1) # mesh query\n",
    "else:\n",
    "    print(f'ID not up to date. Update it and run again')\n",
    "\n",
    "# THIRD, proceed getting the neuron's inputs and outputs for a list of different min_scores \n",
    "# “Cleft score” for automatic synaptic detection, Buhmann et al., 2021\n",
    "if flywire.is_latest_root([r1])[0]:\n",
    "    min_score_ls = [0,10,20,30,40,50,60,70,80,90,100,110,120,130,140,150,160,170,180]\n",
    "    in_count_ls =[]\n",
    "    out_count_ls =[]\n",
    "    pre_count_ls=[]\n",
    "    post_count_ls=[]\n",
    "    \n",
    "    for score in min_score_ls:\n",
    "        # Fetch the neuron's inputs and ouputs\n",
    "        inputs = flywire.synapses.fetch_synapses(neuron, pre=False, post=True, attach=True, \n",
    "                                                 min_score=score, clean=True, transmitters=False, \n",
    "                                                 neuropils=True, live_query=True, batch_size=30, \n",
    "                                                 dataset='production', progress=True)\n",
    "        outputs = flywire.synapses.fetch_synapses(neuron, pre=True, post=False, attach=True, \n",
    "                                                 min_score=score, clean=True, transmitters=False, \n",
    "                                                 neuropils=True, live_query=True, batch_size=30, \n",
    "                                                 dataset='production', progress=True)\n",
    "        \n",
    "        # Counting inputs and ouputs per ID\n",
    "        inputs_count = {}\n",
    "        inputs_str = inputs.applymap(str)\n",
    "        for c in inputs_str['pre'].to_list():\n",
    "            inputs_count[c] = inputs_count.get(c, 0) + 1\n",
    "        input_count_df = pd.DataFrame(inputs_count, index=[0])\n",
    "        input_count_df = input_count_df.T\n",
    "        input_count_df.rename(columns={0: \"counts\"},inplace=True)\n",
    "        input_count_df.index.names = ['presynaptic_ID']\n",
    "        input_count_df['postsynaptic_ID'] = inputs_str['post'].to_list()[0:len(input_count_df)]\n",
    "        \n",
    "\n",
    "        outputs_count = {}\n",
    "        outputs_str = outputs.applymap(str)\n",
    "        for c in outputs_str['post'].to_list():\n",
    "            outputs_count[c] = outputs_count.get(c, 0) + 1\n",
    "        output_count_df = pd.DataFrame(outputs_count, index=[0])\n",
    "        output_count_df = output_count_df.T\n",
    "        output_count_df.rename(columns={0: \"counts\"},inplace=True)\n",
    "        output_count_df.index.names = ['postsynaptic_ID']\n",
    "        output_count_df['presynaptic_ID'] = outputs_str['pre'].to_list()[0:len(output_count_df)]\n",
    "        \n",
    "        #Storing useful info during the for-loop\n",
    "        in_count_ls.append(input_count_df['counts'].sum())\n",
    "        out_count_ls.append(output_count_df['counts'].sum())\n",
    "        pre_count_ls.append(len(input_count_df.index))\n",
    "        post_count_ls.append(len(output_count_df.index))\n",
    "        \n",
    "        # Printing useful info\n",
    "        #print(f\"Current score = {score}\")\n",
    "        #print(f\"Total number of inputs = {input_count_df['counts'].sum()}\")\n",
    "        #print(f\"Total number of outputs = {output_count_df['counts'].sum()}\")\n",
    "        #print(f\"Total number of presynaptic partners = {len(input_count_df.index)}\")\n",
    "        #print(f\"Total number of postsynaptic partners = {len(output_count_df.index)}\")"
   ]
  },
  {
   "cell_type": "markdown",
   "id": "4fca3db8-77de-438d-96c7-911f61698274",
   "metadata": {},
   "source": [
    "Let's now creat a pandas dataframe with the obtain lists and then generate some line plots."
   ]
  },
  {
   "cell_type": "code",
   "execution_count": null,
   "id": "ddfeba1d-d780-4eb8-884d-e5c27ed57d45",
   "metadata": {},
   "outputs": [],
   "source": [
    "#Generation of pandas dataframe from lists\n",
    "cleft_score_df = pd.DataFrame(list(zip(min_score_ls, in_count_ls, out_count_ls, pre_count_ls, post_count_ls)),\n",
    "               columns =['Cleft_scores', 'input_count', 'output_count','pre_partner_count', 'post_partner_count'])\n",
    "#print(cleft_score_df)"
   ]
  },
  {
   "cell_type": "code",
   "execution_count": 41,
   "id": "a2504277-4b2d-4678-ac70-4688f828866c",
   "metadata": {},
   "outputs": [
    {
     "data": {
      "image/png": "[encoded data removed]",
      "text/plain": [
       "<Figure size 432x288 with 2 Axes>"
      ]
     },
     "metadata": {},
     "output_type": "display_data"
    }
   ],
   "source": [
    "#Plotting\n",
    "fig, ax1 = plt.subplots()\n",
    "color = 'tab:blue'\n",
    "ax1.plot(cleft_score_df['Cleft_scores'],cleft_score_df['input_count'], color=color)\n",
    "ax1.set_ylabel('inputs', color=color) \n",
    "ax1.set_title('Inputs and outputs across cleft scores')\n",
    "ax1.set_xlabel('minimun cleft score')\n",
    "ax1.tick_params(axis='y', labelcolor=color)\n",
    "\n",
    "ax2 = ax1.twinx()  # instantiate a second axes that shares the same x-axis\n",
    "color = 'tab:orange'\n",
    "ax2.set_ylabel('outputs', color=color)  \n",
    "ax2.plot(cleft_score_df['Cleft_scores'],cleft_score_df['output_count'], color=color)\n",
    "ax2.tick_params(axis='y', labelcolor=color)\n",
    "\n",
    "fig.tight_layout()  # otherwise the right y-label is slightly clipped\n",
    "plt.show()"
   ]
  },
  {
   "cell_type": "code",
   "execution_count": null,
   "id": "5657369e-49d2-407b-a5bc-c2362faeeeb4",
   "metadata": {},
   "outputs": [],
   "source": [
    "\n"
   ]
  },
  {
   "cell_type": "code",
   "execution_count": null,
   "id": "ba80073b-be47-4d85-9b32-568df02ce4a3",
   "metadata": {},
   "outputs": [],
   "source": [
    "# Saving excel files\n",
    "# Setting variable\n",
    "outDir = r'Z:\\Connectomics data\\FlyWire\\Excels\\min_score_50'\n",
    "save_excel_file = False\n",
    "\n",
    "if save_excel_file: \n",
    "    ## Inputs\n",
    "    file_name = str(neuron.id)+'_inputs.xlsx'\n",
    "    savePath = os.path.join(outDir, file_name)\n",
    "    inputs_str = inputs.applymap(str)\n",
    "    inputs_str.to_excel(savePath)\n",
    "\n",
    "    file_name = str(neuron.id)+'_inputs_count.xlsx'\n",
    "    savePath = os.path.join(outDir, file_name)\n",
    "    input_count_str_df = input_count_df.applymap(str)\n",
    "    input_count_str_df.to_excel(savePath)\n",
    "\n",
    "\n",
    "    ## Outputs\n",
    "    file_name = str(neuron.id)+'_outputs.xlsx'\n",
    "    savePath = os.path.join(outDir, file_name)\n",
    "    outputs_str = outputs.applymap(str)\n",
    "    outputs_str.to_excel(savePath)\n",
    "\n",
    "    file_name = str(neuron.id)+'_outputs_count.xlsx'\n",
    "    savePath = os.path.join(outDir, file_name)\n",
    "    output_count_str_df = output_count_df.applymap(str)\n",
    "    output_count_str_df.to_excel(savePath)"
   ]
  },
  {
   "cell_type": "code",
   "execution_count": null,
   "id": "7aaf6fd0-bdd0-42b1-b490-ad07640ae4cc",
   "metadata": {},
   "outputs": [],
   "source": []
  },
  {
   "cell_type": "markdown",
   "id": "52648bfe-6686-43b2-acd8-fe2c3aba0a8b",
   "metadata": {},
   "source": [
    "## B) Analysis of inputs and outputs of a list of neurons"
   ]
  },
  {
   "cell_type": "code",
   "execution_count": null,
   "id": "fc94e02b-34be-4767-8833-77839623e08d",
   "metadata": {},
   "outputs": [],
   "source": [
    "# Check if root IDs are outdated (i.e. have more recent edits)\n",
    "# Selecting Neurons\n",
    "r1_ls = [720575940626482442,720575940637243738, 720575940638891683, 720575940607562251,720575940618719915,720575940633832287, 720575940618885205, 720575940612409571]   # root ID query\n",
    "r1_ls = [720575940626482442,720575940637243738]   # root ID query\n",
    "print(f'ID up-to-date in FlyWire: {flywire.is_latest_root(r1_ls)}')"
   ]
  },
  {
   "cell_type": "code",
   "execution_count": null,
   "id": "42de722a-b4e8-4e1c-9afd-445dd8607737",
   "metadata": {},
   "outputs": [],
   "source": [
    "# Getting the meshes from FlyWire\n",
    "if np.unique(flywire.is_latest_root(r1_ls))[0]:\n",
    "    neurons = flywire.get_mesh_neuron(r1_ls) # mesh query\n",
    "else:\n",
    "    print(f'IDs not up to date, analysis aborted') \n",
    "\n",
    "\n",
    "if np.unique(flywire.is_latest_root(r1_ls))[0]:\n",
    "    # Fetch the neuron's inputs and putputs\n",
    "    neurons_inputs = flywire.synapses.fetch_synapses(neurons, pre=False, post=True, attach=True, \n",
    "                                             min_score=50, clean=True, transmitters=False, \n",
    "                                             neuropils=True, live_query=True, batch_size=30, \n",
    "                                             dataset='production', progress=True)\n",
    "    neurons_outputs = flywire.synapses.fetch_synapses(neurons, pre=True, post=False, attach=True, \n",
    "                                             min_score=50, clean=True, transmitters=False, \n",
    "                                             neuropils=True, live_query=True, batch_size=30, \n",
    "                                             dataset='production', progress=True)\n",
    "    #synaptic_counts = flywire.synapses.synapse_counts(root_ids, by_neuropil=False, min_score=30, live_query=True,batch_size=10, dataset='production')\n",
    "    "
   ]
  },
  {
   "cell_type": "code",
   "execution_count": null,
   "id": "9cb6b0f1-ce65-4d4f-86a3-e0d39b051e90",
   "metadata": {},
   "outputs": [],
   "source": []
  },
  {
   "cell_type": "markdown",
   "id": "da52d8ea-1c68-4303-ab06-bdda32124561",
   "metadata": {},
   "source": [
    "#### Selecting a neuropile of interest for synaptic counts per neuron ID"
   ]
  },
  {
   "cell_type": "code",
   "execution_count": null,
   "id": "07007581-c8da-446b-9669-f9148f8d1883",
   "metadata": {},
   "outputs": [],
   "source": [
    "# Selecting inputs from a single neuropile\n",
    "neuropile = 'ME_R' # String. 'LO_R', 'ME_R', ...\n",
    "neuropile_neurons_inputs = neurons_inputs[neurons_inputs['neuropil'] == neuropile]"
   ]
  },
  {
   "cell_type": "code",
   "execution_count": null,
   "id": "c90bbf4f-2728-4f46-b1b8-6bc03406834c",
   "metadata": {},
   "outputs": [],
   "source": [
    "# LOOPING. Counting inputs and ouputs per ID, option joining dataframes\n",
    "final_input_df = pd.DataFrame()\n",
    "for n in neuropile_neurons_inputs['post'].unique():\n",
    "    inputs_count = {}\n",
    "    curr_inputs = neuropile_neurons_inputs[neuropile_neurons_inputs['post'] == n]\n",
    "    inputs_str = curr_inputs.applymap(str)\n",
    "    \n",
    "    for c in inputs_str['pre'].to_list():\n",
    "        inputs_count[c] = inputs_count.get(c, 0) + 1\n",
    "    input_count_df = pd.DataFrame(inputs_count, index=[0])\n",
    "    input_count_df = input_count_df.T\n",
    "    input_count_df.rename(columns={0: \"counts\"},inplace=True)\n",
    "    input_count_df.index.names = ['presynaptic_ID']\n",
    "    input_count_df = input_count_df.sort_values(by=\"counts\",ascending=False)\n",
    "    input_count_df['postsynaptic_ID'] = inputs_str['post'].to_list()[0:len(input_count_df)]\n",
    "    final_input_df = final_input_df.append(input_count_df)\n",
    "    #print(f'Counting done for: {n}')\n",
    "input_count_str_df = final_input_df.applymap(str)\n"
   ]
  },
  {
   "cell_type": "code",
   "execution_count": null,
   "id": "51a5f85a-55f8-4915-80d8-85b31e6c1d04",
   "metadata": {},
   "outputs": [],
   "source": [
    "# Saving data in your computer\n",
    "outDir = r'Z:\\Connectomics data\\FlyWire\\Excels\\min_score_50'\n",
    "save_excel_file = False\n",
    "\n",
    "if save_excel_file: \n",
    "    ## Input count\n",
    "    file_name = f'All_neurons_input_count_{neuropile}.xlsx'\n",
    "    savePath = os.path.join(outDir, file_name)\n",
    "    input_count_str_df.to_excel(savePath)"
   ]
  },
  {
   "cell_type": "markdown",
   "id": "3f5583bb",
   "metadata": {},
   "source": [
    "## C) Proofreading predicted synapses via annotations\n"
   ]
  },
  {
   "cell_type": "code",
   "execution_count": 73,
   "id": "e868c59e-7e1b-4172-a1c5-7fc0f1345b48",
   "metadata": {},
   "outputs": [],
   "source": [
    "# Manually loading the URL containing synapses as annotations and notes in each\n",
    "\n",
    "URL = 'https://ngl.flywire.ai/?json_url=https://global.daf-apis.com/nglstate/api/v1/5833034053976064'\n",
    "dict_URL = fafbseg.flywire.decode_url(URL)\n"
   ]
  },
  {
   "cell_type": "code",
   "execution_count": 116,
   "id": "aab9157e",
   "metadata": {},
   "outputs": [],
   "source": [
    "# Loading the URLs from an excel file\n",
    "\n",
    "# Choose path and file\n",
    "dataPath = r'C:\\Users\\sebas\\Downloads'\n",
    "fileName = 'All_Tm9_neurons_input_count_ME_R_20221017.xlsx'\n",
    "filePath = os.path.join(dataPath,fileName)\n",
    "\n",
    "df = pd.read_excel(filePath)\n",
    "\n",
    "URL_ls = df['URL buhmann postsynapses']\n",
    "\n",
    "#URL_ls =['https://ngl.flywire.ai/?json_url=https://global.daf-apis.com/nglstate/api/v1/5833034053976064','https://ngl.flywire.ai/?json_url=https://global.daf-apis.com/nglstate/api/v1/6635071146557440']"
   ]
  },
  {
   "cell_type": "code",
   "execution_count": 117,
   "id": "7b70485d",
   "metadata": {},
   "outputs": [
    {
     "data": {
      "text/plain": [
       "['https://ngl.flywire.ai/?json_url=https://global.daf-apis.com/nglstate/api/v1/5833034053976064',\n",
       " 'https://ngl.flywire.ai/?json_url=https://global.daf-apis.com/nglstate/api/v1/6635071146557440']"
      ]
     },
     "execution_count": 117,
     "metadata": {},
     "output_type": "execute_result"
    }
   ],
   "source": [
    "URL_ls"
   ]
  },
  {
   "cell_type": "code",
   "execution_count": 111,
   "id": "c5767fb2-ec02-4f3e-9422-bb57cc51240b",
   "metadata": {},
   "outputs": [],
   "source": [
    "# Extracting points and labels/descriptions\n",
    "points = []\n",
    "descriptions = []\n",
    "segment_ids = []\n",
    "\n",
    "for URL in URL_ls:\n",
    "    dict_URL = fafbseg.flywire.decode_url(URL)\n",
    "    for ann in dict_URL['annotations']:\n",
    "        if 'point' in ann.keys():\n",
    "            points.append(ann['point'])\n",
    "            descriptions.append(ann['description'])\n",
    "            segment_ids.append(ann['segments'])\n",
    "\n",
    "            \n",
    "# Splitting in pre and post IDs\n",
    "pre = []\n",
    "post = []\n",
    "for pair in segment_ids:\n",
    "    pre.append(pair[0])\n",
    "    post.append(pair[1])   \n",
    "    \n",
    "#  len([d for d in descriptions if d.lower() == 'true' or d.lower() == 'true\\n' ]) # Brief count of true synapses"
   ]
  },
  {
   "cell_type": "code",
   "execution_count": 112,
   "id": "e83fd4d7",
   "metadata": {},
   "outputs": [],
   "source": [
    "# Creating the summary data frame\n",
    "proofread_synapses_df = pd.DataFrame()\n",
    "\n",
    "proofread_synapses_df['post_pt_position'] = points\n",
    "proofread_synapses_df['proofread_label'] = descriptions\n",
    "proofread_synapses_df['pre_id'] = pre\n",
    "proofread_synapses_df['post_id'] = post\n",
    "    "
   ]
  },
  {
   "cell_type": "code",
   "execution_count": 113,
   "id": "da0e5abb",
   "metadata": {},
   "outputs": [
    {
     "data": {
      "text/html": [
       "<div>\n",
       "<style scoped>\n",
       "    .dataframe tbody tr th:only-of-type {\n",
       "        vertical-align: middle;\n",
       "    }\n",
       "\n",
       "    .dataframe tbody tr th {\n",
       "        vertical-align: top;\n",
       "    }\n",
       "\n",
       "    .dataframe thead th {\n",
       "        text-align: right;\n",
       "    }\n",
       "</style>\n",
       "<table border=\"1\" class=\"dataframe\">\n",
       "  <thead>\n",
       "    <tr style=\"text-align: right;\">\n",
       "      <th></th>\n",
       "      <th>post_pt_position</th>\n",
       "      <th>proofread_label</th>\n",
       "      <th>pre_id</th>\n",
       "      <th>post_id</th>\n",
       "    </tr>\n",
       "  </thead>\n",
       "  <tbody>\n",
       "    <tr>\n",
       "      <th>0</th>\n",
       "      <td>[65992, 86783, 5371]</td>\n",
       "      <td>true</td>\n",
       "      <td>720575940631976403</td>\n",
       "      <td>720575940627738884</td>\n",
       "    </tr>\n",
       "    <tr>\n",
       "      <th>1</th>\n",
       "      <td>[66561, 86438, 5313]</td>\n",
       "      <td>true?\\n</td>\n",
       "      <td>720575940631976403</td>\n",
       "      <td>720575940627738884</td>\n",
       "    </tr>\n",
       "    <tr>\n",
       "      <th>2</th>\n",
       "      <td>[65884, 86700, 5354]</td>\n",
       "      <td>not sure, versicles &amp; psd yes</td>\n",
       "      <td>720575940631976403</td>\n",
       "      <td>720575940627738884</td>\n",
       "    </tr>\n",
       "    <tr>\n",
       "      <th>3</th>\n",
       "      <td>[68806, 84922, 5363]</td>\n",
       "      <td>TRUE</td>\n",
       "      <td>720575940623818423</td>\n",
       "      <td>720575940627738884</td>\n",
       "    </tr>\n",
       "    <tr>\n",
       "      <th>4</th>\n",
       "      <td>[68679, 84921, 5361]</td>\n",
       "      <td>TRUE</td>\n",
       "      <td>720575940623818423</td>\n",
       "      <td>720575940627738884</td>\n",
       "    </tr>\n",
       "  </tbody>\n",
       "</table>\n",
       "</div>"
      ],
      "text/plain": [
       "       post_pt_position                proofread_label              pre_id  \\\n",
       "0  [65992, 86783, 5371]                           true  720575940631976403   \n",
       "1  [66561, 86438, 5313]                        true?\\n  720575940631976403   \n",
       "2  [65884, 86700, 5354]  not sure, versicles & psd yes  720575940631976403   \n",
       "3  [68806, 84922, 5363]                           TRUE  720575940623818423   \n",
       "4  [68679, 84921, 5361]                           TRUE  720575940623818423   \n",
       "\n",
       "              post_id  \n",
       "0  720575940627738884  \n",
       "1  720575940627738884  \n",
       "2  720575940627738884  \n",
       "3  720575940627738884  \n",
       "4  720575940627738884  "
      ]
     },
     "execution_count": 113,
     "metadata": {},
     "output_type": "execute_result"
    }
   ],
   "source": [
    "proofread_synapses_df.head()"
   ]
  },
  {
   "cell_type": "code",
   "execution_count": null,
   "id": "f4233deb",
   "metadata": {},
   "outputs": [],
   "source": []
  },
  {
   "cell_type": "code",
   "execution_count": null,
   "id": "6550c6af",
   "metadata": {},
   "outputs": [],
   "source": []
  }
 ],
 "metadata": {
  "kernelspec": {
   "display_name": "Python 3 (ipykernel)",
   "language": "python",
   "name": "python3"
  },
  "language_info": {
   "codemirror_mode": {
    "name": "ipython",
    "version": 3
   },
   "file_extension": ".py",
   "mimetype": "text/x-python",
   "name": "python",
   "nbconvert_exporter": "python",
   "pygments_lexer": "ipython3",
   "version": "3.7.4"
  },
  "vscode": {
   "interpreter": {
    "hash": "55c4d5a31b5732887a8ae1b8e753e31c6845ae1153dd13126928af3876e534ac"
   }
  }
 },
 "nbformat": 4,
 "nbformat_minor": 5
}
