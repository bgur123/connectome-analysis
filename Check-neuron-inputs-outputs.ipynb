{
 "cells": [
  {
   "cell_type": "markdown",
   "id": "83b9486b-e956-4c4c-8c55-c3fa6b6ff8c2",
   "metadata": {},
   "source": [
    "# Counting, proofreading and visualizing inputs and outputs"
   ]
  },
  {
   "cell_type": "markdown",
   "id": "0d9467e1",
   "metadata": {},
   "source": [
    "This notebook requires an environment where the python <a href=\"https://navis.readthedocs.io/en/latest/\" target=\"_blank\">navis</a> and <a href=\"https://fafbseg-py.readthedocs.io/en/latest/source/api.html\" target=\"_blank\">fafbseq</a> packages are installed, apart from other well-known packages listed in the import below.\n",
    "<br>**CONTAINS:**\n",
    "<br>A) Analysis of inputs and ouputs based on *cleft score* value\n",
    "<br>B) Analysis of inputs and outputs of a list of neurons\n",
    "<br>C) Proofreading predicted synapses via annotations\n",
    "<br>D) Calculating and plotting synaptic cleft size ditribution between partners \n",
    "<br>E) Checking the existance of IDs from Codex in our data base \n",
    "<br>F) Updating your IDs\n",
    "<br>G) Plotting our Tm9 patches / clusters\n",
    "<br>H) Tm9-patch mining"
   ]
  },
  {
   "cell_type": "markdown",
   "id": "82b21e0e-1f30-4651-ae6a-4c5f8db25503",
   "metadata": {
    "tags": []
   },
   "source": [
    "#### Importing packages"
   ]
  },
  {
   "cell_type": "code",
   "execution_count": 1,
   "id": "0f963450-3432-4ab4-9063-4ca68f7b5fe6",
   "metadata": {},
   "outputs": [
    {
     "name": "stderr",
     "output_type": "stream",
     "text": [
      "C:\\Users\\smolina\\Anaconda3\\envs\\EM\\lib\\site-packages\\blessed\\terminal.py:186: UserWarning: Failed to setupterm(kind='xterm-color'): Could not find terminal xterm-color\n",
      "  warnings.warn(msg)\n"
     ]
    }
   ],
   "source": [
    "#Importing packages\n",
    "import navis\n",
    "import fafbseg\n",
    "from fafbseg import flywire\n",
    "import numpy as np\n",
    "import pandas as pd\n",
    "import matplotlib.pyplot as plt\n",
    "import os\n",
    "from caveclient import CAVEclient\n",
    "from visualizations.helpers.synapse_queries import combine_xyz, separate_xyz, synapse_count\n",
    "\n",
    "client = CAVEclient('flywire_fafb_production')"
   ]
  },
  {
   "cell_type": "markdown",
   "id": "67d853f9-9ceb-41a6-b1f9-9a51704fad79",
   "metadata": {},
   "source": [
    "#### Setting a \"secret\" for accessing data"
   ]
  },
  {
   "cell_type": "markdown",
   "id": "a416e869-67c2-4e8c-9a74-152f45405367",
   "metadata": {},
   "source": [
    "To get your personal secret, please go to: <a href=\"https://fafbseg-py.readthedocs.io/en/latest/source/tutorials/flywire_secret.html\" target=\"_blank\">get my secret.</a>"
   ]
  },
  {
   "cell_type": "code",
   "execution_count": null,
   "id": "d325ff7c-a388-4923-880f-3d86536e1d70",
   "metadata": {},
   "outputs": [],
   "source": [
    "# fafbseg.flywire.set_chunkedgraph_secret(\"5719b2db462d94d6aa0e903c1ff889e4\") # 2022.03.11\n",
    "# fafbseg.flywire.set_chunkedgraph_secret(\"c161f679dd3d52b1d5fc19f62cdd0164\") # 2022.04.11 \n",
    "fafbseg.flywire.set_chunkedgraph_secret(\"0c0edb71c5682a971dbadc37bcbabf29\") # 2022.06.21 "
   ]
  },
  {
   "cell_type": "markdown",
   "id": "8d33aa50-f643-453b-8127-aaec97d867d5",
   "metadata": {},
   "source": [
    "## A) Analysis of inputs and ouputs based on *cleft score* value"
   ]
  },
  {
   "cell_type": "markdown",
   "id": "501ad980-263d-4f97-b124-3e1d87627428",
   "metadata": {},
   "source": [
    "To automatically detect of pre- and postsynaptic sites, the algorithm used in <a href=\"https://www.nature.com/articles/s41592-021-01183-7\" target=\"_blank\">Buhman et al. 2021.</a>\n",
    "<br>A visualization of all predicted synapses can visualized by Neuroglancer <a href=\"http://www.tinyurl.com/tdq6xkw\" target=\"_blank\">here.</a>\n",
    "<br>The algorithm returns a list of connections with two scores: the cleft score and the connection score. Number of detected synapses depend on them."
   ]
  },
  {
   "cell_type": "markdown",
   "id": "02cb36e6-3dc2-4365-8b30-740708ffae5b",
   "metadata": {},
   "source": [
    "<font size=\"4\"> The *cleft score* matters, the *connection score* not that much:</font> <br/>\n",
    "<span style=\"color:blue\">&emsp;&emsp;&emsp;&emsp;&emsp;&emsp; True positives </span> <br/>\n",
    "<span style=\"color:Chocolate\">&emsp;&emsp;&emsp;&emsp;&emsp;&emsp; False positives </span> <br/>\n",
    "<span style=\"color:DimGrey\">&emsp;&emsp;&emsp;&emsp;&emsp;&emsp; Unkown </span> <br/>\n",
    "\n",
    "\n",
    "<img src=\"./Images/proofreading/szi-chieh_labels_synapse_eval_cleft_score.png\" \n",
    "     alt=\"cleft_score\"\n",
    "     width=\"300\" height=\"300\" style=\"float: left ; width: 40%; padding-left: 10%\"/>\n",
    "<img src=\"./Images/proofreading/szi-chieh_labels_synapse_eval_synful_score.png\" \n",
    "     alt=\"connection_score\"\n",
    "     width=\"300\" height=\"300\" style=\"float: left ; width: 40%; padding-left: 0%\"/>\n",
    "\n"
   ]
  },
  {
   "cell_type": "markdown",
   "id": "df172fb1-f8fd-45ee-b182-8ae3af920695",
   "metadata": {},
   "source": [
    "### Testing different cleft score values in Tm9 inputs"
   ]
  },
  {
   "cell_type": "markdown",
   "id": "5521cd23-7ccb-4c40-ba39-c596b895411c",
   "metadata": {},
   "source": [
    "In the following cells, we choose different *cleft score* values to get the total number of inputs and outputs of a single Tm9."
   ]
  },
  {
   "cell_type": "code",
   "execution_count": null,
   "id": "b325071f-af23-4ac2-8672-d3a336617315",
   "metadata": {},
   "outputs": [],
   "source": [
    "#Getting inputs and outputs for one neuron with different min_score values\n",
    "\n",
    "# FIRST, Check if root IDs are outdated (i.e. have more recent edits)\n",
    "r1 = 720575940626482442 # root ID query for Tm9\n",
    "print(f'ID up-to-date in FlyWire: {flywire.is_latest_root([r1])}')\n",
    "# SECOND, proceed getting the neurons data if the ID is up to date\n",
    "if flywire.is_latest_root([r1])[0]:\n",
    "    neuron = flywire.get_mesh_neuron(r1) # mesh query\n",
    "else:\n",
    "    print(f'ID not up to date. Update it and run again')\n",
    "\n",
    "# THIRD, proceed getting the neuron's inputs and outputs for a list of different min_scores \n",
    "# “Cleft score” for automatic synaptic detection, Buhmann et al., 2021\n",
    "if flywire.is_latest_root([r1])[0]:\n",
    "    min_score_ls = [0,10,20,30,40,50,60,70,80,90,100,110,120,130,140,150,160,170,180]\n",
    "    in_count_ls =[]\n",
    "    out_count_ls =[]\n",
    "    pre_count_ls=[]\n",
    "    post_count_ls=[]\n",
    "    \n",
    "    for score in min_score_ls:\n",
    "        # Fetch the neuron's inputs and ouputs\n",
    "        inputs = flywire.synapses.fetch_synapses(neuron, pre=False, post=True, attach=True, \n",
    "                                                 min_score=score, clean=True, transmitters=False, \n",
    "                                                 neuropils=True, live_query=True, batch_size=30, \n",
    "                                                 dataset='production', progress=True)\n",
    "        outputs = flywire.synapses.fetch_synapses(neuron, pre=True, post=False, attach=True, \n",
    "                                                 min_score=score, clean=True, transmitters=False, \n",
    "                                                 neuropils=True, live_query=True, batch_size=30, \n",
    "                                                 dataset='production', progress=True)\n",
    "        \n",
    "        # Counting inputs and ouputs per ID\n",
    "        inputs_count = {}\n",
    "        inputs_str = inputs.applymap(str)\n",
    "        for c in inputs_str['pre'].to_list():\n",
    "            inputs_count[c] = inputs_count.get(c, 0) + 1\n",
    "        input_count_df = pd.DataFrame(inputs_count, index=[0])\n",
    "        input_count_df = input_count_df.T\n",
    "        input_count_df.rename(columns={0: \"counts\"},inplace=True)\n",
    "        input_count_df.index.names = ['presynaptic_ID']\n",
    "        input_count_df['postsynaptic_ID'] = inputs_str['post'].to_list()[0:len(input_count_df)]\n",
    "        \n",
    "\n",
    "        outputs_count = {}\n",
    "        outputs_str = outputs.applymap(str)\n",
    "        for c in outputs_str['post'].to_list():\n",
    "            outputs_count[c] = outputs_count.get(c, 0) + 1\n",
    "        output_count_df = pd.DataFrame(outputs_count, index=[0])\n",
    "        output_count_df = output_count_df.T\n",
    "        output_count_df.rename(columns={0: \"counts\"},inplace=True)\n",
    "        output_count_df.index.names = ['postsynaptic_ID']\n",
    "        output_count_df['presynaptic_ID'] = outputs_str['pre'].to_list()[0:len(output_count_df)]\n",
    "        \n",
    "        #Storing useful info during the for-loop\n",
    "        in_count_ls.append(input_count_df['counts'].sum())\n",
    "        out_count_ls.append(output_count_df['counts'].sum())\n",
    "        pre_count_ls.append(len(input_count_df.index))\n",
    "        post_count_ls.append(len(output_count_df.index))\n",
    "        \n",
    "        # Printing useful info\n",
    "        #print(f\"Current score = {score}\")\n",
    "        #print(f\"Total number of inputs = {input_count_df['counts'].sum()}\")\n",
    "        #print(f\"Total number of outputs = {output_count_df['counts'].sum()}\")\n",
    "        #print(f\"Total number of presynaptic partners = {len(input_count_df.index)}\")\n",
    "        #print(f\"Total number of postsynaptic partners = {len(output_count_df.index)}\")"
   ]
  },
  {
   "cell_type": "markdown",
   "id": "4fca3db8-77de-438d-96c7-911f61698274",
   "metadata": {},
   "source": [
    "Let's now creat a pandas dataframe with the obtain lists and then generate some line plots."
   ]
  },
  {
   "cell_type": "code",
   "execution_count": null,
   "id": "ddfeba1d-d780-4eb8-884d-e5c27ed57d45",
   "metadata": {},
   "outputs": [],
   "source": [
    "#Generation of pandas dataframe from lists\n",
    "cleft_score_df = pd.DataFrame(list(zip(min_score_ls, in_count_ls, out_count_ls, pre_count_ls, post_count_ls)),\n",
    "               columns =['Cleft_scores', 'input_count', 'output_count','pre_partner_count', 'post_partner_count'])\n",
    "#print(cleft_score_df)"
   ]
  },
  {
   "cell_type": "code",
   "execution_count": 41,
   "id": "a2504277-4b2d-4678-ac70-4688f828866c",
   "metadata": {},
   "outputs": [
    {
     "data": {
      "image/png": "[encoded data removed]",
      "text/plain": [
       "<Figure size 432x288 with 2 Axes>"
      ]
     },
     "metadata": {},
     "output_type": "display_data"
    }
   ],
   "source": [
    "#Plotting\n",
    "fig, ax1 = plt.subplots()\n",
    "color = 'tab:blue'\n",
    "ax1.plot(cleft_score_df['Cleft_scores'],cleft_score_df['input_count'], color=color)\n",
    "    ax1.set_ylabel('inputs', color=color) \n",
    "    ax1.set_title('Inputs and outputs across cleft scores')\n",
    "    ax1.set_xlabel('minimun cleft score')\n",
    "    ax1.tick_params(axis='y', labelcolor=color)\n",
    "\n",
    "ax2 = ax1.twinx()  # instantiate a second axes that shares the same x-axis\n",
    "color = 'tab:orange'\n",
    "ax2.set_ylabel('outputs', color=color)  \n",
    "ax2.plot(cleft_score_df['Cleft_scores'],cleft_score_df['output_count'], color=color)\n",
    "ax2.tick_params(axis='y', labelcolor=color)\n",
    "\n",
    "fig.tight_layout()  # otherwise the right y-label is slightly clipped\n",
    "plt.show()"
   ]
  },
  {
   "cell_type": "code",
   "execution_count": null,
   "id": "5657369e-49d2-407b-a5bc-c2362faeeeb4",
   "metadata": {},
   "outputs": [],
   "source": [
    "\n"
   ]
  },
  {
   "cell_type": "code",
   "execution_count": null,
   "id": "ba80073b-be47-4d85-9b32-568df02ce4a3",
   "metadata": {},
   "outputs": [],
   "source": [
    "# Saving excel files\n",
    "# Setting variable\n",
    "outDir = r'Z:\\Connectomics data\\FlyWire\\Excels\\min_score_50'\n",
    "save_excel_file = False\n",
    "\n",
    "if save_excel_file: \n",
    "    ## Inputs\n",
    "    file_name = str(neuron.id)+'_inputs.xlsx'\n",
    "    savePath = os.path.join(outDir, file_name)\n",
    "    inputs_str = inputs.applymap(str)\n",
    "    inputs_str.to_excel(savePath)\n",
    "\n",
    "    file_name = str(neuron.id)+'_inputs_count.xlsx'\n",
    "    savePath = os.path.join(outDir, file_name)\n",
    "    input_count_str_df = input_count_df.applymap(str)\n",
    "    input_count_str_df.to_excel(savePath)\n",
    "\n",
    "\n",
    "    ## Outputs\n",
    "    file_name = str(neuron.id)+'_outputs.xlsx'\n",
    "    savePath = os.path.join(outDir, file_name)\n",
    "    outputs_str = outputs.applymap(str)\n",
    "    outputs_str.to_excel(savePath)\n",
    "\n",
    "    file_name = str(neuron.id)+'_outputs_count.xlsx'\n",
    "    savePath = os.path.join(outDir, file_name)\n",
    "    output_count_str_df = output_count_df.applymap(str)\n",
    "    output_count_str_df.to_excel(savePath)"
   ]
  },
  {
   "cell_type": "code",
   "execution_count": null,
   "id": "7aaf6fd0-bdd0-42b1-b490-ad07640ae4cc",
   "metadata": {},
   "outputs": [],
   "source": []
  },
  {
   "cell_type": "markdown",
   "id": "52648bfe-6686-43b2-acd8-fe2c3aba0a8b",
   "metadata": {},
   "source": [
    "## B) Analysis of inputs and outputs of a list of neurons"
   ]
  },
  {
   "cell_type": "markdown",
   "id": "05b11f82",
   "metadata": {},
   "source": [
    "### 1. Loading IDs manually"
   ]
  },
  {
   "cell_type": "code",
   "execution_count": 13,
   "id": "fc94e02b-34be-4767-8833-77839623e08d",
   "metadata": {},
   "outputs": [
    {
     "name": "stdout",
     "output_type": "stream",
     "text": [
      "ID up-to-date in FlyWire: [ True]\n"
     ]
    }
   ],
   "source": [
    "# Check if root IDs are outdated (i.e. have more recent edits)\n",
    "# Selecting Neurons\n",
    "curr_ID_ls = [720575940622355226]   # your query\n",
    "\n",
    "print(f'ID up-to-date in FlyWire: {flywire.is_latest_root(curr_ID_ls)}')"
   ]
  },
  {
   "cell_type": "code",
   "execution_count": 11,
   "id": "f73d1e00",
   "metadata": {},
   "outputs": [
    {
     "data": {
      "text/plain": [
       "array([False])"
      ]
     },
     "execution_count": 11,
     "metadata": {},
     "output_type": "execute_result"
    }
   ],
   "source": [
    "np.unique(flywire.is_latest_root(curr_ID_ls))"
   ]
  },
  {
   "cell_type": "markdown",
   "id": "9f2e22df",
   "metadata": {},
   "source": [
    "#### 1.1 Cheking connectivity of not-up-to-date segments"
   ]
  },
  {
   "cell_type": "code",
   "execution_count": 9,
   "id": "c6554910",
   "metadata": {},
   "outputs": [
    {
     "name": "stdout",
     "output_type": "stream",
     "text": [
      "Using materialization version 526\n",
      "Using materialization version 526\n"
     ]
    }
   ],
   "source": [
    "if not np.unique(flywire.is_latest_root(curr_ID_ls))[0]: #if not up-to-date\n",
    "    # Fetch the neuron's inputs and outputs\n",
    "    neurons_inputs = flywire.synapses.fetch_synapses(curr_ID_ls, pre=False, post=True, attach=True, \n",
    "                                             min_score=50, clean=True, transmitters=False, \n",
    "                                             neuropils=True, batch_size=30, \n",
    "                                             dataset='production', progress=True) #,mat= \"live\"\n",
    "    neurons_outputs = flywire.synapses.fetch_synapses(curr_ID_ls, pre=True, post=False, attach=True, \n",
    "                                             min_score=50, clean=True, transmitters=False, \n",
    "                                             neuropils=True, batch_size=30, \n",
    "                                             dataset='production', progress=True) #, mat= \"live\"\n"
   ]
  },
  {
   "cell_type": "code",
   "execution_count": null,
   "id": "94868116",
   "metadata": {},
   "outputs": [],
   "source": []
  },
  {
   "cell_type": "markdown",
   "id": "683eecd3",
   "metadata": {},
   "source": [
    "### 1. Or, loading from excel file"
   ]
  },
  {
   "cell_type": "code",
   "execution_count": 2,
   "id": "c2828bec",
   "metadata": {},
   "outputs": [],
   "source": [
    "# Choose path and file\n",
    "import os\n",
    "\n",
    "dataPath = r'D:\\Connectomics data\\FlyWire\\Excels'\n",
    "dataPath = r'C:\\Users\\sebas\\Downloads'\n",
    "fileDate = '20230110'\n",
    "fileName = f'Tm9 proofreadings_{fileDate}.xlsx'\n",
    "fileName = f'Tm1 proofreadings_{fileDate}.xlsx'\n",
    "filePath = os.path.join(dataPath,fileName)"
   ]
  },
  {
   "cell_type": "code",
   "execution_count": 4,
   "id": "42d8eea2",
   "metadata": {},
   "outputs": [],
   "source": [
    "df = pd.read_excel(filePath)\n",
    "curr_ID_ls = df[\"seg_id\"].tolist()"
   ]
  },
  {
   "cell_type": "code",
   "execution_count": 18,
   "id": "37a4b4fe",
   "metadata": {},
   "outputs": [
    {
     "name": "stdout",
     "output_type": "stream",
     "text": [
      "17\n"
     ]
    }
   ],
   "source": [
    "# Applying any filter?\n",
    "filtered_df = df[(df['twigs proofread (Y/N)']== 'Y') & (df['inputs_proofread (Y/N)']!= 'Y') & (df['cluster_id']!= -1)& (df['cluster_id']!= 3)].copy()\n",
    "print(len(filtered_df))\n",
    "\n",
    "# Defining id to work with\n",
    "curr_ID_ls = filtered_df[\"seg_id\"].tolist()"
   ]
  },
  {
   "cell_type": "markdown",
   "id": "09d8e0a2",
   "metadata": {},
   "source": [
    "### 1. Or, loading from txt file"
   ]
  },
  {
   "cell_type": "code",
   "execution_count": 22,
   "id": "8517c371",
   "metadata": {},
   "outputs": [],
   "source": [
    "# Choose path and file\n",
    "import os\n",
    "\n",
    "dataPath = r'E:\\Connectomics-Data\\FlyWire\\Txts\\cell_type_proofread'\n",
    "fileDate = '20230614'\n",
    "fileName = f'root_ids_Tm16_side_right.txt'\n",
    "filePath = os.path.join(dataPath,fileName)\n",
    "ids_df = pd.read_csv(filePath, sep = \",\")\n",
    "curr_ID_ls = ids_df.columns.tolist()"
   ]
  },
  {
   "cell_type": "markdown",
   "id": "f78dc606",
   "metadata": {},
   "source": [
    "### 2. Updating IDs and fetching synapses"
   ]
  },
  {
   "cell_type": "code",
   "execution_count": 23,
   "id": "946d6446",
   "metadata": {},
   "outputs": [
    {
     "data": {
      "application/vnd.jupyter.widget-view+json": {
       "model_id": "",
       "version_major": 2,
       "version_minor": 0
      },
      "text/plain": [
       "Updating:   0%|          | 0/149 [00:00<?, ?it/s]"
      ]
     },
     "metadata": {},
     "output_type": "display_data"
    }
   ],
   "source": [
    "#Updating the IDs via Fafbseg\n",
    "updated_ID_df = fafbseg.flywire.update_ids(curr_ID_ls, stop_layer=2, supervoxels=None, timestamp=None, dataset='production', progress=True)"
   ]
  },
  {
   "cell_type": "code",
   "execution_count": 24,
   "id": "42de722a-b4e8-4e1c-9afd-445dd8607737",
   "metadata": {},
   "outputs": [
    {
     "data": {
      "application/vnd.jupyter.widget-view+json": {
       "model_id": "a69017f0060f4e8fb63d4598620fd23d",
       "version_major": 2,
       "version_minor": 0
      },
      "text/plain": [
       "Fetching synapses:   0%|          | 0/5 [00:00<?, ?it/s]"
      ]
     },
     "metadata": {},
     "output_type": "display_data"
    },
    {
     "data": {
      "application/vnd.jupyter.widget-view+json": {
       "model_id": "7797239640834c858e54e29d55f13386",
       "version_major": 2,
       "version_minor": 0
      },
      "text/plain": [
       "Fetching synapses:   0%|          | 0/5 [00:00<?, ?it/s]"
      ]
     },
     "metadata": {},
     "output_type": "display_data"
    }
   ],
   "source": [
    "# Fetching synapses from new IDs\n",
    "ID_ls = updated_ID_df[\"new_id\"].tolist()\n",
    "\n",
    "if np.unique(flywire.is_latest_root(ID_ls))[0]:\n",
    "    # Fetch the neuron's inputs and putputs\n",
    "    neurons_inputs = flywire.synapses.fetch_synapses(ID_ls, pre=False, post=True, attach=True, \n",
    "                                             min_score=50, clean=True, transmitters=False, \n",
    "                                             neuropils=True, batch_size=30, \n",
    "                                             dataset='production', progress=True,mat= \"live\")\n",
    "    neurons_outputs = flywire.synapses.fetch_synapses(ID_ls, pre=True, post=False, attach=True, \n",
    "                                             min_score=50, clean=True, transmitters=False, \n",
    "                                             neuropils=True, batch_size=30, \n",
    "                                             dataset='production', progress=True, mat= \"live\")\n",
    "    #synaptic_counts = flywire.synapses.synapse_counts(root_ids, by_neuropil=False, min_score=30, live_query=True,batch_size=10, dataset='production')\n",
    "else:\n",
    "    print(f'IDs not up to date, analysis aborted') \n",
    "    "
   ]
  },
  {
   "cell_type": "markdown",
   "id": "da52d8ea-1c68-4303-ab06-bdda32124561",
   "metadata": {},
   "source": [
    "#### Selecting a neuropile of interest for synaptic counts per neuron ID"
   ]
  },
  {
   "cell_type": "code",
   "execution_count": 25,
   "id": "58c99376",
   "metadata": {},
   "outputs": [
    {
     "data": {
      "text/html": [
       "<div>\n",
       "<style scoped>\n",
       "    .dataframe tbody tr th:only-of-type {\n",
       "        vertical-align: middle;\n",
       "    }\n",
       "\n",
       "    .dataframe tbody tr th {\n",
       "        vertical-align: top;\n",
       "    }\n",
       "\n",
       "    .dataframe thead th {\n",
       "        text-align: right;\n",
       "    }\n",
       "</style>\n",
       "<table border=\"1\" class=\"dataframe\">\n",
       "  <thead>\n",
       "    <tr style=\"text-align: right;\">\n",
       "      <th></th>\n",
       "      <th>id</th>\n",
       "      <th>created</th>\n",
       "      <th>superceded_id</th>\n",
       "      <th>valid</th>\n",
       "      <th>pre_x</th>\n",
       "      <th>pre_y</th>\n",
       "      <th>pre_z</th>\n",
       "      <th>post_x</th>\n",
       "      <th>post_y</th>\n",
       "      <th>post_z</th>\n",
       "      <th>...</th>\n",
       "      <th>glut</th>\n",
       "      <th>oct</th>\n",
       "      <th>ser</th>\n",
       "      <th>da</th>\n",
       "      <th>valid_nt</th>\n",
       "      <th>pre_pt_supervoxel_id</th>\n",
       "      <th>pre</th>\n",
       "      <th>post_pt_supervoxel_id</th>\n",
       "      <th>post</th>\n",
       "      <th>neuropil</th>\n",
       "    </tr>\n",
       "  </thead>\n",
       "  <tbody>\n",
       "    <tr>\n",
       "      <th>0</th>\n",
       "      <td>1902627</td>\n",
       "      <td>2021-03-09 20:14:58.183080+00:00</td>\n",
       "      <td>NaN</td>\n",
       "      <td>t</td>\n",
       "      <td>794520</td>\n",
       "      <td>364920</td>\n",
       "      <td>198400</td>\n",
       "      <td>794480</td>\n",
       "      <td>364816</td>\n",
       "      <td>198400</td>\n",
       "      <td>...</td>\n",
       "      <td>0.196260</td>\n",
       "      <td>0.149257</td>\n",
       "      <td>3.578454e-04</td>\n",
       "      <td>0.001257</td>\n",
       "      <td>t</td>\n",
       "      <td>84307459845897841</td>\n",
       "      <td>720575940620265432</td>\n",
       "      <td>84307459845900617</td>\n",
       "      <td>720575940630824441</td>\n",
       "      <td>ME_L</td>\n",
       "    </tr>\n",
       "    <tr>\n",
       "      <th>3</th>\n",
       "      <td>57347764</td>\n",
       "      <td>2021-03-09 20:14:58.183080+00:00</td>\n",
       "      <td>NaN</td>\n",
       "      <td>t</td>\n",
       "      <td>703444</td>\n",
       "      <td>271976</td>\n",
       "      <td>193040</td>\n",
       "      <td>703368</td>\n",
       "      <td>272028</td>\n",
       "      <td>193120</td>\n",
       "      <td>...</td>\n",
       "      <td>0.016879</td>\n",
       "      <td>0.007386</td>\n",
       "      <td>6.427097e-04</td>\n",
       "      <td>0.027007</td>\n",
       "      <td>t</td>\n",
       "      <td>82687398181651323</td>\n",
       "      <td>720575940613127976</td>\n",
       "      <td>82687398181668146</td>\n",
       "      <td>720575940647488308</td>\n",
       "      <td>LO_L</td>\n",
       "    </tr>\n",
       "    <tr>\n",
       "      <th>6</th>\n",
       "      <td>69576362</td>\n",
       "      <td>2021-03-09 20:14:58.183080+00:00</td>\n",
       "      <td>NaN</td>\n",
       "      <td>t</td>\n",
       "      <td>667924</td>\n",
       "      <td>295568</td>\n",
       "      <td>148640</td>\n",
       "      <td>667888</td>\n",
       "      <td>295480</td>\n",
       "      <td>148680</td>\n",
       "      <td>...</td>\n",
       "      <td>0.000004</td>\n",
       "      <td>0.172897</td>\n",
       "      <td>1.525959e-07</td>\n",
       "      <td>0.000245</td>\n",
       "      <td>t</td>\n",
       "      <td>82124860410748270</td>\n",
       "      <td>720575940628250767</td>\n",
       "      <td>82124860410774410</td>\n",
       "      <td>720575940632683660</td>\n",
       "      <td>LO_L</td>\n",
       "    </tr>\n",
       "    <tr>\n",
       "      <th>7</th>\n",
       "      <td>102727921</td>\n",
       "      <td>2021-03-09 20:14:58.183080+00:00</td>\n",
       "      <td>NaN</td>\n",
       "      <td>t</td>\n",
       "      <td>774208</td>\n",
       "      <td>360220</td>\n",
       "      <td>152400</td>\n",
       "      <td>774224</td>\n",
       "      <td>360152</td>\n",
       "      <td>152360</td>\n",
       "      <td>...</td>\n",
       "      <td>0.007996</td>\n",
       "      <td>0.006079</td>\n",
       "      <td>1.799387e-03</td>\n",
       "      <td>0.018337</td>\n",
       "      <td>t</td>\n",
       "      <td>83955547271152226</td>\n",
       "      <td>720575940618531867</td>\n",
       "      <td>83955547271140404</td>\n",
       "      <td>720575940632683660</td>\n",
       "      <td>ME_L</td>\n",
       "    </tr>\n",
       "    <tr>\n",
       "      <th>8</th>\n",
       "      <td>187376497</td>\n",
       "      <td>2021-03-09 20:14:58.183080+00:00</td>\n",
       "      <td>NaN</td>\n",
       "      <td>t</td>\n",
       "      <td>801128</td>\n",
       "      <td>300652</td>\n",
       "      <td>203200</td>\n",
       "      <td>801236</td>\n",
       "      <td>300648</td>\n",
       "      <td>203240</td>\n",
       "      <td>...</td>\n",
       "      <td>0.914634</td>\n",
       "      <td>0.001423</td>\n",
       "      <td>1.703753e-03</td>\n",
       "      <td>0.002444</td>\n",
       "      <td>t</td>\n",
       "      <td>84376729078594923</td>\n",
       "      <td>720575940630409413</td>\n",
       "      <td>84376729078598312</td>\n",
       "      <td>720575940615866939</td>\n",
       "      <td>ME_L</td>\n",
       "    </tr>\n",
       "  </tbody>\n",
       "</table>\n",
       "<p>5 rows × 24 columns</p>\n",
       "</div>"
      ],
      "text/plain": [
       "          id                          created  superceded_id valid   pre_x  \\\n",
       "0    1902627 2021-03-09 20:14:58.183080+00:00            NaN     t  794520   \n",
       "3   57347764 2021-03-09 20:14:58.183080+00:00            NaN     t  703444   \n",
       "6   69576362 2021-03-09 20:14:58.183080+00:00            NaN     t  667924   \n",
       "7  102727921 2021-03-09 20:14:58.183080+00:00            NaN     t  774208   \n",
       "8  187376497 2021-03-09 20:14:58.183080+00:00            NaN     t  801128   \n",
       "\n",
       "    pre_y   pre_z  post_x  post_y  post_z  ...      glut       oct  \\\n",
       "0  364920  198400  794480  364816  198400  ...  0.196260  0.149257   \n",
       "3  271976  193040  703368  272028  193120  ...  0.016879  0.007386   \n",
       "6  295568  148640  667888  295480  148680  ...  0.000004  0.172897   \n",
       "7  360220  152400  774224  360152  152360  ...  0.007996  0.006079   \n",
       "8  300652  203200  801236  300648  203240  ...  0.914634  0.001423   \n",
       "\n",
       "            ser        da  valid_nt  pre_pt_supervoxel_id                 pre  \\\n",
       "0  3.578454e-04  0.001257         t     84307459845897841  720575940620265432   \n",
       "3  6.427097e-04  0.027007         t     82687398181651323  720575940613127976   \n",
       "6  1.525959e-07  0.000245         t     82124860410748270  720575940628250767   \n",
       "7  1.799387e-03  0.018337         t     83955547271152226  720575940618531867   \n",
       "8  1.703753e-03  0.002444         t     84376729078594923  720575940630409413   \n",
       "\n",
       "   post_pt_supervoxel_id                post  neuropil  \n",
       "0      84307459845900617  720575940630824441      ME_L  \n",
       "3      82687398181668146  720575940647488308      LO_L  \n",
       "6      82124860410774410  720575940632683660      LO_L  \n",
       "7      83955547271140404  720575940632683660      ME_L  \n",
       "8      84376729078598312  720575940615866939      ME_L  \n",
       "\n",
       "[5 rows x 24 columns]"
      ]
     },
     "execution_count": 25,
     "metadata": {},
     "output_type": "execute_result"
    }
   ],
   "source": [
    "neurons_inputs.head()"
   ]
  },
  {
   "cell_type": "code",
   "execution_count": 26,
   "id": "c945f2ad",
   "metadata": {},
   "outputs": [
    {
     "data": {
      "text/html": [
       "<div>\n",
       "<style scoped>\n",
       "    .dataframe tbody tr th:only-of-type {\n",
       "        vertical-align: middle;\n",
       "    }\n",
       "\n",
       "    .dataframe tbody tr th {\n",
       "        vertical-align: top;\n",
       "    }\n",
       "\n",
       "    .dataframe thead th {\n",
       "        text-align: right;\n",
       "    }\n",
       "</style>\n",
       "<table border=\"1\" class=\"dataframe\">\n",
       "  <thead>\n",
       "    <tr style=\"text-align: right;\">\n",
       "      <th></th>\n",
       "      <th>id</th>\n",
       "      <th>created</th>\n",
       "      <th>superceded_id</th>\n",
       "      <th>valid</th>\n",
       "      <th>pre_x</th>\n",
       "      <th>pre_y</th>\n",
       "      <th>pre_z</th>\n",
       "      <th>post_x</th>\n",
       "      <th>post_y</th>\n",
       "      <th>post_z</th>\n",
       "      <th>...</th>\n",
       "      <th>glut</th>\n",
       "      <th>oct</th>\n",
       "      <th>ser</th>\n",
       "      <th>da</th>\n",
       "      <th>valid_nt</th>\n",
       "      <th>pre_pt_supervoxel_id</th>\n",
       "      <th>pre</th>\n",
       "      <th>post_pt_supervoxel_id</th>\n",
       "      <th>post</th>\n",
       "      <th>neuropil</th>\n",
       "    </tr>\n",
       "  </thead>\n",
       "  <tbody>\n",
       "    <tr>\n",
       "      <th>0</th>\n",
       "      <td>69576513</td>\n",
       "      <td>2021-03-09 20:14:58.183080+00:00</td>\n",
       "      <td>NaN</td>\n",
       "      <td>t</td>\n",
       "      <td>668900</td>\n",
       "      <td>294344</td>\n",
       "      <td>149240</td>\n",
       "      <td>668784</td>\n",
       "      <td>294384</td>\n",
       "      <td>149240</td>\n",
       "      <td>...</td>\n",
       "      <td>0.010409</td>\n",
       "      <td>0.121201</td>\n",
       "      <td>8.055672e-05</td>\n",
       "      <td>0.001904</td>\n",
       "      <td>t</td>\n",
       "      <td>82124860410781758</td>\n",
       "      <td>720575940632683660</td>\n",
       "      <td>82124860410782957</td>\n",
       "      <td>720575940623391783</td>\n",
       "      <td>LO_L</td>\n",
       "    </tr>\n",
       "    <tr>\n",
       "      <th>1</th>\n",
       "      <td>241454025</td>\n",
       "      <td>2021-03-09 20:14:58.183080+00:00</td>\n",
       "      <td>NaN</td>\n",
       "      <td>t</td>\n",
       "      <td>732360</td>\n",
       "      <td>269940</td>\n",
       "      <td>156920</td>\n",
       "      <td>732468</td>\n",
       "      <td>270000</td>\n",
       "      <td>156920</td>\n",
       "      <td>...</td>\n",
       "      <td>0.000002</td>\n",
       "      <td>0.405225</td>\n",
       "      <td>4.164274e-07</td>\n",
       "      <td>0.000914</td>\n",
       "      <td>t</td>\n",
       "      <td>83179979256819384</td>\n",
       "      <td>720575940615866939</td>\n",
       "      <td>83179979256825543</td>\n",
       "      <td>720575940618988885</td>\n",
       "      <td>LO_L</td>\n",
       "    </tr>\n",
       "    <tr>\n",
       "      <th>2</th>\n",
       "      <td>20003213</td>\n",
       "      <td>2021-03-09 20:14:58.183080+00:00</td>\n",
       "      <td>NaN</td>\n",
       "      <td>t</td>\n",
       "      <td>683760</td>\n",
       "      <td>325024</td>\n",
       "      <td>166840</td>\n",
       "      <td>683744</td>\n",
       "      <td>324884</td>\n",
       "      <td>166880</td>\n",
       "      <td>...</td>\n",
       "      <td>0.003838</td>\n",
       "      <td>0.063037</td>\n",
       "      <td>1.090329e-04</td>\n",
       "      <td>0.006990</td>\n",
       "      <td>t</td>\n",
       "      <td>82406816490840679</td>\n",
       "      <td>720575940632683660</td>\n",
       "      <td>82406816490846750</td>\n",
       "      <td>720575940589576276</td>\n",
       "      <td>LO_L</td>\n",
       "    </tr>\n",
       "    <tr>\n",
       "      <th>3</th>\n",
       "      <td>192384559</td>\n",
       "      <td>2021-03-09 20:14:58.183080+00:00</td>\n",
       "      <td>NaN</td>\n",
       "      <td>t</td>\n",
       "      <td>665220</td>\n",
       "      <td>303592</td>\n",
       "      <td>140440</td>\n",
       "      <td>665256</td>\n",
       "      <td>303448</td>\n",
       "      <td>140480</td>\n",
       "      <td>...</td>\n",
       "      <td>0.015808</td>\n",
       "      <td>0.002184</td>\n",
       "      <td>5.841469e-03</td>\n",
       "      <td>0.050099</td>\n",
       "      <td>t</td>\n",
       "      <td>82054629038829361</td>\n",
       "      <td>720575940626330969</td>\n",
       "      <td>82054629038843403</td>\n",
       "      <td>720575940653418998</td>\n",
       "      <td>LO_L</td>\n",
       "    </tr>\n",
       "    <tr>\n",
       "      <th>4</th>\n",
       "      <td>88333356</td>\n",
       "      <td>2021-03-09 20:14:58.183080+00:00</td>\n",
       "      <td>NaN</td>\n",
       "      <td>t</td>\n",
       "      <td>769988</td>\n",
       "      <td>365212</td>\n",
       "      <td>163920</td>\n",
       "      <td>769872</td>\n",
       "      <td>365164</td>\n",
       "      <td>163960</td>\n",
       "      <td>...</td>\n",
       "      <td>0.001156</td>\n",
       "      <td>0.063630</td>\n",
       "      <td>8.425271e-05</td>\n",
       "      <td>0.013628</td>\n",
       "      <td>t</td>\n",
       "      <td>83885247246832249</td>\n",
       "      <td>720575940632683660</td>\n",
       "      <td>83885247246850286</td>\n",
       "      <td>720575940630142914</td>\n",
       "      <td>ME_L</td>\n",
       "    </tr>\n",
       "  </tbody>\n",
       "</table>\n",
       "<p>5 rows × 24 columns</p>\n",
       "</div>"
      ],
      "text/plain": [
       "          id                          created  superceded_id valid   pre_x  \\\n",
       "0   69576513 2021-03-09 20:14:58.183080+00:00            NaN     t  668900   \n",
       "1  241454025 2021-03-09 20:14:58.183080+00:00            NaN     t  732360   \n",
       "2   20003213 2021-03-09 20:14:58.183080+00:00            NaN     t  683760   \n",
       "3  192384559 2021-03-09 20:14:58.183080+00:00            NaN     t  665220   \n",
       "4   88333356 2021-03-09 20:14:58.183080+00:00            NaN     t  769988   \n",
       "\n",
       "    pre_y   pre_z  post_x  post_y  post_z  ...      glut       oct  \\\n",
       "0  294344  149240  668784  294384  149240  ...  0.010409  0.121201   \n",
       "1  269940  156920  732468  270000  156920  ...  0.000002  0.405225   \n",
       "2  325024  166840  683744  324884  166880  ...  0.003838  0.063037   \n",
       "3  303592  140440  665256  303448  140480  ...  0.015808  0.002184   \n",
       "4  365212  163920  769872  365164  163960  ...  0.001156  0.063630   \n",
       "\n",
       "            ser        da  valid_nt  pre_pt_supervoxel_id                 pre  \\\n",
       "0  8.055672e-05  0.001904         t     82124860410781758  720575940632683660   \n",
       "1  4.164274e-07  0.000914         t     83179979256819384  720575940615866939   \n",
       "2  1.090329e-04  0.006990         t     82406816490840679  720575940632683660   \n",
       "3  5.841469e-03  0.050099         t     82054629038829361  720575940626330969   \n",
       "4  8.425271e-05  0.013628         t     83885247246832249  720575940632683660   \n",
       "\n",
       "   post_pt_supervoxel_id                post  neuropil  \n",
       "0      82124860410782957  720575940623391783      LO_L  \n",
       "1      83179979256825543  720575940618988885      LO_L  \n",
       "2      82406816490846750  720575940589576276      LO_L  \n",
       "3      82054629038843403  720575940653418998      LO_L  \n",
       "4      83885247246850286  720575940630142914      ME_L  \n",
       "\n",
       "[5 rows x 24 columns]"
      ]
     },
     "execution_count": 26,
     "metadata": {},
     "output_type": "execute_result"
    }
   ],
   "source": [
    "neurons_outputs.head()"
   ]
  },
  {
   "cell_type": "code",
   "execution_count": 10,
   "id": "07007581-c8da-446b-9669-f9148f8d1883",
   "metadata": {},
   "outputs": [],
   "source": [
    "# Selecting inputs from a single neuropile\n",
    "neuropile = ['ME_R','ME_R'] # String. 'LO_R', 'ME_R', ...\n",
    "#or\n",
    "neuropile_list = ['ME_R','LO_R']\n",
    "\n",
    "neuropile_neurons_inputs = neurons_inputs[(neurons_inputs['neuropil'].isin(neuropile_list))]\n",
    "no_neuropile_neurons_inputs = neurons_inputs[~(neurons_inputs['neuropil'].isin(neuropile))]\n"
   ]
  },
  {
   "cell_type": "markdown",
   "id": "35007d22",
   "metadata": {},
   "source": [
    "### 2.1. For all inputs"
   ]
  },
  {
   "cell_type": "code",
   "execution_count": 6,
   "id": "c90bbf4f-2728-4f46-b1b8-6bc03406834c",
   "metadata": {},
   "outputs": [
    {
     "data": {
      "text/html": [
       "<div>\n",
       "<style scoped>\n",
       "    .dataframe tbody tr th:only-of-type {\n",
       "        vertical-align: middle;\n",
       "    }\n",
       "\n",
       "    .dataframe tbody tr th {\n",
       "        vertical-align: top;\n",
       "    }\n",
       "\n",
       "    .dataframe thead th {\n",
       "        text-align: right;\n",
       "    }\n",
       "</style>\n",
       "<table border=\"1\" class=\"dataframe\">\n",
       "  <thead>\n",
       "    <tr style=\"text-align: right;\">\n",
       "      <th></th>\n",
       "      <th>counts</th>\n",
       "      <th>postsynaptic_ID</th>\n",
       "    </tr>\n",
       "    <tr>\n",
       "      <th>presynaptic_ID</th>\n",
       "      <th></th>\n",
       "      <th></th>\n",
       "    </tr>\n",
       "  </thead>\n",
       "  <tbody>\n",
       "    <tr>\n",
       "      <th>720575940627557202</th>\n",
       "      <td>26</td>\n",
       "      <td>720575940632098607</td>\n",
       "    </tr>\n",
       "    <tr>\n",
       "      <th>720575940655134369</th>\n",
       "      <td>26</td>\n",
       "      <td>720575940632098607</td>\n",
       "    </tr>\n",
       "    <tr>\n",
       "      <th>720575940644993992</th>\n",
       "      <td>23</td>\n",
       "      <td>720575940632098607</td>\n",
       "    </tr>\n",
       "    <tr>\n",
       "      <th>720575940621046465</th>\n",
       "      <td>7</td>\n",
       "      <td>720575940632098607</td>\n",
       "    </tr>\n",
       "    <tr>\n",
       "      <th>720575940625883576</th>\n",
       "      <td>6</td>\n",
       "      <td>720575940632098607</td>\n",
       "    </tr>\n",
       "  </tbody>\n",
       "</table>\n",
       "</div>"
      ],
      "text/plain": [
       "                   counts     postsynaptic_ID\n",
       "presynaptic_ID                               \n",
       "720575940627557202     26  720575940632098607\n",
       "720575940655134369     26  720575940632098607\n",
       "720575940644993992     23  720575940632098607\n",
       "720575940621046465      7  720575940632098607\n",
       "720575940625883576      6  720575940632098607"
      ]
     },
     "execution_count": 6,
     "metadata": {},
     "output_type": "execute_result"
    }
   ],
   "source": [
    "# LOOPING. Counting inputs and ouputs per ID, option joining dataframes\n",
    "final_input_df = pd.DataFrame()\n",
    "for n in neurons_inputs['post'].unique():\n",
    "    inputs_count = {}\n",
    "    curr_inputs = neurons_inputs[neurons_inputs['post'] == n]\n",
    "    inputs_str = curr_inputs.applymap(str)\n",
    "    \n",
    "    for c in inputs_str['pre'].to_list():\n",
    "        inputs_count[c] = inputs_count.get(c, 0) + 1\n",
    "    input_count_df = pd.DataFrame(inputs_count, index=[0])\n",
    "    input_count_df = input_count_df.T\n",
    "    input_count_df.rename(columns={0: \"counts\"},inplace=True)\n",
    "    input_count_df.index.names = ['presynaptic_ID']\n",
    "    input_count_df = input_count_df.sort_values(by=\"counts\",ascending=False)\n",
    "    input_count_df['postsynaptic_ID'] = inputs_str['post'].to_list()[0:len(input_count_df)]\n",
    "    final_input_df = final_input_df.append(input_count_df)\n",
    "    #print(f'Counting done for: {n}')\n",
    "input_count_str_df = final_input_df.applymap(str)\n",
    "input_count_str_df.head()"
   ]
  },
  {
   "cell_type": "markdown",
   "id": "960d77e7",
   "metadata": {},
   "source": [
    "### 2.2 Or, for a selection of all inputs."
   ]
  },
  {
   "cell_type": "code",
   "execution_count": 22,
   "id": "5a58b210",
   "metadata": {},
   "outputs": [
    {
     "data": {
      "text/html": [
       "<div>\n",
       "<style scoped>\n",
       "    .dataframe tbody tr th:only-of-type {\n",
       "        vertical-align: middle;\n",
       "    }\n",
       "\n",
       "    .dataframe tbody tr th {\n",
       "        vertical-align: top;\n",
       "    }\n",
       "\n",
       "    .dataframe thead th {\n",
       "        text-align: right;\n",
       "    }\n",
       "</style>\n",
       "<table border=\"1\" class=\"dataframe\">\n",
       "  <thead>\n",
       "    <tr style=\"text-align: right;\">\n",
       "      <th></th>\n",
       "      <th>counts</th>\n",
       "      <th>postsynaptic_ID</th>\n",
       "    </tr>\n",
       "    <tr>\n",
       "      <th>presynaptic_ID</th>\n",
       "      <th></th>\n",
       "      <th></th>\n",
       "    </tr>\n",
       "  </thead>\n",
       "  <tbody>\n",
       "    <tr>\n",
       "      <th>720575940644993992</th>\n",
       "      <td>32</td>\n",
       "      <td>720575940635543220</td>\n",
       "    </tr>\n",
       "    <tr>\n",
       "      <th>720575940629922245</th>\n",
       "      <td>2</td>\n",
       "      <td>720575940635543220</td>\n",
       "    </tr>\n",
       "    <tr>\n",
       "      <th>720575940425301947</th>\n",
       "      <td>1</td>\n",
       "      <td>720575940635543220</td>\n",
       "    </tr>\n",
       "    <tr>\n",
       "      <th>720575940621064128</th>\n",
       "      <td>1</td>\n",
       "      <td>720575940635543220</td>\n",
       "    </tr>\n",
       "    <tr>\n",
       "      <th>720575940644993992</th>\n",
       "      <td>18</td>\n",
       "      <td>720575940629938298</td>\n",
       "    </tr>\n",
       "  </tbody>\n",
       "</table>\n",
       "</div>"
      ],
      "text/plain": [
       "                   counts     postsynaptic_ID\n",
       "presynaptic_ID                               \n",
       "720575940644993992     32  720575940635543220\n",
       "720575940629922245      2  720575940635543220\n",
       "720575940425301947      1  720575940635543220\n",
       "720575940621064128      1  720575940635543220\n",
       "720575940644993992     18  720575940629938298"
      ]
     },
     "execution_count": 22,
     "metadata": {},
     "output_type": "execute_result"
    }
   ],
   "source": [
    "# LOOPING. Counting inputs and ouputs per ID, option joining dataframes\n",
    "#For \"no_neuropile_neurons_inputs\"\n",
    "\n",
    "final_input_df = pd.DataFrame()\n",
    "for n in no_neuropile_neurons_inputs['post'].unique():\n",
    "    inputs_count = {}\n",
    "    curr_inputs = no_neuropile_neurons_inputs[no_neuropile_neurons_inputs['post'] == n]\n",
    "    inputs_str = curr_inputs.applymap(str)\n",
    "    \n",
    "    for c in inputs_str['pre'].to_list():\n",
    "        inputs_count[c] = inputs_count.get(c, 0) + 1\n",
    "    input_count_df = pd.DataFrame(inputs_count, index=[0])\n",
    "    input_count_df = input_count_df.T\n",
    "    input_count_df.rename(columns={0: \"counts\"},inplace=True)\n",
    "    input_count_df.index.names = ['presynaptic_ID']\n",
    "    input_count_df = input_count_df.sort_values(by=\"counts\",ascending=False)\n",
    "    input_count_df['postsynaptic_ID'] = inputs_str['post'].to_list()[0:len(input_count_df)]\n",
    "    final_input_df = final_input_df.append(input_count_df)\n",
    "    #print(f'Counting done for: {n}')\n",
    "input_count_str_df = final_input_df.applymap(str)\n",
    "input_count_str_df.head()"
   ]
  },
  {
   "cell_type": "markdown",
   "id": "2490a358",
   "metadata": {},
   "source": [
    "### 2.3. For all outputs"
   ]
  },
  {
   "cell_type": "code",
   "execution_count": 27,
   "id": "1e196cf3",
   "metadata": {},
   "outputs": [
    {
     "data": {
      "text/html": [
       "<div>\n",
       "<style scoped>\n",
       "    .dataframe tbody tr th:only-of-type {\n",
       "        vertical-align: middle;\n",
       "    }\n",
       "\n",
       "    .dataframe tbody tr th {\n",
       "        vertical-align: top;\n",
       "    }\n",
       "\n",
       "    .dataframe thead th {\n",
       "        text-align: right;\n",
       "    }\n",
       "</style>\n",
       "<table border=\"1\" class=\"dataframe\">\n",
       "  <thead>\n",
       "    <tr style=\"text-align: right;\">\n",
       "      <th></th>\n",
       "      <th>counts</th>\n",
       "      <th>presynaptic_ID</th>\n",
       "    </tr>\n",
       "    <tr>\n",
       "      <th>postsynaptic_ID</th>\n",
       "      <th></th>\n",
       "      <th></th>\n",
       "    </tr>\n",
       "  </thead>\n",
       "  <tbody>\n",
       "    <tr>\n",
       "      <th>720575940628933392</th>\n",
       "      <td>20</td>\n",
       "      <td>720575940632683660</td>\n",
       "    </tr>\n",
       "    <tr>\n",
       "      <th>720575940626860047</th>\n",
       "      <td>20</td>\n",
       "      <td>720575940632683660</td>\n",
       "    </tr>\n",
       "    <tr>\n",
       "      <th>720575940629061847</th>\n",
       "      <td>19</td>\n",
       "      <td>720575940632683660</td>\n",
       "    </tr>\n",
       "    <tr>\n",
       "      <th>720575940643812296</th>\n",
       "      <td>16</td>\n",
       "      <td>720575940632683660</td>\n",
       "    </tr>\n",
       "    <tr>\n",
       "      <th>720575940615522706</th>\n",
       "      <td>15</td>\n",
       "      <td>720575940632683660</td>\n",
       "    </tr>\n",
       "  </tbody>\n",
       "</table>\n",
       "</div>"
      ],
      "text/plain": [
       "                   counts      presynaptic_ID\n",
       "postsynaptic_ID                              \n",
       "720575940628933392     20  720575940632683660\n",
       "720575940626860047     20  720575940632683660\n",
       "720575940629061847     19  720575940632683660\n",
       "720575940643812296     16  720575940632683660\n",
       "720575940615522706     15  720575940632683660"
      ]
     },
     "execution_count": 27,
     "metadata": {},
     "output_type": "execute_result"
    }
   ],
   "source": [
    "# LOOPING. Counting outputs and ouputs per ID, option joining dataframes\n",
    "final_output_df = pd.DataFrame()\n",
    "for n in neurons_outputs['pre'].unique():\n",
    "    outputs_count = {}\n",
    "    curr_outputs = neurons_outputs[neurons_outputs['pre'] == n]\n",
    "    outputs_str = curr_outputs.applymap(str)\n",
    "    \n",
    "    for c in outputs_str['post'].to_list():\n",
    "        outputs_count[c] = outputs_count.get(c, 0) + 1\n",
    "    output_count_df = pd.DataFrame(outputs_count, index=[0])\n",
    "    output_count_df = output_count_df.T\n",
    "    output_count_df.rename(columns={0: \"counts\"},inplace=True)\n",
    "    output_count_df.index.names = ['postsynaptic_ID']\n",
    "    output_count_df = output_count_df.sort_values(by=\"counts\",ascending=False)\n",
    "    output_count_df['presynaptic_ID'] = outputs_str['pre'].to_list()[0:len(output_count_df)]\n",
    "    final_output_df = final_output_df.append(output_count_df)\n",
    "    #print(f'Counting done for: {n}')\n",
    "output_count_str_df = final_output_df.applymap(str)\n",
    "output_count_str_df.head()"
   ]
  },
  {
   "cell_type": "markdown",
   "id": "ff54919f",
   "metadata": {},
   "source": [
    "### 3. Adding useful information to the dataframe"
   ]
  },
  {
   "cell_type": "code",
   "execution_count": 28,
   "id": "43df9fea",
   "metadata": {},
   "outputs": [],
   "source": [
    "# Selecting dataframe\n",
    "#partner_ID = input_count_str_df.index.tolist()\n",
    "partner_ID = output_count_str_df.index.tolist()"
   ]
  },
  {
   "cell_type": "code",
   "execution_count": 29,
   "id": "13c3f65c",
   "metadata": {},
   "outputs": [
    {
     "data": {
      "application/vnd.jupyter.widget-view+json": {
       "model_id": "",
       "version_major": 2,
       "version_minor": 0
      },
      "text/plain": [
       "Updating:   0%|          | 0/97361 [00:00<?, ?it/s]"
      ]
     },
     "metadata": {},
     "output_type": "display_data"
    }
   ],
   "source": [
    "#Updating the IDs via Fafbseg\n",
    "\n",
    "updated_ID_df = fafbseg.flywire.update_ids(partner_ID, stop_layer=2, supervoxels=None, timestamp=None, dataset='production', progress=True)\n",
    "\n",
    "partner_ID_ls = updated_ID_df[\"new_id\"].tolist()"
   ]
  },
  {
   "cell_type": "code",
   "execution_count": 30,
   "id": "3b56b33c",
   "metadata": {},
   "outputs": [],
   "source": [
    "# Identifying user-based annotations about cell identity\n",
    "\n",
    "identification_df = flywire.find_celltypes(partner_ID_ls, user=None, exact=False, case=False, regex=True, update_roots=False)\n",
    "identification_no_duplicates_df = identification_df.drop_duplicates(subset='pt_root_id', keep='last', inplace=False, ignore_index=False).copy()"
   ]
  },
  {
   "cell_type": "code",
   "execution_count": 31,
   "id": "5b8e597e",
   "metadata": {},
   "outputs": [
    {
     "data": {
      "text/html": [
       "<div>\n",
       "<style scoped>\n",
       "    .dataframe tbody tr th:only-of-type {\n",
       "        vertical-align: middle;\n",
       "    }\n",
       "\n",
       "    .dataframe tbody tr th {\n",
       "        vertical-align: top;\n",
       "    }\n",
       "\n",
       "    .dataframe thead th {\n",
       "        text-align: right;\n",
       "    }\n",
       "</style>\n",
       "<table border=\"1\" class=\"dataframe\">\n",
       "  <thead>\n",
       "    <tr style=\"text-align: right;\">\n",
       "      <th></th>\n",
       "      <th>id</th>\n",
       "      <th>created</th>\n",
       "      <th>superceded_id</th>\n",
       "      <th>pt_position_x</th>\n",
       "      <th>pt_position_y</th>\n",
       "      <th>pt_position_z</th>\n",
       "      <th>tag</th>\n",
       "      <th>user_id</th>\n",
       "      <th>pt_supervoxel_id</th>\n",
       "      <th>pt_root_id</th>\n",
       "    </tr>\n",
       "  </thead>\n",
       "  <tbody>\n",
       "    <tr>\n",
       "      <th>3507</th>\n",
       "      <td>3508</td>\n",
       "      <td>2022-02-07 04:55:17.083499+00:00</td>\n",
       "      <td>NaN</td>\n",
       "      <td>718420</td>\n",
       "      <td>203612</td>\n",
       "      <td>150920</td>\n",
       "      <td>LC10</td>\n",
       "      <td>2356</td>\n",
       "      <td>82967773512500330</td>\n",
       "      <td>720575940610131093</td>\n",
       "    </tr>\n",
       "    <tr>\n",
       "      <th>3551</th>\n",
       "      <td>3552</td>\n",
       "      <td>2022-02-07 04:55:17.178003+00:00</td>\n",
       "      <td>NaN</td>\n",
       "      <td>723864</td>\n",
       "      <td>183300</td>\n",
       "      <td>181360</td>\n",
       "      <td>LC10</td>\n",
       "      <td>2356</td>\n",
       "      <td>83037798726782009</td>\n",
       "      <td>720575940629856312</td>\n",
       "    </tr>\n",
       "    <tr>\n",
       "      <th>3555</th>\n",
       "      <td>3556</td>\n",
       "      <td>2022-02-07 04:55:17.185536+00:00</td>\n",
       "      <td>NaN</td>\n",
       "      <td>734640</td>\n",
       "      <td>169432</td>\n",
       "      <td>181840</td>\n",
       "      <td>LC10</td>\n",
       "      <td>2356</td>\n",
       "      <td>83248630081414311</td>\n",
       "      <td>720575940633265844</td>\n",
       "    </tr>\n",
       "    <tr>\n",
       "      <th>3567</th>\n",
       "      <td>3568</td>\n",
       "      <td>2022-02-07 04:55:17.209586+00:00</td>\n",
       "      <td>NaN</td>\n",
       "      <td>731764</td>\n",
       "      <td>176500</td>\n",
       "      <td>183800</td>\n",
       "      <td>LC10</td>\n",
       "      <td>2356</td>\n",
       "      <td>83178398776280766</td>\n",
       "      <td>720575940651208694</td>\n",
       "    </tr>\n",
       "    <tr>\n",
       "      <th>3571</th>\n",
       "      <td>3572</td>\n",
       "      <td>2022-02-07 04:55:17.218490+00:00</td>\n",
       "      <td>NaN</td>\n",
       "      <td>722084</td>\n",
       "      <td>184612</td>\n",
       "      <td>178800</td>\n",
       "      <td>LC10</td>\n",
       "      <td>2356</td>\n",
       "      <td>83037798726688538</td>\n",
       "      <td>720575940623212988</td>\n",
       "    </tr>\n",
       "    <tr>\n",
       "      <th>...</th>\n",
       "      <td>...</td>\n",
       "      <td>...</td>\n",
       "      <td>...</td>\n",
       "      <td>...</td>\n",
       "      <td>...</td>\n",
       "      <td>...</td>\n",
       "      <td>...</td>\n",
       "      <td>...</td>\n",
       "      <td>...</td>\n",
       "      <td>...</td>\n",
       "    </tr>\n",
       "    <tr>\n",
       "      <th>120699</th>\n",
       "      <td>122282</td>\n",
       "      <td>2023-06-19 13:46:31.033322+00:00</td>\n",
       "      <td>NaN</td>\n",
       "      <td>770156</td>\n",
       "      <td>338016</td>\n",
       "      <td>141160</td>\n",
       "      <td>Transmedullary; Tm21;</td>\n",
       "      <td>14</td>\n",
       "      <td>83884766143330619</td>\n",
       "      <td>720575940607030658</td>\n",
       "    </tr>\n",
       "    <tr>\n",
       "      <th>120710</th>\n",
       "      <td>122293</td>\n",
       "      <td>2023-06-19 14:41:25.857871+00:00</td>\n",
       "      <td>NaN</td>\n",
       "      <td>799180</td>\n",
       "      <td>231036</td>\n",
       "      <td>139360</td>\n",
       "      <td>Transmedullary; Tm21;</td>\n",
       "      <td>14</td>\n",
       "      <td>84375560646087600</td>\n",
       "      <td>720575940607344770</td>\n",
       "    </tr>\n",
       "    <tr>\n",
       "      <th>120711</th>\n",
       "      <td>122294</td>\n",
       "      <td>2023-06-19 14:46:54.012532+00:00</td>\n",
       "      <td>NaN</td>\n",
       "      <td>807840</td>\n",
       "      <td>220956</td>\n",
       "      <td>158880</td>\n",
       "      <td>Tm14</td>\n",
       "      <td>14</td>\n",
       "      <td>84516160762572049</td>\n",
       "      <td>720575940619182646</td>\n",
       "    </tr>\n",
       "    <tr>\n",
       "      <th>120712</th>\n",
       "      <td>122295</td>\n",
       "      <td>2023-06-19 14:55:31.783343+00:00</td>\n",
       "      <td>NaN</td>\n",
       "      <td>808040</td>\n",
       "      <td>203720</td>\n",
       "      <td>172960</td>\n",
       "      <td>Putative Transmedullary; Tm6;</td>\n",
       "      <td>14</td>\n",
       "      <td>84515885951566110</td>\n",
       "      <td>720575940638927332</td>\n",
       "    </tr>\n",
       "    <tr>\n",
       "      <th>120713</th>\n",
       "      <td>122296</td>\n",
       "      <td>2023-06-19 15:04:17.332345+00:00</td>\n",
       "      <td>NaN</td>\n",
       "      <td>709380</td>\n",
       "      <td>361648</td>\n",
       "      <td>184320</td>\n",
       "      <td>Putative Transmedullary 5a; Tm5a</td>\n",
       "      <td>103</td>\n",
       "      <td>82829647431801887</td>\n",
       "      <td>720575940626938755</td>\n",
       "    </tr>\n",
       "  </tbody>\n",
       "</table>\n",
       "<p>10178 rows × 10 columns</p>\n",
       "</div>"
      ],
      "text/plain": [
       "            id                          created  superceded_id  pt_position_x  \\\n",
       "3507      3508 2022-02-07 04:55:17.083499+00:00            NaN         718420   \n",
       "3551      3552 2022-02-07 04:55:17.178003+00:00            NaN         723864   \n",
       "3555      3556 2022-02-07 04:55:17.185536+00:00            NaN         734640   \n",
       "3567      3568 2022-02-07 04:55:17.209586+00:00            NaN         731764   \n",
       "3571      3572 2022-02-07 04:55:17.218490+00:00            NaN         722084   \n",
       "...        ...                              ...            ...            ...   \n",
       "120699  122282 2023-06-19 13:46:31.033322+00:00            NaN         770156   \n",
       "120710  122293 2023-06-19 14:41:25.857871+00:00            NaN         799180   \n",
       "120711  122294 2023-06-19 14:46:54.012532+00:00            NaN         807840   \n",
       "120712  122295 2023-06-19 14:55:31.783343+00:00            NaN         808040   \n",
       "120713  122296 2023-06-19 15:04:17.332345+00:00            NaN         709380   \n",
       "\n",
       "        pt_position_y  pt_position_z                               tag  \\\n",
       "3507           203612         150920                              LC10   \n",
       "3551           183300         181360                              LC10   \n",
       "3555           169432         181840                              LC10   \n",
       "3567           176500         183800                              LC10   \n",
       "3571           184612         178800                              LC10   \n",
       "...               ...            ...                               ...   \n",
       "120699         338016         141160             Transmedullary; Tm21;   \n",
       "120710         231036         139360             Transmedullary; Tm21;   \n",
       "120711         220956         158880                              Tm14   \n",
       "120712         203720         172960     Putative Transmedullary; Tm6;   \n",
       "120713         361648         184320  Putative Transmedullary 5a; Tm5a   \n",
       "\n",
       "        user_id   pt_supervoxel_id          pt_root_id  \n",
       "3507       2356  82967773512500330  720575940610131093  \n",
       "3551       2356  83037798726782009  720575940629856312  \n",
       "3555       2356  83248630081414311  720575940633265844  \n",
       "3567       2356  83178398776280766  720575940651208694  \n",
       "3571       2356  83037798726688538  720575940623212988  \n",
       "...         ...                ...                 ...  \n",
       "120699       14  83884766143330619  720575940607030658  \n",
       "120710       14  84375560646087600  720575940607344770  \n",
       "120711       14  84516160762572049  720575940619182646  \n",
       "120712       14  84515885951566110  720575940638927332  \n",
       "120713      103  82829647431801887  720575940626938755  \n",
       "\n",
       "[10178 rows x 10 columns]"
      ]
     },
     "execution_count": 31,
     "metadata": {},
     "output_type": "execute_result"
    }
   ],
   "source": [
    "identification_no_duplicates_df"
   ]
  },
  {
   "cell_type": "code",
   "execution_count": 32,
   "id": "e443a16a",
   "metadata": {},
   "outputs": [],
   "source": [
    "# Adding info to the current data set. The function:\n",
    "\n",
    "def update_dataframe_single_column(source_df, target_df, reference_column):\n",
    "    # Create a dictionary mapping from the reference column to the source DataFrame\n",
    "    reference_dict = source_df.groupby(reference_column).first().reset_index().to_dict(orient='records')\n",
    "    reference_dict = {row[reference_column]: row for row in reference_dict}\n",
    "\n",
    "    # Update the target DataFrame based on the reference column\n",
    "    for i, row in target_df.iterrows():\n",
    "        ref = row[reference_column]\n",
    "        if ref in reference_dict:\n",
    "            source_row = reference_dict[ref]\n",
    "            target_df.loc[i] = source_row\n",
    "\n",
    "    return target_df\n"
   ]
  },
  {
   "cell_type": "code",
   "execution_count": null,
   "id": "2a2c5ed6",
   "metadata": {},
   "outputs": [],
   "source": [
    "# Run only for inputs\n",
    "\n",
    "\n",
    "# Selecting dataframes and resetting index\n",
    "source_df = identification_no_duplicates_df.copy()\n",
    "source_df.reset_index(inplace = True, drop = True)\n",
    "target_df = input_count_str_df.copy()\n",
    "target_df.reset_index(inplace = True, drop = True)\n",
    "\n",
    "\n",
    "# Adding columns for the function to properly work\n",
    "target_df['partner_ID'] = input_count_str_df.index.astype(str)\n",
    "source_df['partner_ID'] = identification_no_duplicates_df['pt_root_id'].tolist()\n",
    "target_df['name'] = None\n",
    "source_df['name'] = identification_no_duplicates_df['tag'].tolist()\n",
    "target_df['author'] = None\n",
    "source_df['author'] = identification_no_duplicates_df['user_id'].tolist()\n",
    "\n",
    "# Function inputs\n",
    "source_cols = ['name', 'author','presynaptic_ID']\n",
    "target_cols = ['name', 'author', 'presynaptic_ID']\n",
    "reference_column = 'partner_ID'\n",
    "\n",
    "source_df = source_df[source_cols].copy()\n",
    "target_df = target_df[source_cols].copy()\n",
    "\n",
    "source_df = source_df.astype(str)\n",
    "target_df = target_df.astype(str)\n",
    "\n",
    "\n",
    "# Running the function and compleating the dataset\n",
    "result_df = update_dataframe_single_column(source_df, target_df,reference_column)\n",
    "result_df['counts'] = input_count_str_df['counts'].tolist()\n",
    "result_df['postsynaptic_ID'] = input_count_str_df['postsynaptic_ID'].tolist()\n",
    "result_df.head()\n",
    "\n",
    "\n"
   ]
  },
  {
   "cell_type": "code",
   "execution_count": 33,
   "id": "110d186b",
   "metadata": {},
   "outputs": [
    {
     "data": {
      "text/html": [
       "<div>\n",
       "<style scoped>\n",
       "    .dataframe tbody tr th:only-of-type {\n",
       "        vertical-align: middle;\n",
       "    }\n",
       "\n",
       "    .dataframe tbody tr th {\n",
       "        vertical-align: top;\n",
       "    }\n",
       "\n",
       "    .dataframe thead th {\n",
       "        text-align: right;\n",
       "    }\n",
       "</style>\n",
       "<table border=\"1\" class=\"dataframe\">\n",
       "  <thead>\n",
       "    <tr style=\"text-align: right;\">\n",
       "      <th></th>\n",
       "      <th>name</th>\n",
       "      <th>author</th>\n",
       "      <th>partner_ID</th>\n",
       "      <th>counts</th>\n",
       "      <th>presynaptic_ID</th>\n",
       "    </tr>\n",
       "  </thead>\n",
       "  <tbody>\n",
       "    <tr>\n",
       "      <th>0</th>\n",
       "      <td>None</td>\n",
       "      <td>None</td>\n",
       "      <td>720575940628933392</td>\n",
       "      <td>20</td>\n",
       "      <td>720575940632683660</td>\n",
       "    </tr>\n",
       "    <tr>\n",
       "      <th>1</th>\n",
       "      <td>Y3; FBbt_00003914</td>\n",
       "      <td>392</td>\n",
       "      <td>720575940626860047</td>\n",
       "      <td>20</td>\n",
       "      <td>720575940632683660</td>\n",
       "    </tr>\n",
       "    <tr>\n",
       "      <th>2</th>\n",
       "      <td>Mi8; Medullary intrinsic neuron 8; FBbt_00003783</td>\n",
       "      <td>392</td>\n",
       "      <td>720575940629061847</td>\n",
       "      <td>19</td>\n",
       "      <td>720575940632683660</td>\n",
       "    </tr>\n",
       "    <tr>\n",
       "      <th>3</th>\n",
       "      <td>Tm1; Transmedullary neuron 1; FBbt_00003789</td>\n",
       "      <td>392</td>\n",
       "      <td>720575940643812296</td>\n",
       "      <td>16</td>\n",
       "      <td>720575940632683660</td>\n",
       "    </tr>\n",
       "    <tr>\n",
       "      <th>4</th>\n",
       "      <td>None</td>\n",
       "      <td>None</td>\n",
       "      <td>720575940615522706</td>\n",
       "      <td>15</td>\n",
       "      <td>720575940632683660</td>\n",
       "    </tr>\n",
       "  </tbody>\n",
       "</table>\n",
       "</div>"
      ],
      "text/plain": [
       "                                               name author  \\\n",
       "0                                              None   None   \n",
       "1                                 Y3; FBbt_00003914    392   \n",
       "2  Mi8; Medullary intrinsic neuron 8; FBbt_00003783    392   \n",
       "3       Tm1; Transmedullary neuron 1; FBbt_00003789    392   \n",
       "4                                              None   None   \n",
       "\n",
       "           partner_ID counts      presynaptic_ID  \n",
       "0  720575940628933392     20  720575940632683660  \n",
       "1  720575940626860047     20  720575940632683660  \n",
       "2  720575940629061847     19  720575940632683660  \n",
       "3  720575940643812296     16  720575940632683660  \n",
       "4  720575940615522706     15  720575940632683660  "
      ]
     },
     "execution_count": 33,
     "metadata": {},
     "output_type": "execute_result"
    }
   ],
   "source": [
    "# Run only for outputs\n",
    "\n",
    "\n",
    "# Selecting dataframes and resetting index\n",
    "source_df = identification_no_duplicates_df.copy()\n",
    "source_df.reset_index(inplace = True, drop = True)\n",
    "target_df = output_count_str_df.copy()\n",
    "target_df.reset_index(inplace = True, drop = True)\n",
    "\n",
    "\n",
    "# Adding columns for the function to properly work\n",
    "target_df['partner_ID'] = output_count_str_df.index.astype(str)\n",
    "source_df['partner_ID'] = identification_no_duplicates_df['pt_root_id'].tolist()\n",
    "target_df['name'] = None\n",
    "source_df['name'] = identification_no_duplicates_df['tag'].tolist()\n",
    "target_df['author'] = None\n",
    "source_df['author'] = identification_no_duplicates_df['user_id'].tolist()\n",
    "\n",
    "# Function inputs\n",
    "source_cols = ['name', 'author','partner_ID']\n",
    "target_cols = ['name', 'author', 'partner_ID']\n",
    "reference_column = 'partner_ID'\n",
    "\n",
    "source_df = source_df[source_cols].copy()\n",
    "target_df = target_df[source_cols].copy()\n",
    "\n",
    "source_df = source_df.astype(str)\n",
    "target_df = target_df.astype(str)\n",
    "\n",
    "\n",
    "# Running the function and compleating the dataset\n",
    "result_df = update_dataframe_single_column(source_df, target_df,reference_column)\n",
    "result_df['counts'] = output_count_str_df['counts'].tolist()\n",
    "result_df['presynaptic_ID'] = output_count_str_df['presynaptic_ID'].tolist()\n",
    "result_df.head()\n",
    "\n",
    "\n"
   ]
  },
  {
   "cell_type": "code",
   "execution_count": 34,
   "id": "51a5f85a-55f8-4915-80d8-85b31e6c1d04",
   "metadata": {},
   "outputs": [],
   "source": [
    "# Saving data in your computer\n",
    "outDir = r'E:\\Connectomics-Data\\FlyWire\\Excels\\min-score-50'\n",
    "save_excel_file = True\n",
    "\n",
    "if save_excel_file: \n",
    "    ## Input count\n",
    "    #file_name = f'All_Tm1_neurons_input_count_no_twig_proofread_{neuropile}_{fileDate}.xlsx'\n",
    "    #file_name = f'All_Tm9_neurons_input_count_proofread_for_17_more_{neuropile}.xlsx'\n",
    "    #file_name = f'All_Tm1_neurons_input_count_proofread_no_twig_proofread_last_8neurons{neuropile}_{fileDate}.xlsx'\n",
    "    #file_name = f'All_Tm1_neurons_input_count_NO_twig_proofread_21_more_{neuropile}_20230206.xlsx'\n",
    "    file_name = f'Tm16_neurons_output_count_R.xlsx'\n",
    "    savePath = os.path.join(outDir, file_name)\n",
    "    result_df.to_excel(savePath, sheet_name='Buhmann synapses')"
   ]
  },
  {
   "cell_type": "code",
   "execution_count": 35,
   "id": "0ed9c56f",
   "metadata": {},
   "outputs": [],
   "source": [
    "#Saving more data in the same file\n",
    "from openpyxl import load_workbook\n",
    "updated_ID_df_str =  updated_ID_df.applymap(str)\n",
    "filePath = savePath\n",
    "\n",
    "book = load_workbook(filePath)\n",
    "writer = pd.ExcelWriter(filePath, engine = 'openpyxl')\n",
    "writer.book = book\n",
    "\n",
    "updated_ID_df_str.to_excel(writer, sheet_name='ID_update')\n",
    "writer.save()\n",
    "writer.close()"
   ]
  },
  {
   "cell_type": "markdown",
   "id": "3f5583bb",
   "metadata": {},
   "source": [
    "## C) Proofreading predicted synapses via annotations\n"
   ]
  },
  {
   "cell_type": "code",
   "execution_count": 34,
   "id": "e868c59e-7e1b-4172-a1c5-7fc0f1345b48",
   "metadata": {},
   "outputs": [],
   "source": [
    "# Manually loading the URL containing synapses as annotations and notes in each\n",
    "\n",
    "URL = 'https://ngl.flywire.ai/?json_url=https://global.daf-apis.com/nglstate/api/v1/5833034053976064'\n",
    "dict_URL = fafbseg.flywire.decode_url(URL)\n"
   ]
  },
  {
   "cell_type": "code",
   "execution_count": 57,
   "id": "b0f57a7b",
   "metadata": {},
   "outputs": [],
   "source": [
    "# For debuggin purposes\n",
    "\n",
    "#URL = 'https://ngl.flywire.ai/?json_url=https://global.daf-apis.com/nglstate/api/v1/5574105810075648'# OLD URL\n",
    "#URL = 'https://ngl.flywire.ai/?json_url=https://global.daf-apis.com/nglstate/api/v1/6667315345096704'# UPDATED URL\n",
    "URL = 'https://ngl.flywire.ai/?json_url=https://global.daf-apis.com/nglstate/api/v1/6516888544739328' # No segments in the dict\n",
    "dict_URL = fafbseg.flywire.decode_url(URL)"
   ]
  },
  {
   "cell_type": "markdown",
   "id": "b7e5046e",
   "metadata": {},
   "source": [
    "### 1. Loading URLs from excell file\n"
   ]
  },
  {
   "cell_type": "code",
   "execution_count": 6,
   "id": "aab9157e",
   "metadata": {},
   "outputs": [],
   "source": [
    "# Loading the URLs from an excel file\n",
    "\n",
    "# Choose path and file\n",
    "dataPath = r'C:\\Users\\sebas\\Downloads'\n",
    "fileName = 'All_Tm9_neurons_input_count_ME_R_20221017.xlsx'\n",
    "filePath = os.path.join(dataPath,fileName)\n",
    "\n",
    "df = pd.read_excel(filePath)\n",
    "\n",
    "URL_ls = df['URL buhmann postsynapses']\n",
    "\n",
    "#URL_ls =['https://ngl.flywire.ai/?json_url=https://global.daf-apis.com/nglstate/api/v1/5833034053976064','https://ngl.flywire.ai/?json_url=https://global.daf-apis.com/nglstate/api/v1/6635071146557440']"
   ]
  },
  {
   "cell_type": "code",
   "execution_count": 27,
   "id": "7b70485d",
   "metadata": {},
   "outputs": [
    {
     "data": {
      "text/plain": [
       "0      https://ngl.flywire.ai/?json_url=https://globa...\n",
       "1      https://ngl.flywire.ai/?json_url=https://globa...\n",
       "2      https://ngl.flywire.ai/?json_url=https://globa...\n",
       "3      https://ngl.flywire.ai/?json_url=https://globa...\n",
       "4      https://ngl.flywire.ai/?json_url=https://globa...\n",
       "                             ...                        \n",
       "250    https://ngl.flywire.ai/?json_url=https://globa...\n",
       "251    https://ngl.flywire.ai/?json_url=https://globa...\n",
       "252    https://ngl.flywire.ai/?json_url=https://globa...\n",
       "253    https://ngl.flywire.ai/?json_url=https://globa...\n",
       "254    https://ngl.flywire.ai/?json_url=https://globa...\n",
       "Name: URL buhmann postsynapses, Length: 248, dtype: object"
      ]
     },
     "execution_count": 27,
     "metadata": {},
     "output_type": "execute_result"
    }
   ],
   "source": [
    "URL_ls"
   ]
  },
  {
   "cell_type": "code",
   "execution_count": 26,
   "id": "273b9329",
   "metadata": {},
   "outputs": [],
   "source": [
    "URL_ls = URL_ls[URL_ls.notnull()] # Getting rid of NaNs "
   ]
  },
  {
   "cell_type": "markdown",
   "id": "198c14fb",
   "metadata": {},
   "source": [
    "### 2. Extracting annotations' labels / comments"
   ]
  },
  {
   "cell_type": "code",
   "execution_count": 41,
   "id": "c5767fb2-ec02-4f3e-9422-bb57cc51240b",
   "metadata": {},
   "outputs": [],
   "source": [
    "# Extracting points and labels/descriptions\n",
    "points = []\n",
    "descriptions = []\n",
    "segment_ids = []\n",
    "faulty_URLs = []\n",
    "\n",
    "for URL in URL_ls:\n",
    "    dict_URL = fafbseg.flywire.decode_url(URL)\n",
    "    for ann in dict_URL['annotations']:\n",
    "        if 'point' in ann.keys():\n",
    "            try: \n",
    "                segment_ids.append(ann['segments'])\n",
    "            except:# dealing with faulty URLs with no data inside\n",
    "                faulty_URLs.append(URL)\n",
    "                continue\n",
    "            try:\n",
    "                descriptions.append(ann['description'])\n",
    "            except: # dealing with faulty URLs with no data inside\n",
    "                descriptions.append('NO DESCRIPTION YET')\n",
    "        \n",
    "            points.append(ann['point'])\n",
    "            \n",
    "# Splitting in pre and post IDs\n",
    "pre = []\n",
    "post = []\n",
    "for pair in segment_ids:\n",
    "    pre.append(pair[0])\n",
    "    post.append(pair[1])   \n",
    "    \n",
    "#  len([d for d in descriptions if d.lower() == 'true' or d.lower() == 'true\\n' ]) # Brief count of true synapses"
   ]
  },
  {
   "cell_type": "code",
   "execution_count": 42,
   "id": "e83fd4d7",
   "metadata": {},
   "outputs": [],
   "source": [
    "# Creating the summary data frame\n",
    "proofread_synapses_df = pd.DataFrame()\n",
    "\n",
    "proofread_synapses_df['post_pt_position'] = points\n",
    "proofread_synapses_df['proofread_label'] = descriptions\n",
    "proofread_synapses_df['pre_id'] = pre\n",
    "proofread_synapses_df['post_id'] = post\n",
    "    "
   ]
  },
  {
   "cell_type": "code",
   "execution_count": null,
   "id": "da0e5abb",
   "metadata": {},
   "outputs": [],
   "source": [
    "# Check if there was any faulta URL\n",
    "faulty_URLs"
   ]
  },
  {
   "cell_type": "code",
   "execution_count": 53,
   "id": "f4233deb",
   "metadata": {},
   "outputs": [
    {
     "data": {
      "text/html": [
       "<div>\n",
       "<style scoped>\n",
       "    .dataframe tbody tr th:only-of-type {\n",
       "        vertical-align: middle;\n",
       "    }\n",
       "\n",
       "    .dataframe tbody tr th {\n",
       "        vertical-align: top;\n",
       "    }\n",
       "\n",
       "    .dataframe thead th {\n",
       "        text-align: right;\n",
       "    }\n",
       "</style>\n",
       "<table border=\"1\" class=\"dataframe\">\n",
       "  <thead>\n",
       "    <tr style=\"text-align: right;\">\n",
       "      <th></th>\n",
       "      <th>post_pt_position</th>\n",
       "      <th>proofread_label</th>\n",
       "      <th>pre_id</th>\n",
       "      <th>post_id</th>\n",
       "    </tr>\n",
       "  </thead>\n",
       "  <tbody>\n",
       "    <tr>\n",
       "      <th>109</th>\n",
       "      <td>[68806, 84922, 5363]</td>\n",
       "      <td>TRUE</td>\n",
       "      <td>720575940623818423</td>\n",
       "      <td>720575940627738884</td>\n",
       "    </tr>\n",
       "    <tr>\n",
       "      <th>110</th>\n",
       "      <td>[68679, 84921, 5361]</td>\n",
       "      <td>TRUE</td>\n",
       "      <td>720575940623818423</td>\n",
       "      <td>720575940627738884</td>\n",
       "    </tr>\n",
       "    <tr>\n",
       "      <th>111</th>\n",
       "      <td>[65992, 86783, 5371]</td>\n",
       "      <td>true</td>\n",
       "      <td>720575940631976403</td>\n",
       "      <td>720575940627738884</td>\n",
       "    </tr>\n",
       "    <tr>\n",
       "      <th>112</th>\n",
       "      <td>[66561, 86438, 5313]</td>\n",
       "      <td>true?\\n</td>\n",
       "      <td>720575940631976403</td>\n",
       "      <td>720575940627738884</td>\n",
       "    </tr>\n",
       "    <tr>\n",
       "      <th>113</th>\n",
       "      <td>[65884, 86700, 5354]</td>\n",
       "      <td>not sure, versicles &amp; psd yes</td>\n",
       "      <td>720575940631976403</td>\n",
       "      <td>720575940627738884</td>\n",
       "    </tr>\n",
       "    <tr>\n",
       "      <th>...</th>\n",
       "      <td>...</td>\n",
       "      <td>...</td>\n",
       "      <td>...</td>\n",
       "      <td>...</td>\n",
       "    </tr>\n",
       "    <tr>\n",
       "      <th>934</th>\n",
       "      <td>[67520, 86059, 5237]</td>\n",
       "      <td>TRUE\\n</td>\n",
       "      <td>720575940609590781</td>\n",
       "      <td>720575940637243738</td>\n",
       "    </tr>\n",
       "    <tr>\n",
       "      <th>935</th>\n",
       "      <td>[68880, 86681, 5201]</td>\n",
       "      <td>true?\\n</td>\n",
       "      <td>720575940593112738</td>\n",
       "      <td>720575940637243738</td>\n",
       "    </tr>\n",
       "    <tr>\n",
       "      <th>936</th>\n",
       "      <td>[67870, 85860, 5220]</td>\n",
       "      <td>false\\n</td>\n",
       "      <td>720575940610561678</td>\n",
       "      <td>720575940637243738</td>\n",
       "    </tr>\n",
       "    <tr>\n",
       "      <th>937</th>\n",
       "      <td>[68798, 86666, 5293]</td>\n",
       "      <td>true</td>\n",
       "      <td>720575940593120674</td>\n",
       "      <td>720575940637243738</td>\n",
       "    </tr>\n",
       "    <tr>\n",
       "      <th>938</th>\n",
       "      <td>[68891, 86694, 5197]</td>\n",
       "      <td>false\\n</td>\n",
       "      <td>720575940408432452</td>\n",
       "      <td>720575940637243738</td>\n",
       "    </tr>\n",
       "  </tbody>\n",
       "</table>\n",
       "<p>107 rows × 4 columns</p>\n",
       "</div>"
      ],
      "text/plain": [
       "         post_pt_position                proofread_label              pre_id  \\\n",
       "109  [68806, 84922, 5363]                           TRUE  720575940623818423   \n",
       "110  [68679, 84921, 5361]                           TRUE  720575940623818423   \n",
       "111  [65992, 86783, 5371]                           true  720575940631976403   \n",
       "112  [66561, 86438, 5313]                        true?\\n  720575940631976403   \n",
       "113  [65884, 86700, 5354]  not sure, versicles & psd yes  720575940631976403   \n",
       "..                    ...                            ...                 ...   \n",
       "934  [67520, 86059, 5237]                         TRUE\\n  720575940609590781   \n",
       "935  [68880, 86681, 5201]                        true?\\n  720575940593112738   \n",
       "936  [67870, 85860, 5220]                        false\\n  720575940610561678   \n",
       "937  [68798, 86666, 5293]                           true  720575940593120674   \n",
       "938  [68891, 86694, 5197]                        false\\n  720575940408432452   \n",
       "\n",
       "                post_id  \n",
       "109  720575940627738884  \n",
       "110  720575940627738884  \n",
       "111  720575940627738884  \n",
       "112  720575940627738884  \n",
       "113  720575940627738884  \n",
       "..                  ...  \n",
       "934  720575940637243738  \n",
       "935  720575940637243738  \n",
       "936  720575940637243738  \n",
       "937  720575940637243738  \n",
       "938  720575940637243738  \n",
       "\n",
       "[107 rows x 4 columns]"
      ]
     },
     "execution_count": 53,
     "metadata": {},
     "output_type": "execute_result"
    }
   ],
   "source": [
    "#Visualize your current annotation table\n",
    "proofread_synapses_df[proofread_synapses_df['proofread_label']!= 'NO DESCRIPTION YET'].head()"
   ]
  },
  {
   "cell_type": "markdown",
   "id": "74e1064d",
   "metadata": {},
   "source": [
    "### 3. Quantifiying and showing annotation proofread status"
   ]
  },
  {
   "cell_type": "code",
   "execution_count": 47,
   "id": "6550c6af",
   "metadata": {},
   "outputs": [
    {
     "data": {
      "text/plain": [
       "45"
      ]
     },
     "execution_count": 47,
     "metadata": {},
     "output_type": "execute_result"
    }
   ],
   "source": [
    "# Current total number of synapses proofread as TRUE from all links in the file:\n",
    "len([d for d in descriptions if d.lower() == 'true' or d.lower() == 'true\\n' ])"
   ]
  },
  {
   "cell_type": "code",
   "execution_count": null,
   "id": "edde3884",
   "metadata": {},
   "outputs": [],
   "source": [
    "# Current total number of synapses proofread as FALSE from all links in the file:\n",
    "len([d for d in descriptions if d.lower() == 'false' or d.lower() == 'false\\n' ])"
   ]
  },
  {
   "cell_type": "code",
   "execution_count": null,
   "id": "ca65c491",
   "metadata": {},
   "outputs": [],
   "source": [
    "# Current total number of synapses proofread as FALSE NEGATIVE from all links in the file:\n",
    "len([d for d in descriptions if d.lower() == 'false negative' or d.lower() == 'false negative\\n' ])"
   ]
  },
  {
   "cell_type": "code",
   "execution_count": null,
   "id": "8731a030",
   "metadata": {},
   "outputs": [],
   "source": []
  },
  {
   "cell_type": "markdown",
   "id": "1e51f8a5",
   "metadata": {},
   "source": [
    "### 4. Comparing annotation points from 2 URLs"
   ]
  },
  {
   "cell_type": "code",
   "execution_count": null,
   "id": "cfae9bea",
   "metadata": {},
   "outputs": [],
   "source": [
    "# Compare number as well as XYZ location"
   ]
  },
  {
   "cell_type": "code",
   "execution_count": null,
   "id": "36bbdbdb",
   "metadata": {},
   "outputs": [],
   "source": []
  },
  {
   "cell_type": "code",
   "execution_count": null,
   "id": "2570f33f",
   "metadata": {},
   "outputs": [],
   "source": []
  },
  {
   "cell_type": "markdown",
   "id": "8e19f1f1",
   "metadata": {},
   "source": [
    "## D) Calculating and plotting synaptic cleft size ditribution between partners "
   ]
  },
  {
   "cell_type": "code",
   "execution_count": 9,
   "id": "596905ef",
   "metadata": {},
   "outputs": [],
   "source": [
    "# TO BE DONE\n",
    "# 1. Load Tm9 ID's from excel file. \n",
    "# 2. Get main input (probably L3)\n",
    "# 3. Get individual synapses (pre and post sites)\n",
    "# 4. Calculate the distance between the two points\n",
    "# 5. Plot the distance ditribition for a given Tm9-L3 pair\n",
    "# 6. Plot the median of all Tm9-L3 distribution as a distribution"
   ]
  },
  {
   "cell_type": "code",
   "execution_count": null,
   "id": "f680e558",
   "metadata": {},
   "outputs": [],
   "source": []
  },
  {
   "cell_type": "code",
   "execution_count": null,
   "id": "e42b3ccd",
   "metadata": {},
   "outputs": [],
   "source": []
  },
  {
   "cell_type": "markdown",
   "id": "49e07eea",
   "metadata": {},
   "source": [
    "## E) Checking the existance of IDs from Codex in our data base "
   ]
  },
  {
   "cell_type": "code",
   "execution_count": 81,
   "id": "fca8c2eb",
   "metadata": {},
   "outputs": [],
   "source": [
    "#Loading Codex file\n",
    "\n",
    "# Choose path and file\n",
    "dataPath = r'C:\\Users\\sebas\\Downloads'\n",
    "fileName = 'root_ids_Tm9_447.txt'\n",
    "filePath = os.path.join(dataPath,fileName)\n",
    "\n",
    "#Read txt file\n",
    "from numpy import loadtxt\n",
    "codex_ID_ls = list(loadtxt(filePath, comments=\"#\", delimiter=\",\", unpack=False, dtype='str'))\n"
   ]
  },
  {
   "cell_type": "code",
   "execution_count": 82,
   "id": "d5af07d7",
   "metadata": {},
   "outputs": [],
   "source": [
    "#Loading your IDs\n",
    "\n",
    "# Choose path and file\n",
    "dataPath = r'C:\\Users\\sebas\\Downloads'\n",
    "fileName = 'Tm9 proofreadings.xlsx'\n",
    "filePath = os.path.join(dataPath,fileName)\n",
    "df = pd.read_excel(filePath)\n",
    "your_ID_ls = df[\"seg_id\"].astype(str).tolist()\n",
    "\n"
   ]
  },
  {
   "cell_type": "code",
   "execution_count": 83,
   "id": "5f00f60a",
   "metadata": {},
   "outputs": [
    {
     "data": {
      "application/vnd.jupyter.widget-view+json": {
       "model_id": "",
       "version_major": 2,
       "version_minor": 0
      },
      "text/plain": [
       "Updating:   0%|          | 0/198 [00:00<?, ?it/s]"
      ]
     },
     "metadata": {},
     "output_type": "display_data"
    },
    {
     "data": {
      "application/vnd.jupyter.widget-view+json": {
       "model_id": "",
       "version_major": 2,
       "version_minor": 0
      },
      "text/plain": [
       "Updating:   0%|          | 0/100 [00:00<?, ?it/s]"
      ]
     },
     "metadata": {},
     "output_type": "display_data"
    }
   ],
   "source": [
    "# Updatind IDs using FAFBSEG\n",
    "new_codex_ID_df = flywire.update_ids(codex_ID_ls, stop_layer=2, supervoxels=None, timestamp=None, dataset='production', progress=True)\n",
    "new_codex_ID_ls = new_codex_ID_df[\"new_id\"].tolist()\n",
    "\n",
    "new_your_ID_df = flywire.update_ids(your_ID_ls, stop_layer=2, supervoxels=None, timestamp=None, dataset='production', progress=True)\n",
    "new_your_ID_ls = new_your_ID_df[\"new_id\"].tolist()"
   ]
  },
  {
   "cell_type": "code",
   "execution_count": 84,
   "id": "35f24d87",
   "metadata": {},
   "outputs": [
    {
     "name": "stdout",
     "output_type": "stream",
     "text": [
      "Expected lenght for ID_diference: 98\n",
      "Current difference: 136\n"
     ]
    }
   ],
   "source": [
    "#Checking the new IDs in codex ID list with respect to your ID list\n",
    "print(f\"Expected lenght for ID_diference: {len(new_codex_ID_ls)-len(new_your_ID_ls)}\")\n",
    "ID_diference = set(new_codex_ID_ls) - set(new_your_ID_ls)\n",
    "ID_diference_ls = list(ID_diference)\n",
    "print(f\"Current difference: {len(ID_diference_ls)}\")"
   ]
  },
  {
   "cell_type": "code",
   "execution_count": 75,
   "id": "4b6af04e",
   "metadata": {},
   "outputs": [
    {
     "name": "stdout",
     "output_type": "stream",
     "text": [
      "CURRENT old segment IDs: https://ngl.flywire.ai/?json_url=https://globalv1.flywire-daf.com/nglstate/6159673547816960\n",
      "CURRENT new segment IDs: https://ngl.flywire.ai/?json_url=https://globalv1.flywire-daf.com/nglstate/5133081740574720\n",
      "ADD segments: https://ngl.flywire.ai/?json_url=https://globalv1.flywire-daf.com/nglstate/5057131636064256\n"
     ]
    }
   ],
   "source": [
    "#Checking in URL\n",
    "old_url = flywire.encode_url(your_ID_ls)\n",
    "print(f'CURRENT old segment IDs: {old_url}')\n",
    "new_url = flywire.encode_url(new_your_ID_ls)\n",
    "print(f'CURRENT new segment IDs: {new_url}')\n",
    "new_url = flywire.encode_url(ID_diference_ls)\n",
    "print(f'ADD segments: {new_url}')\n"
   ]
  },
  {
   "cell_type": "code",
   "execution_count": null,
   "id": "b2280de6",
   "metadata": {},
   "outputs": [],
   "source": [
    "# Currently, CAVE update not needed:"
   ]
  },
  {
   "cell_type": "code",
   "execution_count": 63,
   "id": "cf101533",
   "metadata": {},
   "outputs": [],
   "source": [
    "# # Updating  chunkedgraph module of CAVE\n",
    "# codex_ID_ls_int = list(map(int,codex_ID_ls))\n",
    "# new_codex_ID_ls_int = list(map(client.chunkedgraph.get_latest_roots,codex_ID_ls_int))\n",
    "\n",
    "# your_ID_ls_int = list(map(int,your_ID_ls))\n",
    "# new_your_ID_ls_int = list(map(client.chunkedgraph.get_latest_roots,your_ID_ls_int))\n"
   ]
  },
  {
   "cell_type": "code",
   "execution_count": 74,
   "id": "4b0cc926",
   "metadata": {},
   "outputs": [],
   "source": [
    "# #Checking the new IDs in codex ID list with respect to your ID list\n",
    "# print(f\"Expected lenght for ID_diference: {len(new_codex_ID_ls_int)-len(new_your_ID_ls_int)}\")"
   ]
  },
  {
   "cell_type": "code",
   "execution_count": null,
   "id": "ccaf198c",
   "metadata": {},
   "outputs": [],
   "source": [
    "# # Putting the new IDs into a list and getting a new neuroglancer URL\n",
    "# new_your_ID_ls_arr = np.concatenate(new_your_ID_ls_int, axis=0 )\n",
    "# new_your_IDs_ls = new_your_ID_ls_arr.tolist()\n",
    "# old_url = flywire.encode_url(your_IDs_ls)\n",
    "# print(f'OLD segments: {old_url}')\n",
    "# new_url = flywire.encode_url(new_your_IDs_ls)\n",
    "# print(f'NEW segments: {new_url}')"
   ]
  },
  {
   "cell_type": "code",
   "execution_count": null,
   "id": "0af889d7",
   "metadata": {},
   "outputs": [],
   "source": [
    "# # Putting the new IDs into a list and getting a new neuroglancer URL\n",
    "# new_codex_ID_ls_arr = np.concatenate(new_codex_ID_ls_int, axis=0 )\n",
    "# new_codex_IDs_ls = new_codex_ID_ls_arr.tolist()\n",
    "# old_url = flywire.encode_url(codex_IDs_ls)\n",
    "# print(f'OLD segments: {old_url}')\n",
    "# new_url = flywire.encode_url(new_codex_IDs_ls)\n",
    "# print(f'NEW segments: {new_url}')"
   ]
  },
  {
   "cell_type": "code",
   "execution_count": null,
   "id": "2bbd8d42",
   "metadata": {},
   "outputs": [],
   "source": []
  },
  {
   "cell_type": "markdown",
   "id": "f1ac8c85",
   "metadata": {},
   "source": [
    "## F) Updating your IDs"
   ]
  },
  {
   "cell_type": "code",
   "execution_count": 77,
   "id": "566b9db6",
   "metadata": {},
   "outputs": [
    {
     "data": {
      "application/vnd.jupyter.widget-view+json": {
       "model_id": "",
       "version_major": 2,
       "version_minor": 0
      },
      "text/plain": [
       "Updating:   0%|          | 0/100 [00:00<?, ?it/s]"
      ]
     },
     "metadata": {},
     "output_type": "display_data"
    }
   ],
   "source": [
    "#Loading your IDs\n",
    "\n",
    "# Choose path and file\n",
    "dataPath = r'C:\\Users\\sebas\\Downloads'\n",
    "fileName = 'Tm9 proofreadings.xlsx'\n",
    "filePath = os.path.join(dataPath,fileName)\n",
    "df = pd.read_excel(filePath)\n",
    "your_ID_ls = df[\"seg_id\"].astype(str).tolist()\n",
    "\n",
    "#Updating the IDs\n",
    "new_your_ID_df = flywire.update_ids(your_ID_ls, stop_layer=2, supervoxels=None, timestamp=None, dataset='production', progress=True)\n"
   ]
  },
  {
   "cell_type": "code",
   "execution_count": 80,
   "id": "12889f3a",
   "metadata": {},
   "outputs": [],
   "source": [
    "# Saving data in your computer\n",
    "outDir = r'C:\\Users\\sebas\\Downloads'\n",
    "save_excel_file = True\n",
    "new_your_ID_df = new_your_ID_df.astype(str)\n",
    "\n",
    "if save_excel_file: \n",
    "    ## Input count\n",
    "    file_name = f'Update_IDs.xlsx'\n",
    "    savePath = os.path.join(outDir, file_name)\n",
    "    new_your_ID_df.to_excel(savePath)"
   ]
  },
  {
   "cell_type": "markdown",
   "id": "d657813b",
   "metadata": {},
   "source": [
    "## G) Plotting our Tm9 patches /clusters or neuron types"
   ]
  },
  {
   "cell_type": "code",
   "execution_count": 15,
   "id": "7efd7b20",
   "metadata": {},
   "outputs": [],
   "source": [
    "#Loading your IDs\n",
    "\n",
    "# Choose path and file\n",
    "dataPath = r'C:\\Users\\sebas\\Downloads'\n",
    "fileName = 'Tm9 proofreadings_20221212.xlsx' # For Tm9 pacthes\n",
    "#fileName = 'All_Tm9_neurons_input_count_ME_R_20230110.xlsx' # For neuron types\n",
    "filePath = os.path.join(dataPath,fileName)\n",
    "df = pd.read_excel(filePath)\n"
   ]
  },
  {
   "cell_type": "markdown",
   "id": "ee7b9769",
   "metadata": {},
   "source": [
    "### 0. Plotting all twig-proofread neurons"
   ]
  },
  {
   "cell_type": "code",
   "execution_count": null,
   "id": "f4415e87",
   "metadata": {},
   "outputs": [],
   "source": []
  },
  {
   "cell_type": "code",
   "execution_count": null,
   "id": "d6c46abf",
   "metadata": {},
   "outputs": [],
   "source": []
  },
  {
   "cell_type": "markdown",
   "id": "299affae",
   "metadata": {},
   "source": [
    "### 1. Plotting all clusters"
   ]
  },
  {
   "cell_type": "code",
   "execution_count": null,
   "id": "a3745a64",
   "metadata": {},
   "outputs": [],
   "source": [
    "# Filter by cluster ID  and generate a Neuroglancer URL\n",
    "\n",
    "cluster_ids = df[\"cluster_id\"].unique() # For Tm9 patches\n",
    "\n",
    "for c_id in cluster_ids:\n",
    "    temp_df = df[df[\"cluster_id\"] == c_id].copy()\n",
    "    print(f'Number of IDs in cluster {c_id}: {len(temp_df)}')\n",
    "    temp_url = flywire.encode_url(temp_df[\"seg_id\"].tolist())\n",
    "    print(f'Cluster {c_id} URL: {temp_url}')\n",
    "    "
   ]
  },
  {
   "cell_type": "markdown",
   "id": "cf51e88c",
   "metadata": {},
   "source": [
    "### 1. Or, plotting all neuron types"
   ]
  },
  {
   "cell_type": "code",
   "execution_count": 17,
   "id": "76ea6b8f",
   "metadata": {},
   "outputs": [],
   "source": [
    "#Deletting spaces from symbol strings\n",
    "symbol_no_Spaces = df.symbol.str.strip()\n",
    "df[\"symbol\"] = symbol_no_Spaces\n",
    "guess_no_Spaces = df.guess.str.strip()\n",
    "df[\"guess\"] = guess_no_Spaces"
   ]
  },
  {
   "cell_type": "code",
   "execution_count": 18,
   "id": "8af44890",
   "metadata": {},
   "outputs": [],
   "source": [
    "symbol_ids = df[\"symbol\"].unique() # For identified inputs\n",
    "guess_ids = df[\"guess\"].unique() # For identified inputs"
   ]
  },
  {
   "cell_type": "code",
   "execution_count": 19,
   "id": "eb6df7bd",
   "metadata": {},
   "outputs": [
    {
     "data": {
      "text/plain": [
       "array([nan, 'TmY-case-01', 'Mt-case-01', 'Tm new?', 'hemibrain-case-01',\n",
       "       'Tm16?', 'MeMe?', 'TmY5?', 'Glia???', 'TmY13?', 'Mi10-new?',\n",
       "       'Tm16-new?', 'Dm12?', 'Tm2?', 'Mi12?', 'Mi?', 'Dm8?', 'Glia?',\n",
       "       'Tm3?', 'Tm???', 'Mt-case-02', 'Dm3?', 'Mt-case-03', 'Mi4?',\n",
       "       'C3 + L2 ?', 'dead?', 'Y1?', 'Mt5?', 'R8?', 'glia?', 'Dm6, Mt3?',\n",
       "       'Tm5?', 'Tm-case-01', 'Tm5Y?', 'L4?'], dtype=object)"
      ]
     },
     "execution_count": 19,
     "metadata": {},
     "output_type": "execute_result"
    }
   ],
   "source": [
    "guess_ids"
   ]
  },
  {
   "cell_type": "code",
   "execution_count": 28,
   "id": "e2edc15a",
   "metadata": {},
   "outputs": [
    {
     "name": "stdout",
     "output_type": "stream",
     "text": [
      "Repetitions in the data set for L3: 31\n",
      "Symbol L3 URL: https://ngl.flywire.ai/?json_url=https://globalv1.flywire-daf.com/nglstate/5881004359155712\n",
      "Repetitions in the data set for Mi4: 55\n",
      "Symbol Mi4 URL: https://ngl.flywire.ai/?json_url=https://globalv1.flywire-daf.com/nglstate/4655181769736192\n",
      "Repetitions in the data set for Tm16: 117\n",
      "Symbol Tm16 URL: https://ngl.flywire.ai/?json_url=https://globalv1.flywire-daf.com/nglstate/5605263935537152\n",
      "Repetitions in the data set for L4: 21\n",
      "Symbol L4 URL: https://ngl.flywire.ai/?json_url=https://globalv1.flywire-daf.com/nglstate/6222568008712192\n",
      "Repetitions in the data set for C3: 28\n",
      "Symbol C3 URL: https://ngl.flywire.ai/?json_url=https://globalv1.flywire-daf.com/nglstate/6274778470023168\n",
      "Repetitions in the data set for Tm20: 35\n",
      "Symbol Tm20 URL: https://ngl.flywire.ai/?json_url=https://globalv1.flywire-daf.com/nglstate/4650579578060800\n",
      "Repetitions in the data set for Dm12: 65\n",
      "Symbol Dm12 URL: https://ngl.flywire.ai/?json_url=https://globalv1.flywire-daf.com/nglstate/4682300126134272\n",
      "Repetitions in the data set for Dm10: 9\n",
      "Symbol Dm10 URL: https://ngl.flywire.ai/?json_url=https://globalv1.flywire-daf.com/nglstate/5260103989067776\n",
      "Repetitions in the data set for ???: 88\n",
      "Symbol ??? URL: https://ngl.flywire.ai/?json_url=https://globalv1.flywire-daf.com/nglstate/5868684346130432\n",
      "Repetitions in the data set for TmY3: 1\n",
      "Symbol TmY3 URL: https://ngl.flywire.ai/?json_url=https://globalv1.flywire-daf.com/nglstate/6202825554001920\n",
      "Repetitions in the data set for Lawf1: 1\n",
      "Symbol Lawf1 URL: https://ngl.flywire.ai/?json_url=https://globalv1.flywire-daf.com/nglstate/4681849490112512\n",
      "Repetitions in the data set for nan: 0\n",
      "Symbol nan URL: https://ngl.flywire.ai/?json_url=https://globalv1.flywire-daf.com/nglstate/6555319291346944\n",
      "Repetitions in the data set for Dm13: 2\n",
      "Symbol Dm13 URL: https://ngl.flywire.ai/?json_url=https://globalv1.flywire-daf.com/nglstate/6225961703964672\n",
      "Repetitions in the data set for Mi13: 11\n",
      "Symbol Mi13 URL: https://ngl.flywire.ai/?json_url=https://globalv1.flywire-daf.com/nglstate/6483037709664256\n",
      "Repetitions in the data set for PS125: 6\n",
      "Symbol PS125 URL: https://ngl.flywire.ai/?json_url=https://globalv1.flywire-daf.com/nglstate/4901187631448064\n",
      "Repetitions in the data set for Mi9: 4\n",
      "Symbol Mi9 URL: https://ngl.flywire.ai/?json_url=https://globalv1.flywire-daf.com/nglstate/4653450361044992\n",
      "Repetitions in the data set for Tm1: 16\n",
      "Symbol Tm1 URL: https://ngl.flywire.ai/?json_url=https://globalv1.flywire-daf.com/nglstate/6255536613883904\n",
      "Repetitions in the data set for T2: 3\n",
      "Symbol T2 URL: https://ngl.flywire.ai/?json_url=https://globalv1.flywire-daf.com/nglstate/4870849257537536\n",
      "Repetitions in the data set for Tm2: 2\n",
      "Symbol Tm2 URL: https://ngl.flywire.ai/?json_url=https://globalv1.flywire-daf.com/nglstate/5686472405417984\n",
      "Repetitions in the data set for C2: 9\n",
      "Symbol C2 URL: https://ngl.flywire.ai/?json_url=https://globalv1.flywire-daf.com/nglstate/6336275791478784\n",
      "Repetitions in the data set for aMe14b: 25\n",
      "Symbol aMe14b URL: https://ngl.flywire.ai/?json_url=https://globalv1.flywire-daf.com/nglstate/5440262130106368\n",
      "Repetitions in the data set for PS125(PDM17): 19\n",
      "Symbol PS125(PDM17) URL: https://ngl.flywire.ai/?json_url=https://globalv1.flywire-daf.com/nglstate/5926645600878592\n",
      "Repetitions in the data set for Tm5: 1\n",
      "Symbol Tm5 URL: https://ngl.flywire.ai/?json_url=https://globalv1.flywire-daf.com/nglstate/4843068805087232\n",
      "Repetitions in the data set for Dm4: 2\n",
      "Symbol Dm4 URL: https://ngl.flywire.ai/?json_url=https://globalv1.flywire-daf.com/nglstate/6437846869082112\n",
      "Repetitions in the data set for Tm3: 1\n",
      "Symbol Tm3 URL: https://ngl.flywire.ai/?json_url=https://globalv1.flywire-daf.com/nglstate/4725731942727680\n",
      "Repetitions in the data set for Mt: 1\n",
      "Symbol Mt URL: https://ngl.flywire.ai/?json_url=https://globalv1.flywire-daf.com/nglstate/5968968711929856\n",
      "Repetitions in the data set for Dm3: 1\n",
      "Symbol Dm3 URL: https://ngl.flywire.ai/?json_url=https://globalv1.flywire-daf.com/nglstate/5280051260030976\n",
      "Repetitions in the data set for Dm15: 6\n",
      "Symbol Dm15 URL: https://ngl.flywire.ai/?json_url=https://globalv1.flywire-daf.com/nglstate/4803590002573312\n",
      "Repetitions in the data set for Dm20: 1\n",
      "Symbol Dm20 URL: https://ngl.flywire.ai/?json_url=https://globalv1.flywire-daf.com/nglstate/5479044241948672\n",
      "Repetitions in the data set for TmY?: 1\n",
      "Symbol TmY? URL: https://ngl.flywire.ai/?json_url=https://globalv1.flywire-daf.com/nglstate/6577100513345536\n",
      "Repetitions in the data set for Mi1: 2\n",
      "Symbol Mi1 URL: https://ngl.flywire.ai/?json_url=https://globalv1.flywire-daf.com/nglstate/6344948387414016\n",
      "Repetitions in the data set for L2: 1\n",
      "Symbol L2 URL: https://ngl.flywire.ai/?json_url=https://globalv1.flywire-daf.com/nglstate/5285433323814912\n",
      "Repetitions in the data set for L5: 2\n",
      "Symbol L5 URL: https://ngl.flywire.ai/?json_url=https://globalv1.flywire-daf.com/nglstate/6036040565391360\n"
     ]
    }
   ],
   "source": [
    "# Generating URLs for each neuron type\n",
    "for s_id in symbol_ids:\n",
    "    temp_df = df[df[\"symbol\"] == s_id].copy()\n",
    "    print(f'Repetitions in the data set for {s_id}: {len(temp_df)}')\n",
    "    temp_url = flywire.encode_url(temp_df[\"presynaptic_ID\"].tolist())\n",
    "    print(f'Symbol {s_id} URL: {temp_url}')"
   ]
  },
  {
   "cell_type": "code",
   "execution_count": 26,
   "id": "b369553c",
   "metadata": {},
   "outputs": [
    {
     "name": "stdout",
     "output_type": "stream",
     "text": [
      "Repetitions in the data set for nan: 0\n",
      "Guess nan URL: https://ngl.flywire.ai/?json_url=https://globalv1.flywire-daf.com/nglstate/4647425931214848\n",
      "Repetitions in the data set for TmY-case-01: 14\n",
      "Guess TmY-case-01 URL: https://ngl.flywire.ai/?json_url=https://globalv1.flywire-daf.com/nglstate/6584691800932352\n",
      "Repetitions in the data set for Mt-case-01: 21\n",
      "Guess Mt-case-01 URL: https://ngl.flywire.ai/?json_url=https://globalv1.flywire-daf.com/nglstate/5555559990296576\n",
      "Repetitions in the data set for Tm new?: 1\n",
      "Guess Tm new? URL: https://ngl.flywire.ai/?json_url=https://globalv1.flywire-daf.com/nglstate/5084421069733888\n",
      "Repetitions in the data set for hemibrain-case-01: 19\n",
      "Guess hemibrain-case-01 URL: https://ngl.flywire.ai/?json_url=https://globalv1.flywire-daf.com/nglstate/6032413331292160\n",
      "Repetitions in the data set for Tm16?: 2\n",
      "Guess Tm16? URL: https://ngl.flywire.ai/?json_url=https://globalv1.flywire-daf.com/nglstate/5730769188159488\n",
      "Repetitions in the data set for MeMe?: 1\n",
      "Guess MeMe? URL: https://ngl.flywire.ai/?json_url=https://globalv1.flywire-daf.com/nglstate/5083462419611648\n",
      "Repetitions in the data set for TmY5?: 1\n",
      "Guess TmY5? URL: https://ngl.flywire.ai/?json_url=https://globalv1.flywire-daf.com/nglstate/6511436838731776\n",
      "Repetitions in the data set for Glia???: 1\n",
      "Guess Glia??? URL: https://ngl.flywire.ai/?json_url=https://globalv1.flywire-daf.com/nglstate/6325756275720192\n",
      "Repetitions in the data set for TmY13?: 1\n",
      "Guess TmY13? URL: https://ngl.flywire.ai/?json_url=https://globalv1.flywire-daf.com/nglstate/5167819234738176\n",
      "Repetitions in the data set for Mi10-new?: 1\n",
      "Guess Mi10-new? URL: https://ngl.flywire.ai/?json_url=https://globalv1.flywire-daf.com/nglstate/4924509068984320\n",
      "Repetitions in the data set for Tm16-new?: 1\n",
      "Guess Tm16-new? URL: https://ngl.flywire.ai/?json_url=https://globalv1.flywire-daf.com/nglstate/4877312176685056\n",
      "Repetitions in the data set for Dm12?: 3\n",
      "Guess Dm12? URL: https://ngl.flywire.ai/?json_url=https://globalv1.flywire-daf.com/nglstate/6564216819417088\n",
      "Repetitions in the data set for Tm2?: 1\n",
      "Guess Tm2? URL: https://ngl.flywire.ai/?json_url=https://globalv1.flywire-daf.com/nglstate/5948379880226816\n",
      "Repetitions in the data set for Mi12?: 2\n",
      "Guess Mi12? URL: https://ngl.flywire.ai/?json_url=https://globalv1.flywire-daf.com/nglstate/5275379073810432\n",
      "Repetitions in the data set for Mi?: 1\n",
      "Guess Mi? URL: https://ngl.flywire.ai/?json_url=https://globalv1.flywire-daf.com/nglstate/4744106584571904\n",
      "Repetitions in the data set for Dm8?: 1\n",
      "Guess Dm8? URL: https://ngl.flywire.ai/?json_url=https://globalv1.flywire-daf.com/nglstate/5843001213452288\n",
      "Repetitions in the data set for Glia?: 1\n",
      "Guess Glia? URL: https://ngl.flywire.ai/?json_url=https://globalv1.flywire-daf.com/nglstate/5076925647159296\n",
      "Repetitions in the data set for Tm3?: 1\n",
      "Guess Tm3? URL: https://ngl.flywire.ai/?json_url=https://globalv1.flywire-daf.com/nglstate/5100061797122048\n",
      "Repetitions in the data set for Tm???: 1\n",
      "Guess Tm??? URL: https://ngl.flywire.ai/?json_url=https://globalv1.flywire-daf.com/nglstate/5882605509541888\n",
      "Repetitions in the data set for Mt-case-02: 2\n",
      "Guess Mt-case-02 URL: https://ngl.flywire.ai/?json_url=https://globalv1.flywire-daf.com/nglstate/5992369337925632\n",
      "Repetitions in the data set for Dm3?: 1\n",
      "Guess Dm3? URL: https://ngl.flywire.ai/?json_url=https://globalv1.flywire-daf.com/nglstate/4812696876744704\n",
      "Repetitions in the data set for Mt-case-03: 1\n",
      "Guess Mt-case-03 URL: https://ngl.flywire.ai/?json_url=https://globalv1.flywire-daf.com/nglstate/4742784439287808\n",
      "Repetitions in the data set for Mi4?: 2\n",
      "Guess Mi4? URL: https://ngl.flywire.ai/?json_url=https://globalv1.flywire-daf.com/nglstate/5404705102495744\n",
      "Repetitions in the data set for C3 + L2 ?: 1\n",
      "Guess C3 + L2 ? URL: https://ngl.flywire.ai/?json_url=https://globalv1.flywire-daf.com/nglstate/6292258819145728\n",
      "Repetitions in the data set for dead?: 2\n",
      "Guess dead? URL: https://ngl.flywire.ai/?json_url=https://globalv1.flywire-daf.com/nglstate/4854076403613696\n",
      "Repetitions in the data set for Y1?: 1\n",
      "Guess Y1? URL: https://ngl.flywire.ai/?json_url=https://globalv1.flywire-daf.com/nglstate/6040235272044544\n",
      "Repetitions in the data set for Mt5?: 1\n",
      "Guess Mt5? URL: https://ngl.flywire.ai/?json_url=https://globalv1.flywire-daf.com/nglstate/6213149548085248\n",
      "Repetitions in the data set for R8?: 1\n",
      "Guess R8? URL: https://ngl.flywire.ai/?json_url=https://globalv1.flywire-daf.com/nglstate/5825289238085632\n",
      "Repetitions in the data set for glia?: 1\n",
      "Guess glia? URL: https://ngl.flywire.ai/?json_url=https://globalv1.flywire-daf.com/nglstate/5063662419050496\n",
      "Repetitions in the data set for Dm6, Mt3?: 1\n",
      "Guess Dm6, Mt3? URL: https://ngl.flywire.ai/?json_url=https://globalv1.flywire-daf.com/nglstate/5825952005226496\n",
      "Repetitions in the data set for Tm5?: 1\n",
      "Guess Tm5? URL: https://ngl.flywire.ai/?json_url=https://globalv1.flywire-daf.com/nglstate/6041994195369984\n",
      "Repetitions in the data set for Tm-case-01: 1\n",
      "Guess Tm-case-01 URL: https://ngl.flywire.ai/?json_url=https://globalv1.flywire-daf.com/nglstate/5470648218419200\n",
      "Repetitions in the data set for Tm5Y?: 1\n",
      "Guess Tm5Y? URL: https://ngl.flywire.ai/?json_url=https://globalv1.flywire-daf.com/nglstate/6228927546654720\n",
      "Repetitions in the data set for L4?: 1\n",
      "Guess L4? URL: https://ngl.flywire.ai/?json_url=https://globalv1.flywire-daf.com/nglstate/5636133610323968\n"
     ]
    }
   ],
   "source": [
    "# Generating URLs for each neuron type\n",
    "for g_id in guess_ids:\n",
    "    temp_df = df[df[\"guess\"] == g_id].copy()\n",
    "    print(f'Repetitions in the data set for {g_id}: {len(temp_df)}')\n",
    "    temp_url = flywire.encode_url(temp_df[\"presynaptic_ID\"].tolist())\n",
    "    print(f'Guess {g_id} URL: {temp_url}')"
   ]
  },
  {
   "cell_type": "markdown",
   "id": "56c92b9b",
   "metadata": {},
   "source": [
    "## H) Tm9-patch mining"
   ]
  },
  {
   "cell_type": "markdown",
   "id": "4125a437",
   "metadata": {},
   "source": [
    "### 1.1 Visualizing neuron of interest to mine"
   ]
  },
  {
   "cell_type": "code",
   "execution_count": 31,
   "id": "791d7c4f",
   "metadata": {},
   "outputs": [],
   "source": [
    "# Load neuron from data base\n",
    "reference_neuron_type = 'Tm16'\n",
    "import os\n",
    "\n",
    "dataPath = r'D:\\Connectomics data\\FlyWire\\Excels'\n",
    "fileDate = '20221216'\n",
    "fileName = f'All_Tm9_neurons_input_count_ME_R_{fileDate}.xlsx'\n",
    "filePath = os.path.join(dataPath,fileName)\n",
    "data_base_df = pd.read_excel(filePath)"
   ]
  },
  {
   "cell_type": "code",
   "execution_count": 35,
   "id": "19f9739a",
   "metadata": {},
   "outputs": [
    {
     "name": "stdout",
     "output_type": "stream",
     "text": [
      "Neurons URL: https://ngl.flywire.ai/?json_url=https://globalv1.flywire-daf.com/nglstate/5425483835506688\n"
     ]
    }
   ],
   "source": [
    "#Filtering the dataframe with  the \"reference_neuron_type\"\n",
    "reference_neuron_type_df = data_base_df[data_base_df['symbol'] == reference_neuron_type].copy()\n",
    "# Creting a Neuroglancer view\n",
    "url = flywire.encode_url(reference_neuron_type_df[\"presynaptic_ID\"].tolist())\n",
    "print(f'Neurons URL: {url}')"
   ]
  },
  {
   "cell_type": "code",
   "execution_count": 34,
   "id": "b1bfbaca",
   "metadata": {},
   "outputs": [
    {
     "data": {
      "text/html": [
       "<div>\n",
       "<style scoped>\n",
       "    .dataframe tbody tr th:only-of-type {\n",
       "        vertical-align: middle;\n",
       "    }\n",
       "\n",
       "    .dataframe tbody tr th {\n",
       "        vertical-align: top;\n",
       "    }\n",
       "\n",
       "    .dataframe thead th {\n",
       "        text-align: right;\n",
       "    }\n",
       "</style>\n",
       "<table border=\"1\" class=\"dataframe\">\n",
       "  <thead>\n",
       "    <tr style=\"text-align: right;\">\n",
       "      <th></th>\n",
       "      <th>presynaptic_ID</th>\n",
       "      <th>Updated_pre_IDs (will replace the column on the left)</th>\n",
       "      <th>counts</th>\n",
       "      <th>count %</th>\n",
       "      <th>postsynaptic_ID</th>\n",
       "      <th>Comments about synapses proofreading (e.g., false negatíve found)</th>\n",
       "      <th>URL buhmann postsynapses (annotate only as: true, false or false negative)</th>\n",
       "      <th>Synapses proofread (Y/N)</th>\n",
       "      <th>XYZ soma</th>\n",
       "      <th>XYZ</th>\n",
       "      <th>...</th>\n",
       "      <th>name</th>\n",
       "      <th>seg_id</th>\n",
       "      <th>twigs proofread (Y/N)</th>\n",
       "      <th>FlyWire proofread (Y/N)</th>\n",
       "      <th>identified_in</th>\n",
       "      <th>lab authorship (Y/N)</th>\n",
       "      <th>notes</th>\n",
       "      <th>annotations_link</th>\n",
       "      <th>Extra notes as comments (initials)</th>\n",
       "      <th>Working on</th>\n",
       "    </tr>\n",
       "  </thead>\n",
       "  <tbody>\n",
       "    <tr>\n",
       "      <th>2</th>\n",
       "      <td>720575940613808815</td>\n",
       "      <td>NaN</td>\n",
       "      <td>8</td>\n",
       "      <td>5.797101</td>\n",
       "      <td>7.205759e+17</td>\n",
       "      <td>NaN</td>\n",
       "      <td>https://ngl.flywire.ai/?json_url=https://globa...</td>\n",
       "      <td>y</td>\n",
       "      <td>59642, 87973, 5337</td>\n",
       "      <td>61058, 86308, 5533</td>\n",
       "      <td>...</td>\n",
       "      <td>Transmedullary neuron 16, Tm16, Tm16_R, [FBbt_...</td>\n",
       "      <td>7.205759e+17</td>\n",
       "      <td>N</td>\n",
       "      <td>Y</td>\n",
       "      <td>Fischbach &amp; Dittrich, 1989</td>\n",
       "      <td>Y</td>\n",
       "      <td>NaN</td>\n",
       "      <td>https://ngl.flywire.ai/?json_url=https://globa...</td>\n",
       "      <td>done</td>\n",
       "      <td>NaN</td>\n",
       "    </tr>\n",
       "    <tr>\n",
       "      <th>8</th>\n",
       "      <td>720575940630337644</td>\n",
       "      <td>NaN</td>\n",
       "      <td>4</td>\n",
       "      <td>2.898551</td>\n",
       "      <td>7.205759e+17</td>\n",
       "      <td>NaN</td>\n",
       "      <td>https://ngl.flywire.ai/?json_url=https://globa...</td>\n",
       "      <td>Y</td>\n",
       "      <td>56426, 86722, 5033</td>\n",
       "      <td>67347, 81704, 5231</td>\n",
       "      <td>...</td>\n",
       "      <td>Transmedullary neuron</td>\n",
       "      <td>7.205759e+17</td>\n",
       "      <td>N</td>\n",
       "      <td>N</td>\n",
       "      <td>Fischbach &amp; Dittrich, 1989</td>\n",
       "      <td>Y</td>\n",
       "      <td>NaN</td>\n",
       "      <td>https://ngl.flywire.ai/?json_url=https://globa...</td>\n",
       "      <td>done</td>\n",
       "      <td>NaN</td>\n",
       "    </tr>\n",
       "    <tr>\n",
       "      <th>19</th>\n",
       "      <td>720575940634230624</td>\n",
       "      <td>NaN</td>\n",
       "      <td>2</td>\n",
       "      <td>1.449275</td>\n",
       "      <td>7.205759e+17</td>\n",
       "      <td>NaN</td>\n",
       "      <td>https://ngl.flywire.ai/?json_url=https://globa...</td>\n",
       "      <td>y</td>\n",
       "      <td>62756, 91654, 5216</td>\n",
       "      <td>70845, 86040, 5527</td>\n",
       "      <td>...</td>\n",
       "      <td>Transmedullary neuron 16, Tm16, Tm16_R, [FBbt_...</td>\n",
       "      <td>7.205759e+17</td>\n",
       "      <td>NaN</td>\n",
       "      <td>Y</td>\n",
       "      <td>Fischbach &amp; Dittrich, 1989</td>\n",
       "      <td>Y</td>\n",
       "      <td>Common presynaptic partner with 72057594063724...</td>\n",
       "      <td>NaN</td>\n",
       "      <td>done</td>\n",
       "      <td>NaN</td>\n",
       "    </tr>\n",
       "    <tr>\n",
       "      <th>44</th>\n",
       "      <td>720575940638933045</td>\n",
       "      <td>NaN</td>\n",
       "      <td>3</td>\n",
       "      <td>2.857143</td>\n",
       "      <td>7.205759e+17</td>\n",
       "      <td>NaN</td>\n",
       "      <td>https://ngl.flywire.ai/?json_url=https://globa...</td>\n",
       "      <td>Y</td>\n",
       "      <td>51373, 80984, 5189</td>\n",
       "      <td>58304, 77518, 5086</td>\n",
       "      <td>...</td>\n",
       "      <td>Transmedullary neuron 16, Tm16, Tm16_R, [FBbt_...</td>\n",
       "      <td>7.205759e+17</td>\n",
       "      <td>N</td>\n",
       "      <td>Y</td>\n",
       "      <td>Fischbach &amp; Dittrich, 1989</td>\n",
       "      <td>NaN</td>\n",
       "      <td>NaN</td>\n",
       "      <td>https://ngl.flywire.ai/?json_url=https://globa...</td>\n",
       "      <td>done</td>\n",
       "      <td>NaN</td>\n",
       "    </tr>\n",
       "    <tr>\n",
       "      <th>45</th>\n",
       "      <td>720575940625179324</td>\n",
       "      <td>NaN</td>\n",
       "      <td>3</td>\n",
       "      <td>2.857143</td>\n",
       "      <td>7.205759e+17</td>\n",
       "      <td>NaN</td>\n",
       "      <td>https://ngl.flywire.ai/?json_url=https://globa...</td>\n",
       "      <td>Y</td>\n",
       "      <td>44553, 76026, 5387</td>\n",
       "      <td>56855, 72990, 5471</td>\n",
       "      <td>...</td>\n",
       "      <td>Transmedullary neuron 16, Tm16, Tm16_R, [FBbt_...</td>\n",
       "      <td>7.205759e+17</td>\n",
       "      <td>N</td>\n",
       "      <td>Y</td>\n",
       "      <td>NaN</td>\n",
       "      <td>Y</td>\n",
       "      <td>last 3-synapses partner</td>\n",
       "      <td>https://ngl.flywire.ai/?json_url=https://globa...</td>\n",
       "      <td>done</td>\n",
       "      <td>NaN</td>\n",
       "    </tr>\n",
       "  </tbody>\n",
       "</table>\n",
       "<p>5 rows × 28 columns</p>\n",
       "</div>"
      ],
      "text/plain": [
       "        presynaptic_ID  Updated_pre_IDs (will replace the column on the left)  \\\n",
       "2   720575940613808815                                                NaN       \n",
       "8   720575940630337644                                                NaN       \n",
       "19  720575940634230624                                                NaN       \n",
       "44  720575940638933045                                                NaN       \n",
       "45  720575940625179324                                                NaN       \n",
       "\n",
       "   counts   count %  postsynaptic_ID  \\\n",
       "2       8  5.797101     7.205759e+17   \n",
       "8       4  2.898551     7.205759e+17   \n",
       "19      2  1.449275     7.205759e+17   \n",
       "44      3  2.857143     7.205759e+17   \n",
       "45      3  2.857143     7.205759e+17   \n",
       "\n",
       "   Comments about synapses proofreading (e.g., false negatíve found)  \\\n",
       "2                                                 NaN                  \n",
       "8                                                 NaN                  \n",
       "19                                                NaN                  \n",
       "44                                                NaN                  \n",
       "45                                                NaN                  \n",
       "\n",
       "   URL buhmann postsynapses (annotate only as: true, false or false negative)  \\\n",
       "2   https://ngl.flywire.ai/?json_url=https://globa...                           \n",
       "8   https://ngl.flywire.ai/?json_url=https://globa...                           \n",
       "19  https://ngl.flywire.ai/?json_url=https://globa...                           \n",
       "44  https://ngl.flywire.ai/?json_url=https://globa...                           \n",
       "45  https://ngl.flywire.ai/?json_url=https://globa...                           \n",
       "\n",
       "   Synapses proofread (Y/N)            XYZ soma                 XYZ  ...  \\\n",
       "2                         y  59642, 87973, 5337  61058, 86308, 5533  ...   \n",
       "8                         Y  56426, 86722, 5033  67347, 81704, 5231  ...   \n",
       "19                        y  62756, 91654, 5216  70845, 86040, 5527  ...   \n",
       "44                        Y  51373, 80984, 5189  58304, 77518, 5086  ...   \n",
       "45                        Y  44553, 76026, 5387  56855, 72990, 5471  ...   \n",
       "\n",
       "                                                 name        seg_id  \\\n",
       "2   Transmedullary neuron 16, Tm16, Tm16_R, [FBbt_...  7.205759e+17   \n",
       "8                              Transmedullary neuron   7.205759e+17   \n",
       "19  Transmedullary neuron 16, Tm16, Tm16_R, [FBbt_...  7.205759e+17   \n",
       "44  Transmedullary neuron 16, Tm16, Tm16_R, [FBbt_...  7.205759e+17   \n",
       "45  Transmedullary neuron 16, Tm16, Tm16_R, [FBbt_...  7.205759e+17   \n",
       "\n",
       "    twigs proofread (Y/N) FlyWire proofread (Y/N)               identified_in  \\\n",
       "2                       N                       Y  Fischbach & Dittrich, 1989   \n",
       "8                       N                       N  Fischbach & Dittrich, 1989   \n",
       "19                    NaN                       Y  Fischbach & Dittrich, 1989   \n",
       "44                      N                       Y  Fischbach & Dittrich, 1989   \n",
       "45                      N                       Y                         NaN   \n",
       "\n",
       "   lab authorship (Y/N)                                              notes  \\\n",
       "2                     Y                                                NaN   \n",
       "8                     Y                                                NaN   \n",
       "19                    Y  Common presynaptic partner with 72057594063724...   \n",
       "44                  NaN                                                NaN   \n",
       "45                    Y                            last 3-synapses partner   \n",
       "\n",
       "                                     annotations_link  \\\n",
       "2   https://ngl.flywire.ai/?json_url=https://globa...   \n",
       "8   https://ngl.flywire.ai/?json_url=https://globa...   \n",
       "19                                                NaN   \n",
       "44  https://ngl.flywire.ai/?json_url=https://globa...   \n",
       "45  https://ngl.flywire.ai/?json_url=https://globa...   \n",
       "\n",
       "   Extra notes as comments (initials)  Working on  \n",
       "2                                done         NaN  \n",
       "8                                done         NaN  \n",
       "19                               done         NaN  \n",
       "44                               done         NaN  \n",
       "45                               done         NaN  \n",
       "\n",
       "[5 rows x 28 columns]"
      ]
     },
     "execution_count": 34,
     "metadata": {},
     "output_type": "execute_result"
    }
   ],
   "source": [
    "reference_neuron_type_df.head()"
   ]
  },
  {
   "cell_type": "markdown",
   "id": "2b1dac52",
   "metadata": {},
   "source": [
    "### 1.2 Loading data set"
   ]
  },
  {
   "cell_type": "code",
   "execution_count": null,
   "id": "afea16f3",
   "metadata": {},
   "outputs": [],
   "source": []
  },
  {
   "cell_type": "code",
   "execution_count": 14,
   "id": "96171ea7",
   "metadata": {},
   "outputs": [],
   "source": [
    "# Upload all presynaptic inputs for all Tm9 belonging to a patch in a single dataframe\n",
    "#Loading your IDs\n",
    "\n",
    "# Choose path and file\n",
    "import os\n",
    "\n",
    "dataPath = r'D:\\Connectomics data\\FlyWire\\Excels'\n",
    "dataPath = r'C:\\Users\\sebas\\Downloads'\n",
    "fileDate = '20230109'\n",
    "fileName = f'Tm9 proofreadings_{fileDate}.xlsx'\n",
    "filePath = os.path.join(dataPath,fileName)\n",
    "df = pd.read_excel(filePath)\n"
   ]
  },
  {
   "cell_type": "markdown",
   "id": "8d961da5",
   "metadata": {},
   "source": [
    "### 2. Cluster selection"
   ]
  },
  {
   "cell_type": "code",
   "execution_count": 10,
   "id": "1593e4df",
   "metadata": {},
   "outputs": [],
   "source": [
    "# Selecting cluster based on cluster ID\n",
    "c_id = 2.0\n",
    "filtered_df = df[df[\"cluster_id\"] == c_id].copy()\n",
    "segmentIDs = filtered_df[\"seg_id\"].tolist()\n"
   ]
  },
  {
   "cell_type": "code",
   "execution_count": 11,
   "id": "17becb34",
   "metadata": {},
   "outputs": [
    {
     "data": {
      "application/vnd.jupyter.widget-view+json": {
       "model_id": "",
       "version_major": 2,
       "version_minor": 0
      },
      "text/plain": [
       "Updating:   0%|          | 0/9 [00:00<?, ?it/s]"
      ]
     },
     "metadata": {},
     "output_type": "display_data"
    }
   ],
   "source": [
    "# Updating the IDs\n",
    "new_segmentIDs_df = flywire.update_ids(segmentIDs, stop_layer=2, supervoxels=None, timestamp=None, dataset='production', progress=True)\n",
    "new_segmentIDs = new_segmentIDs_df[\"new_id\"].tolist()\n"
   ]
  },
  {
   "cell_type": "markdown",
   "id": "4d8912fb",
   "metadata": {},
   "source": [
    "### 3. Finding other Tm9 based on popular presynaptic neurons"
   ]
  },
  {
   "cell_type": "code",
   "execution_count": 12,
   "id": "b3231d2c",
   "metadata": {},
   "outputs": [],
   "source": [
    "# Building the common presynapses dataframe (no Buhmann cleft_score filter applied)\n",
    "\n",
    "pre_synapses = flywire.synapses.fetch_synapses(new_segmentIDs, pre=False, post=True, attach=True, \n",
    "                                             min_score=0, clean=True, transmitters=False, \n",
    "                                             neuropils=True, batch_size=30, \n",
    "                                             dataset='production', progress=True,mat= \"live\")\n",
    "post_synapses = flywire.synapses.fetch_synapses(new_segmentIDs, pre=True, post=False, attach=True, \n",
    "                                             min_score=0, clean=True, transmitters=False, \n",
    "                                             neuropils=True, batch_size=30, \n",
    "                                             dataset='production', progress=True,mat= \"live\")"
   ]
  },
  {
   "cell_type": "code",
   "execution_count": 13,
   "id": "7fe9a04a",
   "metadata": {},
   "outputs": [],
   "source": [
    "# Selecting inputs from a single neuropile\n",
    "neuropile = 'ME_R' # String. 'LO_R', 'ME_R', ...\n",
    "neuropile_pre_synapses = pre_synapses[pre_synapses['neuropil'] == neuropile].copy()\n",
    "neuropile_post_synapses = post_synapses[post_synapses['neuropil'] == neuropile].copy()"
   ]
  },
  {
   "cell_type": "code",
   "execution_count": 14,
   "id": "a80b3fb1",
   "metadata": {},
   "outputs": [],
   "source": [
    "# Getting synaptic counts\n",
    "\n",
    "# Using FAFseg function\n",
    "synaptic_counts = fafbseg.flywire.synapses.synapse_counts(new_segmentIDs, by_neuropil=False, \n",
    "                                        min_score=0,mat='live', batch_size=10, dataset='production')"
   ]
  },
  {
   "cell_type": "code",
   "execution_count": 15,
   "id": "8a367231",
   "metadata": {},
   "outputs": [],
   "source": [
    "# Using my own function\n",
    "# Getting synapse_count data frame, among other interesting ones\n",
    "#Combining x,y,z columns for future purposes\n",
    "combine_xyz(pre_synapses) \n",
    "combine_xyz(post_synapses)\n",
    "count_pre, count_post, synapses_count_updated = synapse_count(pre_synapses, post_synapses)"
   ]
  },
  {
   "cell_type": "code",
   "execution_count": 16,
   "id": "709a0c09",
   "metadata": {},
   "outputs": [
    {
     "name": "stdout",
     "output_type": "stream",
     "text": [
      "631\n",
      "9\n"
     ]
    }
   ],
   "source": [
    "print(len(count_pre['presynaptic_ID'].unique()))\n",
    "index = count_pre.index\n",
    "print(len(index.unique()))"
   ]
  },
  {
   "cell_type": "markdown",
   "id": "adba660c",
   "metadata": {},
   "source": [
    "### 3.1 Getting the most popular presynaptic partners among the neurons in the patch"
   ]
  },
  {
   "cell_type": "code",
   "execution_count": 17,
   "id": "d80f8e3a",
   "metadata": {},
   "outputs": [
    {
     "name": "stdout",
     "output_type": "stream",
     "text": [
      "Comparing: 720575940633161005\n",
      "Done: 720575940633161005\n",
      "Comparing: 720575940628205800\n",
      "Done: 720575940628205800\n",
      "Comparing: 720575940622355226\n",
      "Done: 720575940622355226\n",
      "Comparing: 720575940624502013\n",
      "Done: 720575940624502013\n",
      "Comparing: 720575940617720413\n",
      "Done: 720575940617720413\n",
      "Comparing: 720575940622801366\n",
      "Done: 720575940622801366\n",
      "Comparing: 720575940612306650\n",
      "Done: 720575940612306650\n",
      "Comparing: 720575940619775281\n",
      "Done: 720575940619775281\n",
      "Comparing: 720575940631746090\n",
      "Done: 720575940631746090\n"
     ]
    }
   ],
   "source": [
    "#Pair-wise comparisons to find common presynaptic ids and rank them by popularity\n",
    "\n",
    "count_pre.sort_index(ascending=True)\n",
    "index_ids = count_pre.index.unique().tolist()\n",
    "popular_pre_ids_df = pd.DataFrame()\n",
    "for i in range(len(index_ids)):\n",
    "    print(f'Comparing: {index_ids[0]}')\n",
    "    reminding_ids = [s for s in index_ids if s != index_ids[0]]\n",
    "    #Creating reference df to be compared\n",
    "    reference_df = count_pre[count_pre.index == index_ids[0]].copy()\n",
    "    #Pair-wise comparison with other dataframes\n",
    "    common_df = pd.DataFrame()\n",
    "    for r_id in reminding_ids:\n",
    "        compare_to_df = count_pre[count_pre.index == r_id].copy()\n",
    "        curr_comparison_df = reference_df[reference_df['presynaptic_ID'].isin(compare_to_df['presynaptic_ID'])]\n",
    "        data_frames = [common_df, curr_comparison_df]\n",
    "        common_df = pd.concat(data_frames)\n",
    "        popular_pre_ids = common_df['presynaptic_ID'].value_counts()\n",
    "        # Putting together all the pair/wise comparisons in a single dataframe\n",
    "        popular_pre_ids_df = pd.concat([popular_pre_ids_df, popular_pre_ids.to_frame()])\n",
    "        \n",
    "    #Removing the id that has done all comparisons\n",
    "    print(f'Done: {index_ids[0]}')\n",
    "    index_ids.remove(index_ids[0])\n",
    "        \n",
    "        \n"
   ]
  },
  {
   "cell_type": "code",
   "execution_count": 18,
   "id": "4601048f",
   "metadata": {},
   "outputs": [
    {
     "data": {
      "text/html": [
       "<div>\n",
       "<style scoped>\n",
       "    .dataframe tbody tr th:only-of-type {\n",
       "        vertical-align: middle;\n",
       "    }\n",
       "\n",
       "    .dataframe tbody tr th {\n",
       "        vertical-align: top;\n",
       "    }\n",
       "\n",
       "    .dataframe thead th {\n",
       "        text-align: right;\n",
       "    }\n",
       "</style>\n",
       "<table border=\"1\" class=\"dataframe\">\n",
       "  <thead>\n",
       "    <tr style=\"text-align: right;\">\n",
       "      <th></th>\n",
       "      <th>popularity rank</th>\n",
       "    </tr>\n",
       "  </thead>\n",
       "  <tbody>\n",
       "    <tr>\n",
       "      <th>720575940621028699</th>\n",
       "      <td>36</td>\n",
       "    </tr>\n",
       "    <tr>\n",
       "      <th>720575940630334720</th>\n",
       "      <td>22</td>\n",
       "    </tr>\n",
       "    <tr>\n",
       "      <th>720575940618251165</th>\n",
       "      <td>20</td>\n",
       "    </tr>\n",
       "    <tr>\n",
       "      <th>720575940610883630</th>\n",
       "      <td>19</td>\n",
       "    </tr>\n",
       "    <tr>\n",
       "      <th>720575940631727146</th>\n",
       "      <td>16</td>\n",
       "    </tr>\n",
       "    <tr>\n",
       "      <th>720575940626719065</th>\n",
       "      <td>12</td>\n",
       "    </tr>\n",
       "    <tr>\n",
       "      <th>720575940628005007</th>\n",
       "      <td>11</td>\n",
       "    </tr>\n",
       "    <tr>\n",
       "      <th>720575940623001599</th>\n",
       "      <td>11</td>\n",
       "    </tr>\n",
       "    <tr>\n",
       "      <th>720575940614448746</th>\n",
       "      <td>11</td>\n",
       "    </tr>\n",
       "    <tr>\n",
       "      <th>720575940617548893</th>\n",
       "      <td>11</td>\n",
       "    </tr>\n",
       "    <tr>\n",
       "      <th>720575940622242342</th>\n",
       "      <td>9</td>\n",
       "    </tr>\n",
       "    <tr>\n",
       "      <th>720575940630187511</th>\n",
       "      <td>8</td>\n",
       "    </tr>\n",
       "    <tr>\n",
       "      <th>720575940623740051</th>\n",
       "      <td>7</td>\n",
       "    </tr>\n",
       "    <tr>\n",
       "      <th>720575940635489131</th>\n",
       "      <td>7</td>\n",
       "    </tr>\n",
       "    <tr>\n",
       "      <th>720575940628223729</th>\n",
       "      <td>7</td>\n",
       "    </tr>\n",
       "    <tr>\n",
       "      <th>720575940636247214</th>\n",
       "      <td>6</td>\n",
       "    </tr>\n",
       "    <tr>\n",
       "      <th>720575940637231278</th>\n",
       "      <td>6</td>\n",
       "    </tr>\n",
       "    <tr>\n",
       "      <th>720575940638628934</th>\n",
       "      <td>6</td>\n",
       "    </tr>\n",
       "    <tr>\n",
       "      <th>720575940617791522</th>\n",
       "      <td>5</td>\n",
       "    </tr>\n",
       "    <tr>\n",
       "      <th>720575940629797115</th>\n",
       "      <td>5</td>\n",
       "    </tr>\n",
       "    <tr>\n",
       "      <th>720575940630918028</th>\n",
       "      <td>5</td>\n",
       "    </tr>\n",
       "    <tr>\n",
       "      <th>720575940614374451</th>\n",
       "      <td>5</td>\n",
       "    </tr>\n",
       "    <tr>\n",
       "      <th>720575940632500271</th>\n",
       "      <td>4</td>\n",
       "    </tr>\n",
       "    <tr>\n",
       "      <th>720575940611012818</th>\n",
       "      <td>4</td>\n",
       "    </tr>\n",
       "    <tr>\n",
       "      <th>720575940624989368</th>\n",
       "      <td>4</td>\n",
       "    </tr>\n",
       "    <tr>\n",
       "      <th>720575940627185277</th>\n",
       "      <td>4</td>\n",
       "    </tr>\n",
       "    <tr>\n",
       "      <th>720575940611106021</th>\n",
       "      <td>4</td>\n",
       "    </tr>\n",
       "    <tr>\n",
       "      <th>720575940626855170</th>\n",
       "      <td>4</td>\n",
       "    </tr>\n",
       "    <tr>\n",
       "      <th>720575940608094729</th>\n",
       "      <td>4</td>\n",
       "    </tr>\n",
       "    <tr>\n",
       "      <th>720575940615072658</th>\n",
       "      <td>4</td>\n",
       "    </tr>\n",
       "    <tr>\n",
       "      <th>720575940619869144</th>\n",
       "      <td>4</td>\n",
       "    </tr>\n",
       "    <tr>\n",
       "      <th>720575940629188431</th>\n",
       "      <td>3</td>\n",
       "    </tr>\n",
       "    <tr>\n",
       "      <th>720575940645336855</th>\n",
       "      <td>3</td>\n",
       "    </tr>\n",
       "    <tr>\n",
       "      <th>720575940624947955</th>\n",
       "      <td>3</td>\n",
       "    </tr>\n",
       "    <tr>\n",
       "      <th>720575940637788213</th>\n",
       "      <td>3</td>\n",
       "    </tr>\n",
       "    <tr>\n",
       "      <th>720575940629908730</th>\n",
       "      <td>3</td>\n",
       "    </tr>\n",
       "    <tr>\n",
       "      <th>720575940630455095</th>\n",
       "      <td>3</td>\n",
       "    </tr>\n",
       "    <tr>\n",
       "      <th>720575940622508156</th>\n",
       "      <td>3</td>\n",
       "    </tr>\n",
       "    <tr>\n",
       "      <th>720575940620117584</th>\n",
       "      <td>2</td>\n",
       "    </tr>\n",
       "    <tr>\n",
       "      <th>720575940633581282</th>\n",
       "      <td>2</td>\n",
       "    </tr>\n",
       "    <tr>\n",
       "      <th>720575940620459201</th>\n",
       "      <td>2</td>\n",
       "    </tr>\n",
       "    <tr>\n",
       "      <th>720575940635065239</th>\n",
       "      <td>2</td>\n",
       "    </tr>\n",
       "    <tr>\n",
       "      <th>720575940632459345</th>\n",
       "      <td>2</td>\n",
       "    </tr>\n",
       "    <tr>\n",
       "      <th>720575940618174237</th>\n",
       "      <td>2</td>\n",
       "    </tr>\n",
       "    <tr>\n",
       "      <th>720575940632418605</th>\n",
       "      <td>2</td>\n",
       "    </tr>\n",
       "    <tr>\n",
       "      <th>720575940626392010</th>\n",
       "      <td>2</td>\n",
       "    </tr>\n",
       "    <tr>\n",
       "      <th>720575940623650320</th>\n",
       "      <td>2</td>\n",
       "    </tr>\n",
       "    <tr>\n",
       "      <th>720575940608590601</th>\n",
       "      <td>2</td>\n",
       "    </tr>\n",
       "    <tr>\n",
       "      <th>720575940626034435</th>\n",
       "      <td>2</td>\n",
       "    </tr>\n",
       "    <tr>\n",
       "      <th>720575940633567167</th>\n",
       "      <td>2</td>\n",
       "    </tr>\n",
       "    <tr>\n",
       "      <th>720575940626970969</th>\n",
       "      <td>2</td>\n",
       "    </tr>\n",
       "    <tr>\n",
       "      <th>720575940611273898</th>\n",
       "      <td>2</td>\n",
       "    </tr>\n",
       "    <tr>\n",
       "      <th>720575940638143551</th>\n",
       "      <td>2</td>\n",
       "    </tr>\n",
       "    <tr>\n",
       "      <th>720575940641551605</th>\n",
       "      <td>2</td>\n",
       "    </tr>\n",
       "    <tr>\n",
       "      <th>720575940641051600</th>\n",
       "      <td>2</td>\n",
       "    </tr>\n",
       "    <tr>\n",
       "      <th>720575940621225581</th>\n",
       "      <td>1</td>\n",
       "    </tr>\n",
       "    <tr>\n",
       "      <th>720575940652840950</th>\n",
       "      <td>1</td>\n",
       "    </tr>\n",
       "    <tr>\n",
       "      <th>720575940631870289</th>\n",
       "      <td>1</td>\n",
       "    </tr>\n",
       "  </tbody>\n",
       "</table>\n",
       "</div>"
      ],
      "text/plain": [
       "                    popularity rank\n",
       "720575940621028699               36\n",
       "720575940630334720               22\n",
       "720575940618251165               20\n",
       "720575940610883630               19\n",
       "720575940631727146               16\n",
       "720575940626719065               12\n",
       "720575940628005007               11\n",
       "720575940623001599               11\n",
       "720575940614448746               11\n",
       "720575940617548893               11\n",
       "720575940622242342                9\n",
       "720575940630187511                8\n",
       "720575940623740051                7\n",
       "720575940635489131                7\n",
       "720575940628223729                7\n",
       "720575940636247214                6\n",
       "720575940637231278                6\n",
       "720575940638628934                6\n",
       "720575940617791522                5\n",
       "720575940629797115                5\n",
       "720575940630918028                5\n",
       "720575940614374451                5\n",
       "720575940632500271                4\n",
       "720575940611012818                4\n",
       "720575940624989368                4\n",
       "720575940627185277                4\n",
       "720575940611106021                4\n",
       "720575940626855170                4\n",
       "720575940608094729                4\n",
       "720575940615072658                4\n",
       "720575940619869144                4\n",
       "720575940629188431                3\n",
       "720575940645336855                3\n",
       "720575940624947955                3\n",
       "720575940637788213                3\n",
       "720575940629908730                3\n",
       "720575940630455095                3\n",
       "720575940622508156                3\n",
       "720575940620117584                2\n",
       "720575940633581282                2\n",
       "720575940620459201                2\n",
       "720575940635065239                2\n",
       "720575940632459345                2\n",
       "720575940618174237                2\n",
       "720575940632418605                2\n",
       "720575940626392010                2\n",
       "720575940623650320                2\n",
       "720575940608590601                2\n",
       "720575940626034435                2\n",
       "720575940633567167                2\n",
       "720575940626970969                2\n",
       "720575940611273898                2\n",
       "720575940638143551                2\n",
       "720575940641551605                2\n",
       "720575940641051600                2\n",
       "720575940621225581                1\n",
       "720575940652840950                1\n",
       "720575940631870289                1"
      ]
     },
     "execution_count": 18,
     "metadata": {},
     "output_type": "execute_result"
    }
   ],
   "source": [
    "# Popularity rank\n",
    "popular_pre_ids_df.index.value_counts().to_frame(name ='popularity rank')"
   ]
  },
  {
   "cell_type": "code",
   "execution_count": 19,
   "id": "a810deb5",
   "metadata": {},
   "outputs": [],
   "source": [
    "# Choosing some postsynaptic partners from the most popular Tm9 presynaptic parters to uncover other Tm9s\n",
    "popular_pre_ids = [720575940630334720,720575940631727146,720575940626719065,720575940628005007,720575940623001599,720575940614448746]\n"
   ]
  },
  {
   "cell_type": "markdown",
   "id": "a9366a38",
   "metadata": {},
   "source": [
    "### 3.2 Connectivity of the popular presynaptic partners"
   ]
  },
  {
   "cell_type": "code",
   "execution_count": 20,
   "id": "27d04115",
   "metadata": {},
   "outputs": [],
   "source": [
    "# Average connectivity with those Tm9s\n",
    "popular_id_count_ls = []\n",
    "for p_id in popular_pre_ids:\n",
    "    \n",
    "    #Retrieve all postsynaptic partners with min cleft_score 50!:\n",
    "    post_synapses = flywire.synapses.fetch_synapses(p_id, pre=True, post=False, attach=True, \n",
    "                                             min_score=50, clean=True, transmitters=False, \n",
    "                                             neuropils=True, batch_size=30, \n",
    "                                             dataset='production', progress=True,mat= \"live\")\n",
    "    post_count_ls = []\n",
    "    for post_id in new_segmentIDs:\n",
    "        temp_post_synapses = post_synapses[post_synapses['post']==post_id].copy()\n",
    "        temp_count = len(temp_post_synapses)\n",
    "        post_count_ls.append(temp_count)\n",
    "    popular_id_count_ls.append(post_count_ls)\n",
    "    \n",
    "    \n"
   ]
  },
  {
   "cell_type": "code",
   "execution_count": 21,
   "id": "614186f6",
   "metadata": {},
   "outputs": [
    {
     "data": {
      "text/plain": [
       "[[0, 0, 2, 0, 0, 1, 2, 0, 0],\n",
       " [2, 1, 2, 0, 0, 0, 1, 0, 0],\n",
       " [0, 0, 0, 0, 4, 0, 4, 5, 4],\n",
       " [5, 7, 1, 0, 0, 0, 0, 0, 0],\n",
       " [3, 0, 10, 0, 0, 0, 4, 1, 0],\n",
       " [3, 4, 3, 0, 0, 0, 0, 0, 0]]"
      ]
     },
     "execution_count": 21,
     "metadata": {},
     "output_type": "execute_result"
    }
   ],
   "source": [
    "popular_id_count_ls "
   ]
  },
  {
   "cell_type": "code",
   "execution_count": 22,
   "id": "54e5899d",
   "metadata": {},
   "outputs": [],
   "source": [
    "# For specific popular presynaptic partner, based on counts, retrieve postsynaptic parters where we might find other Tm9s\n",
    "p_id = [720575940614448746]\n",
    "\n",
    "# Synaptic counts\n",
    "pre_synapses = flywire.synapses.fetch_synapses(p_id, pre=False, post=True, attach=True, \n",
    "                                             min_score=50, clean=True, transmitters=False, \n",
    "                                             neuropils=True, batch_size=30, \n",
    "                                             dataset='production', progress=True,mat= \"live\")\n",
    "post_synapses = flywire.synapses.fetch_synapses(p_id, pre=True, post=False, attach=True, \n",
    "                                             min_score=50, clean=True, transmitters=False, \n",
    "                                             neuropils=True, batch_size=30, \n",
    "                                             dataset='production', progress=True,mat= \"live\")"
   ]
  },
  {
   "cell_type": "code",
   "execution_count": 23,
   "id": "533509e9",
   "metadata": {},
   "outputs": [],
   "source": [
    "#Neuropile filter\n",
    "# Selecting inputs from a single neuropile\n",
    "neuropile = 'ME_R' # String. 'LO_R', 'ME_R', ...\n",
    "neuropile_pre_synapses = pre_synapses[pre_synapses['neuropil'] == neuropile].copy()\n",
    "neuropile_post_synapses = post_synapses[post_synapses['neuropil'] == neuropile].copy()"
   ]
  },
  {
   "cell_type": "code",
   "execution_count": 24,
   "id": "401c86cd",
   "metadata": {},
   "outputs": [],
   "source": [
    "# Using FAFseg function\n",
    "synaptic_counts = fafbseg.flywire.synapses.synapse_counts(p_id, by_neuropil=True, \n",
    "                                        min_score=50,mat='live', batch_size=10, dataset='production')\n"
   ]
  },
  {
   "cell_type": "code",
   "execution_count": 25,
   "id": "1bd93192",
   "metadata": {},
   "outputs": [
    {
     "data": {
      "text/html": [
       "<div>\n",
       "<style scoped>\n",
       "    .dataframe tbody tr th:only-of-type {\n",
       "        vertical-align: middle;\n",
       "    }\n",
       "\n",
       "    .dataframe tbody tr th {\n",
       "        vertical-align: top;\n",
       "    }\n",
       "\n",
       "    .dataframe thead th {\n",
       "        text-align: right;\n",
       "    }\n",
       "</style>\n",
       "<table border=\"1\" class=\"dataframe\">\n",
       "  <thead>\n",
       "    <tr style=\"text-align: right;\">\n",
       "      <th></th>\n",
       "      <th></th>\n",
       "      <th>pre</th>\n",
       "      <th>post</th>\n",
       "    </tr>\n",
       "    <tr>\n",
       "      <th>id</th>\n",
       "      <th>neuropil</th>\n",
       "      <th></th>\n",
       "      <th></th>\n",
       "    </tr>\n",
       "  </thead>\n",
       "  <tbody>\n",
       "    <tr>\n",
       "      <th rowspan=\"2\" valign=\"top\">720575940614448746</th>\n",
       "      <th>LO_R</th>\n",
       "      <td>711</td>\n",
       "      <td>151</td>\n",
       "    </tr>\n",
       "    <tr>\n",
       "      <th>ME_R</th>\n",
       "      <td>1331</td>\n",
       "      <td>484</td>\n",
       "    </tr>\n",
       "  </tbody>\n",
       "</table>\n",
       "</div>"
      ],
      "text/plain": [
       "                              pre  post\n",
       "id                 neuropil            \n",
       "720575940614448746 LO_R       711   151\n",
       "                   ME_R      1331   484"
      ]
     },
     "execution_count": 25,
     "metadata": {},
     "output_type": "execute_result"
    }
   ],
   "source": [
    "synaptic_counts"
   ]
  },
  {
   "cell_type": "code",
   "execution_count": 26,
   "id": "573445d5",
   "metadata": {},
   "outputs": [],
   "source": [
    "# Using my own function\n",
    "# Getting synapse_count data frame, among other interesting ones\n",
    "#Combining x,y,z columns for future purposes\n",
    "combine_xyz(neuropile_pre_synapses) \n",
    "combine_xyz(neuropile_post_synapses)\n",
    "count_pre, count_post, synapses_count_updated = synapse_count(neuropile_pre_synapses, neuropile_post_synapses)"
   ]
  },
  {
   "cell_type": "code",
   "execution_count": 27,
   "id": "44f44b1e",
   "metadata": {},
   "outputs": [
    {
     "name": "stdout",
     "output_type": "stream",
     "text": [
      "Postynaptic segments: https://ngl.flywire.ai/?json_url=https://globalv1.flywire-daf.com/nglstate/4925102680440832\n"
     ]
    }
   ],
   "source": [
    "#Getting postsynaptic dis by filtering connectivity\n",
    "count_post['counts'] = count_post['counts'].astype('int')\n",
    "post_id_ls = count_post[(count_post['counts']>=5) & (count_post['counts']<=8)]['postsynaptic_ID'].tolist()\n",
    "\n",
    "#Generate neuroglancer link to visually rvaluate the presence of other Tm9s\n",
    "url = flywire.encode_url(post_id_ls)\n",
    "print(f'Postynaptic segments: {url}')\n"
   ]
  },
  {
   "cell_type": "code",
   "execution_count": 32,
   "id": "b8e6f7eb",
   "metadata": {},
   "outputs": [
    {
     "data": {
      "application/vnd.jupyter.widget-view+json": {
       "model_id": "",
       "version_major": 2,
       "version_minor": 0
      },
      "text/plain": [
       "Updating:   0%|          | 0/9 [00:00<?, ?it/s]"
      ]
     },
     "metadata": {},
     "output_type": "display_data"
    }
   ],
   "source": [
    "\n",
    "#Existing\n",
    "Tm9_ids = [720575940624502013,\n",
    "720575940617720413,\n",
    "720575940628205800,\n",
    "720575940631746090,\n",
    "720575940633161005,\n",
    "720575940622801366,\n",
    "720575940619775281,\n",
    "720575940612306650,\n",
    "720575940622355226]\n",
    "\n",
    "new_Tm9_ids_df = flywire.update_ids(Tm9_ids, stop_layer=2, supervoxels=None, timestamp=None, dataset='production', progress=True)\n"
   ]
  },
  {
   "cell_type": "code",
   "execution_count": 30,
   "id": "5b05d36a",
   "metadata": {},
   "outputs": [
    {
     "data": {
      "text/plain": [
       "'https://ngl.flywire.ai/?json_url=https://globalv1.flywire-daf.com/nglstate/5010202222919680'"
      ]
     },
     "execution_count": 30,
     "metadata": {},
     "output_type": "execute_result"
    }
   ],
   "source": [
    "flywire.encode_url(Tm9_ids)"
   ]
  },
  {
   "cell_type": "code",
   "execution_count": 33,
   "id": "b2e3e624",
   "metadata": {},
   "outputs": [
    {
     "data": {
      "text/html": [
       "<div>\n",
       "<style scoped>\n",
       "    .dataframe tbody tr th:only-of-type {\n",
       "        vertical-align: middle;\n",
       "    }\n",
       "\n",
       "    .dataframe tbody tr th {\n",
       "        vertical-align: top;\n",
       "    }\n",
       "\n",
       "    .dataframe thead th {\n",
       "        text-align: right;\n",
       "    }\n",
       "</style>\n",
       "<table border=\"1\" class=\"dataframe\">\n",
       "  <thead>\n",
       "    <tr style=\"text-align: right;\">\n",
       "      <th></th>\n",
       "      <th>old_id</th>\n",
       "      <th>new_id</th>\n",
       "      <th>confidence</th>\n",
       "      <th>changed</th>\n",
       "    </tr>\n",
       "  </thead>\n",
       "  <tbody>\n",
       "    <tr>\n",
       "      <th>0</th>\n",
       "      <td>720575940624502013</td>\n",
       "      <td>720575940624502013</td>\n",
       "      <td>1</td>\n",
       "      <td>False</td>\n",
       "    </tr>\n",
       "    <tr>\n",
       "      <th>1</th>\n",
       "      <td>720575940617720413</td>\n",
       "      <td>720575940617720413</td>\n",
       "      <td>1</td>\n",
       "      <td>False</td>\n",
       "    </tr>\n",
       "    <tr>\n",
       "      <th>2</th>\n",
       "      <td>720575940628205800</td>\n",
       "      <td>720575940628205800</td>\n",
       "      <td>1</td>\n",
       "      <td>False</td>\n",
       "    </tr>\n",
       "    <tr>\n",
       "      <th>3</th>\n",
       "      <td>720575940631746090</td>\n",
       "      <td>720575940631746090</td>\n",
       "      <td>1</td>\n",
       "      <td>False</td>\n",
       "    </tr>\n",
       "    <tr>\n",
       "      <th>4</th>\n",
       "      <td>720575940633161005</td>\n",
       "      <td>720575940633161005</td>\n",
       "      <td>1</td>\n",
       "      <td>False</td>\n",
       "    </tr>\n",
       "    <tr>\n",
       "      <th>5</th>\n",
       "      <td>720575940622801366</td>\n",
       "      <td>720575940622801366</td>\n",
       "      <td>1</td>\n",
       "      <td>False</td>\n",
       "    </tr>\n",
       "    <tr>\n",
       "      <th>6</th>\n",
       "      <td>720575940619775281</td>\n",
       "      <td>720575940619775281</td>\n",
       "      <td>1</td>\n",
       "      <td>False</td>\n",
       "    </tr>\n",
       "    <tr>\n",
       "      <th>7</th>\n",
       "      <td>720575940612306650</td>\n",
       "      <td>720575940612306650</td>\n",
       "      <td>1</td>\n",
       "      <td>False</td>\n",
       "    </tr>\n",
       "    <tr>\n",
       "      <th>8</th>\n",
       "      <td>720575940622355226</td>\n",
       "      <td>720575940622355226</td>\n",
       "      <td>1</td>\n",
       "      <td>False</td>\n",
       "    </tr>\n",
       "  </tbody>\n",
       "</table>\n",
       "</div>"
      ],
      "text/plain": [
       "               old_id              new_id  confidence  changed\n",
       "0  720575940624502013  720575940624502013           1    False\n",
       "1  720575940617720413  720575940617720413           1    False\n",
       "2  720575940628205800  720575940628205800           1    False\n",
       "3  720575940631746090  720575940631746090           1    False\n",
       "4  720575940633161005  720575940633161005           1    False\n",
       "5  720575940622801366  720575940622801366           1    False\n",
       "6  720575940619775281  720575940619775281           1    False\n",
       "7  720575940612306650  720575940612306650           1    False\n",
       "8  720575940622355226  720575940622355226           1    False"
      ]
     },
     "execution_count": 33,
     "metadata": {},
     "output_type": "execute_result"
    }
   ],
   "source": [
    "new_Tm9_ids_df"
   ]
  },
  {
   "cell_type": "code",
   "execution_count": null,
   "id": "f5d584b5",
   "metadata": {},
   "outputs": [],
   "source": []
  }
 ],
 "metadata": {
  "kernelspec": {
   "display_name": "Python 3",
   "language": "python",
   "name": "python3"
  },
  "language_info": {
   "codemirror_mode": {
    "name": "ipython",
    "version": 3
   },
   "file_extension": ".py",
   "mimetype": "text/x-python",
   "name": "python",
   "nbconvert_exporter": "python",
   "pygments_lexer": "ipython3",
   "version": "3.7.4"
  },
  "vscode": {
   "interpreter": {
    "hash": "55c4d5a31b5732887a8ae1b8e753e31c6845ae1153dd13126928af3876e534ac"
   }
  }
 },
 "nbformat": 4,
 "nbformat_minor": 5
}
